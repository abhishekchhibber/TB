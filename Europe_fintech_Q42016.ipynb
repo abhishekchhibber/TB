{
 "cells": [
  {
   "cell_type": "code",
   "execution_count": 1,
   "metadata": {
    "collapsed": false
   },
   "outputs": [],
   "source": [
    "import pymysql\n",
    "import pymysql.cursors\n",
    "import csv\n",
    "from collections import Counter\n",
    "import pandas as pd\n",
    "import numpy as np\n"
   ]
  },
  {
   "cell_type": "code",
   "execution_count": 2,
   "metadata": {
    "collapsed": true
   },
   "outputs": [],
   "source": [
    "# Connect to the database\n",
    "connection = pymysql.connect(host='127.0.0.1',\n",
    "                             user='root',\n",
    "                             password='abhi1234',\n",
    "                             db='fintech_2016',\n",
    "                             port=3306,\n",
    "                             charset='utf8'\n",
    "                             )\n",
    "cursor = connection.cursor()"
   ]
  },
  {
   "cell_type": "markdown",
   "metadata": {},
   "source": [
    "#### Getting Table Names"
   ]
  },
  {
   "cell_type": "code",
   "execution_count": 3,
   "metadata": {
    "collapsed": false
   },
   "outputs": [
    {
     "data": {
      "text/plain": [
       "2"
      ]
     },
     "execution_count": 3,
     "metadata": {},
     "output_type": "execute_result"
    }
   ],
   "source": [
    "\n",
    "cursor.execute (\" SHOW TABLES   \")"
   ]
  },
  {
   "cell_type": "code",
   "execution_count": 4,
   "metadata": {
    "collapsed": false
   },
   "outputs": [],
   "source": [
    "tabls = cursor.fetchall()\n"
   ]
  },
  {
   "cell_type": "code",
   "execution_count": 5,
   "metadata": {
    "collapsed": false
   },
   "outputs": [
    {
     "name": "stdout",
     "output_type": "stream",
     "text": [
      "(u'fintech_15',)\n",
      "(u'fintech_16',)\n"
     ]
    }
   ],
   "source": [
    "for a in tabls:\n",
    "    print a"
   ]
  },
  {
   "cell_type": "code",
   "execution_count": 6,
   "metadata": {
    "collapsed": true
   },
   "outputs": [],
   "source": [
    "tab = \"fintech_16\""
   ]
  },
  {
   "cell_type": "markdown",
   "metadata": {},
   "source": [
    "#### Column Selection"
   ]
  },
  {
   "cell_type": "code",
   "execution_count": 7,
   "metadata": {
    "collapsed": false
   },
   "outputs": [
    {
     "data": {
      "text/plain": [
       "14"
      ]
     },
     "execution_count": 7,
     "metadata": {},
     "output_type": "execute_result"
    }
   ],
   "source": [
    "cursor.execute(\"  SHOW COLUMNS FROM `fintech_16`     \")"
   ]
  },
  {
   "cell_type": "code",
   "execution_count": 8,
   "metadata": {
    "collapsed": false
   },
   "outputs": [],
   "source": [
    "cols = cursor.fetchall()\n"
   ]
  },
  {
   "cell_type": "code",
   "execution_count": 9,
   "metadata": {
    "collapsed": false
   },
   "outputs": [
    {
     "name": "stdout",
     "output_type": "stream",
     "text": [
      "0 ID\n",
      "1 Title\n",
      "2 Content\n",
      "3 Snippet\n",
      "4 Link\n",
      "5 Date\n",
      "6 Source\n",
      "7 Trend\n",
      "8 Segment\n",
      "9 Company\n",
      "10 Country\n",
      "11 Continent\n",
      "12 Investment (US$ million)\n",
      "13 Investors\n"
     ]
    }
   ],
   "source": [
    "x = 0\n",
    "for i in cols:\n",
    "    \n",
    "    print x, i[0]\n",
    "    x = x+1"
   ]
  },
  {
   "cell_type": "markdown",
   "metadata": {},
   "source": [
    "### Country"
   ]
  },
  {
   "cell_type": "code",
   "execution_count": 10,
   "metadata": {
    "collapsed": false
   },
   "outputs": [],
   "source": [
    "con = \"'UK'\""
   ]
  },
  {
   "cell_type": "code",
   "execution_count": 11,
   "metadata": {
    "collapsed": true
   },
   "outputs": [],
   "source": [
    "\n",
    "cont = \"'%Europe%'\""
   ]
  },
  {
   "cell_type": "markdown",
   "metadata": {},
   "source": [
    "### _Functions_"
   ]
  },
  {
   "cell_type": "markdown",
   "metadata": {},
   "source": [
    "#### Fun: Unique values of a table"
   ]
  },
  {
   "cell_type": "code",
   "execution_count": 12,
   "metadata": {
    "collapsed": false
   },
   "outputs": [],
   "source": [
    "def unique (col1):\n",
    "    col = col1\n",
    "    list_a = [ ]\n",
    "    qw = ''' SELECT DISTINCT(`%s`) AS `%s` FROM `%s`  ORDER BY `%s` DESC   ''' %(col,col,tab,col)\n",
    "    cursor.execute (qw)\n",
    "    fetcher = cursor.fetchall()\n",
    "    for one in fetcher:\n",
    "        tick = one[0]\n",
    "        tick = tick.split(\",\")\n",
    "        for i in range (len(tick)):\n",
    "            if tick[i] in list_a:\n",
    "                pass\n",
    "            else:\n",
    "                list_a.append(tick[i])\n",
    "    print \"Total Unique Values: \"+str(len(list_a))\n",
    "    return list_a\n",
    "            \n",
    "    "
   ]
  },
  {
   "cell_type": "code",
   "execution_count": 13,
   "metadata": {
    "collapsed": false
   },
   "outputs": [
    {
     "name": "stdout",
     "output_type": "stream",
     "text": [
      "Total Unique Values: 44\n"
     ]
    }
   ],
   "source": [
    "d = unique (\"Country\") #enters col name, outputs as a list\n",
    "# always out it in form of a list"
   ]
  },
  {
   "cell_type": "code",
   "execution_count": 14,
   "metadata": {
    "collapsed": false
   },
   "outputs": [
    {
     "data": {
      "text/plain": [
       "44"
      ]
     },
     "execution_count": 14,
     "metadata": {},
     "output_type": "execute_result"
    }
   ],
   "source": [
    "len(d)"
   ]
  },
  {
   "cell_type": "markdown",
   "metadata": {},
   "source": [
    "#### Getting Count of unique values "
   ]
  },
  {
   "cell_type": "code",
   "execution_count": 15,
   "metadata": {
    "collapsed": false
   },
   "outputs": [],
   "source": [
    "def val_count(u_val):\n",
    "    list_2 = [ ]\n",
    "    for a in u_val:\n",
    "        b = a[0]\n",
    "        if len(b) > 1:\n",
    "            b = b.split(\",\")\n",
    "        for i in range (len(b)):\n",
    "            list_2.append(b[i])\n",
    "    c = Counter( list_2 )\n",
    "    d = c.items()# It's a list\n",
    "    f = sorted(d, key=lambda x: x[1], reverse=True)\n",
    "    for e in f:\n",
    "        print e[0]+\":\"+str(e[1])+\":\"+format(((float(e[1])/len(list_2))*100),'.1f')+\"%\"\n",
    "    return \n"
   ]
  },
  {
   "cell_type": "code",
   "execution_count": null,
   "metadata": {
    "collapsed": true
   },
   "outputs": [],
   "source": []
  },
  {
   "cell_type": "code",
   "execution_count": 16,
   "metadata": {
    "collapsed": false
   },
   "outputs": [
    {
     "data": {
      "text/plain": [
       "35"
      ]
     },
     "execution_count": 16,
     "metadata": {},
     "output_type": "execute_result"
    }
   ],
   "source": [
    "cursor.execute (\" SELECT *  FROM `%s` WHERE `Continent` LIKE %s AND `Date` BETWEEN '2016-10-01' AND '2016-12-31'  \"%(tab,cont))"
   ]
  },
  {
   "cell_type": "code",
   "execution_count": 17,
   "metadata": {
    "collapsed": true
   },
   "outputs": [],
   "source": [
    "a_cnt = cursor.fetchall()"
   ]
  },
  {
   "cell_type": "code",
   "execution_count": 18,
   "metadata": {
    "collapsed": false
   },
   "outputs": [
    {
     "name": "stdout",
     "output_type": "stream",
     "text": [
      "Europe\n",
      "Europe\n",
      "Europe\n",
      "Europe\n",
      "Europe\n",
      "Europe\n",
      "Europe\n",
      "Europe\n",
      "Europe\n",
      "Europe\n",
      "Europe\n",
      "Europe\n",
      "Europe\n",
      "Europe\n",
      "Europe,Asia\n",
      "Europe\n",
      "Europe\n",
      "Europe\n",
      "Europe\n",
      "Europe\n",
      "Europe\n",
      "Europe\n",
      "Europe\n",
      "Europe\n",
      "Europe,Asia\n",
      "Europe\n",
      "Europe\n",
      "Europe\n",
      "Europe\n",
      "Europe\n",
      "Europe\n",
      "Europe\n",
      "Europe\n",
      "Europe\n",
      "Europe\n"
     ]
    }
   ],
   "source": [
    "for a in a_cnt:\n",
    "    print a[11]"
   ]
  },
  {
   "cell_type": "code",
   "execution_count": null,
   "metadata": {
    "collapsed": true
   },
   "outputs": [],
   "source": []
  },
  {
   "cell_type": "code",
   "execution_count": null,
   "metadata": {
    "collapsed": true
   },
   "outputs": [],
   "source": []
  },
  {
   "cell_type": "markdown",
   "metadata": {},
   "source": [
    "## Major countries in Q4-2016"
   ]
  },
  {
   "cell_type": "code",
   "execution_count": 19,
   "metadata": {
    "collapsed": false
   },
   "outputs": [
    {
     "data": {
      "text/plain": [
       "35"
      ]
     },
     "execution_count": 19,
     "metadata": {},
     "output_type": "execute_result"
    }
   ],
   "source": [
    "cursor.execute (\" SELECT `Country`  FROM `%s`WHERE `Continent` LIKE %s AND `Date` BETWEEN '2016-10-01' AND '2016-12-31'  \"%(tab,cont))"
   ]
  },
  {
   "cell_type": "code",
   "execution_count": 20,
   "metadata": {
    "collapsed": true
   },
   "outputs": [],
   "source": [
    "t_con = cursor.fetchall()"
   ]
  },
  {
   "cell_type": "code",
   "execution_count": 21,
   "metadata": {
    "collapsed": false
   },
   "outputs": [
    {
     "name": "stdout",
     "output_type": "stream",
     "text": [
      "UK:17:44.7%\n",
      "Germany:6:15.8%\n",
      "Sweden:4:10.5%\n",
      "Ireland:3:7.9%\n",
      "Denmark:2:5.3%\n",
      "Switzerland:2:5.3%\n",
      "France:1:2.6%\n",
      "Latvia:1:2.6%\n",
      "China:1:2.6%\n",
      "Russia:1:2.6%\n"
     ]
    }
   ],
   "source": [
    " val_count(t_con)"
   ]
  },
  {
   "cell_type": "code",
   "execution_count": null,
   "metadata": {
    "collapsed": true
   },
   "outputs": [],
   "source": []
  },
  {
   "cell_type": "markdown",
   "metadata": {},
   "source": [
    "## Segments Q4"
   ]
  },
  {
   "cell_type": "code",
   "execution_count": 22,
   "metadata": {
    "collapsed": false
   },
   "outputs": [
    {
     "data": {
      "text/plain": [
       "35"
      ]
     },
     "execution_count": 22,
     "metadata": {},
     "output_type": "execute_result"
    }
   ],
   "source": [
    "cursor.execute (\" SELECT `Segment`  FROM `%s`WHERE `Continent` LIKE %s AND `Date` BETWEEN '2016-10-01' AND '2016-12-31'  \"%(tab,cont))"
   ]
  },
  {
   "cell_type": "code",
   "execution_count": 23,
   "metadata": {
    "collapsed": true
   },
   "outputs": [],
   "source": [
    "t_seg = cursor.fetchall()"
   ]
  },
  {
   "cell_type": "code",
   "execution_count": 24,
   "metadata": {
    "collapsed": false
   },
   "outputs": [
    {
     "name": "stdout",
     "output_type": "stream",
     "text": [
      "Analytics and Management:7:19.4%\n",
      "Payment Processing:7:19.4%\n",
      "Investment Advisory:6:16.7%\n",
      "Lending:6:16.7%\n",
      "B2B Fintech Services:3:8.3%\n",
      "Accelerators Incubators and Funds:3:8.3%\n",
      "Marketplace:2:5.6%\n",
      "Mobile Fintech:2:5.6%\n"
     ]
    }
   ],
   "source": [
    " val_count(t_seg)"
   ]
  },
  {
   "cell_type": "markdown",
   "metadata": {},
   "source": [
    "## Trends Q4"
   ]
  },
  {
   "cell_type": "code",
   "execution_count": 25,
   "metadata": {
    "collapsed": false
   },
   "outputs": [
    {
     "data": {
      "text/plain": [
       "35"
      ]
     },
     "execution_count": 25,
     "metadata": {},
     "output_type": "execute_result"
    }
   ],
   "source": [
    "cursor.execute (\" SELECT `Trend`  FROM `%s`WHERE `Continent` LIKE %s AND `Date` BETWEEN '2016-10-01' AND '2016-12-31'  \"%(tab,cont))"
   ]
  },
  {
   "cell_type": "code",
   "execution_count": 26,
   "metadata": {
    "collapsed": true
   },
   "outputs": [],
   "source": [
    "t_trd = cursor.fetchall()"
   ]
  },
  {
   "cell_type": "code",
   "execution_count": 27,
   "metadata": {
    "collapsed": false
   },
   "outputs": [
    {
     "name": "stdout",
     "output_type": "stream",
     "text": [
      "Investments:22:61.1%\n",
      "Expansion:6:16.7%\n",
      "New Products:4:11.1%\n",
      "Regulations:3:8.3%\n",
      "Collaboration:1:2.8%\n"
     ]
    }
   ],
   "source": [
    " val_count(t_trd)"
   ]
  },
  {
   "cell_type": "markdown",
   "metadata": {},
   "source": [
    "## Q1 - Q4 Count"
   ]
  },
  {
   "cell_type": "markdown",
   "metadata": {},
   "source": [
    "Q1"
   ]
  },
  {
   "cell_type": "code",
   "execution_count": 28,
   "metadata": {
    "collapsed": false
   },
   "outputs": [
    {
     "data": {
      "text/plain": [
       "19"
      ]
     },
     "execution_count": 28,
     "metadata": {},
     "output_type": "execute_result"
    }
   ],
   "source": [
    "cursor.execute (\" SELECT 'COUNT(*)'  FROM `%s` WHERE `Continent` LIKE %s AND `Date` BETWEEN '2016-01-01' AND '2016-03-31'  \"%(tab,cont))"
   ]
  },
  {
   "cell_type": "markdown",
   "metadata": {},
   "source": [
    "Q2"
   ]
  },
  {
   "cell_type": "code",
   "execution_count": 29,
   "metadata": {
    "collapsed": false
   },
   "outputs": [
    {
     "data": {
      "text/plain": [
       "20"
      ]
     },
     "execution_count": 29,
     "metadata": {},
     "output_type": "execute_result"
    }
   ],
   "source": [
    "cursor.execute (\" SELECT 'COUNT(*)'  FROM `%s` WHERE `Continent` LIKE %s AND `Date` BETWEEN '2016-04-01' AND '2016-06-31'  \"%(tab,cont))"
   ]
  },
  {
   "cell_type": "markdown",
   "metadata": {},
   "source": [
    "Q1"
   ]
  },
  {
   "cell_type": "code",
   "execution_count": 30,
   "metadata": {
    "collapsed": false
   },
   "outputs": [
    {
     "data": {
      "text/plain": [
       "26"
      ]
     },
     "execution_count": 30,
     "metadata": {},
     "output_type": "execute_result"
    }
   ],
   "source": [
    "cursor.execute (\" SELECT 'COUNT(*)'  FROM `%s` WHERE `Continent` LIKE %s AND `Date` BETWEEN '2016-07-01' AND '2016-09-31'  \"%(tab,cont))"
   ]
  },
  {
   "cell_type": "markdown",
   "metadata": {},
   "source": [
    "Q1"
   ]
  },
  {
   "cell_type": "code",
   "execution_count": 31,
   "metadata": {
    "collapsed": false
   },
   "outputs": [
    {
     "data": {
      "text/plain": [
       "35"
      ]
     },
     "execution_count": 31,
     "metadata": {},
     "output_type": "execute_result"
    }
   ],
   "source": [
    "cursor.execute (\" SELECT 'COUNT(*)'  FROM `%s` WHERE `Continent` LIKE %s AND `Date` BETWEEN '2016-10-01' AND '2016-12-31'  \"%(tab,cont))"
   ]
  },
  {
   "cell_type": "markdown",
   "metadata": {},
   "source": [
    "## Q4 - Investment -  Segments"
   ]
  },
  {
   "cell_type": "code",
   "execution_count": 32,
   "metadata": {
    "collapsed": false
   },
   "outputs": [
    {
     "data": {
      "text/plain": [
       "22"
      ]
     },
     "execution_count": 32,
     "metadata": {},
     "output_type": "execute_result"
    }
   ],
   "source": [
    "cursor.execute (\"\"\" \n",
    "                SELECT `Segment`  FROM `%s` \n",
    "                WHERE `Continent` LIKE %s AND\n",
    "                `Trend` LIKE %s AND\n",
    "                `Date` BETWEEN '2016-10-01' AND '2016-12-31'  \"\"\"%(tab,cont,\"'%Investments%'\"))"
   ]
  },
  {
   "cell_type": "code",
   "execution_count": 33,
   "metadata": {
    "collapsed": true
   },
   "outputs": [],
   "source": [
    "t_is = cursor.fetchall()"
   ]
  },
  {
   "cell_type": "code",
   "execution_count": 34,
   "metadata": {
    "collapsed": false
   },
   "outputs": [
    {
     "name": "stdout",
     "output_type": "stream",
     "text": [
      "Analytics and Management:5:20.8%\n",
      "Payment Processing:5:20.8%\n",
      "Lending:4:16.7%\n",
      "Investment Advisory:4:16.7%\n",
      "Marketplace:2:8.3%\n",
      "Mobile Fintech:2:8.3%\n",
      "B2B Fintech Services:2:8.3%\n"
     ]
    }
   ],
   "source": [
    " val_count(t_is)"
   ]
  },
  {
   "cell_type": "markdown",
   "metadata": {},
   "source": [
    "## Q1-Q4 Investments"
   ]
  },
  {
   "cell_type": "markdown",
   "metadata": {},
   "source": [
    "Q1"
   ]
  },
  {
   "cell_type": "code",
   "execution_count": 35,
   "metadata": {
    "collapsed": false
   },
   "outputs": [
    {
     "data": {
      "text/plain": [
       "11"
      ]
     },
     "execution_count": 35,
     "metadata": {},
     "output_type": "execute_result"
    }
   ],
   "source": [
    "cursor.execute (\"\"\" \n",
    "                SELECT `Segment`  FROM `%s` \n",
    "                WHERE `Continent` LIKE %s AND\n",
    "                `Trend` LIKE %s AND\n",
    "                `Date` BETWEEN '2016-01-01' AND '2016-03-31'  \"\"\"%(tab,cont,\"'%Investments%'\"))"
   ]
  },
  {
   "cell_type": "markdown",
   "metadata": {},
   "source": [
    "Q2"
   ]
  },
  {
   "cell_type": "code",
   "execution_count": 36,
   "metadata": {
    "collapsed": false
   },
   "outputs": [
    {
     "data": {
      "text/plain": [
       "11"
      ]
     },
     "execution_count": 36,
     "metadata": {},
     "output_type": "execute_result"
    }
   ],
   "source": [
    "cursor.execute (\"\"\" \n",
    "                SELECT `Segment`  FROM `%s` \n",
    "                WHERE `Continent` LIKE %s AND\n",
    "                `Trend` LIKE %s AND\n",
    "                `Date` BETWEEN '2016-04-01' AND '2016-06-31'  \"\"\"%(tab,cont,\"'%Investments%'\"))"
   ]
  },
  {
   "cell_type": "markdown",
   "metadata": {},
   "source": [
    "Q3"
   ]
  },
  {
   "cell_type": "code",
   "execution_count": 37,
   "metadata": {
    "collapsed": false
   },
   "outputs": [
    {
     "data": {
      "text/plain": [
       "15"
      ]
     },
     "execution_count": 37,
     "metadata": {},
     "output_type": "execute_result"
    }
   ],
   "source": [
    "cursor.execute (\"\"\" \n",
    "                SELECT `Segment`  FROM `%s` \n",
    "                WHERE `Continent` LIKE %s AND\n",
    "                `Trend` LIKE %s AND\n",
    "                `Date` BETWEEN '2016-07-01' AND '2016-09-31'  \"\"\"%(tab,cont,\"'%Investments%'\"))"
   ]
  },
  {
   "cell_type": "markdown",
   "metadata": {},
   "source": [
    "Q4"
   ]
  },
  {
   "cell_type": "code",
   "execution_count": 38,
   "metadata": {
    "collapsed": false
   },
   "outputs": [
    {
     "data": {
      "text/plain": [
       "22"
      ]
     },
     "execution_count": 38,
     "metadata": {},
     "output_type": "execute_result"
    }
   ],
   "source": [
    "cursor.execute (\"\"\" \n",
    "                SELECT `Segment`  FROM `%s` \n",
    "                WHERE `Continent` LIKE %s AND\n",
    "                `Trend` LIKE %s AND\n",
    "                `Date` BETWEEN '2016-10-01' AND '2016-12-31'  \"\"\"%(tab,cont,\"'%Investments%'\"))"
   ]
  },
  {
   "cell_type": "markdown",
   "metadata": {},
   "source": [
    "## NP, Exp, Collab - Q4 - Segments"
   ]
  },
  {
   "cell_type": "code",
   "execution_count": 39,
   "metadata": {
    "collapsed": false
   },
   "outputs": [
    {
     "data": {
      "text/plain": [
       "10"
      ]
     },
     "execution_count": 39,
     "metadata": {},
     "output_type": "execute_result"
    }
   ],
   "source": [
    "cursor.execute (\"\"\" \n",
    "                SELECT `Segment`  FROM `%s` \n",
    "                WHERE `Continent` LIKE %s AND\n",
    "                `Trend` NOT LIKE 'Investments' AND `Trend` NOT LIKE 'Regulations' AND\n",
    "                `Date` BETWEEN '2016-10-01' AND '2016-12-31'  \"\"\"%(tab,cont))"
   ]
  },
  {
   "cell_type": "code",
   "execution_count": 40,
   "metadata": {
    "collapsed": true
   },
   "outputs": [],
   "source": [
    "t_NEC = cursor.fetchall()"
   ]
  },
  {
   "cell_type": "code",
   "execution_count": 41,
   "metadata": {
    "collapsed": false
   },
   "outputs": [
    {
     "name": "stdout",
     "output_type": "stream",
     "text": [
      "Accelerators Incubators and Funds:2:22.2%\n",
      "Investment Advisory:2:22.2%\n",
      "Lending:2:22.2%\n",
      "B2B Fintech Services:1:11.1%\n",
      "Analytics and Management:1:11.1%\n",
      "Payment Processing:1:11.1%\n"
     ]
    }
   ],
   "source": [
    " val_count(t_NEC)"
   ]
  },
  {
   "cell_type": "markdown",
   "metadata": {},
   "source": [
    "## NP, Exp, Collab - Q1-Q4 - Segments"
   ]
  },
  {
   "cell_type": "markdown",
   "metadata": {},
   "source": [
    "Q1"
   ]
  },
  {
   "cell_type": "code",
   "execution_count": 42,
   "metadata": {
    "collapsed": false
   },
   "outputs": [
    {
     "data": {
      "text/plain": [
       "11"
      ]
     },
     "execution_count": 42,
     "metadata": {},
     "output_type": "execute_result"
    }
   ],
   "source": [
    "cursor.execute (\"\"\" \n",
    "                SELECT *  FROM `%s` \n",
    "                WHERE `Continent` LIKE %s AND\n",
    "                `Trend` NOT LIKE 'Investments' AND `Trend` NOT LIKE 'Regulations' AND\n",
    "                `Date` BETWEEN '2016-01-01' AND '2016-03-31'  \"\"\"%(tab,cont))"
   ]
  },
  {
   "cell_type": "markdown",
   "metadata": {},
   "source": [
    "Q2"
   ]
  },
  {
   "cell_type": "code",
   "execution_count": 43,
   "metadata": {
    "collapsed": false
   },
   "outputs": [
    {
     "data": {
      "text/plain": [
       "9"
      ]
     },
     "execution_count": 43,
     "metadata": {},
     "output_type": "execute_result"
    }
   ],
   "source": [
    "cursor.execute (\"\"\" \n",
    "                SELECT *  FROM `%s` \n",
    "                WHERE `Continent` LIKE %s AND\n",
    "                `Trend` NOT LIKE 'Investments' AND `Trend` NOT LIKE 'Regulations' AND\n",
    "                `Date` BETWEEN '2016-04-01' AND '2016-06-31'  \"\"\"%(tab,cont))"
   ]
  },
  {
   "cell_type": "markdown",
   "metadata": {},
   "source": [
    "Q3"
   ]
  },
  {
   "cell_type": "code",
   "execution_count": 44,
   "metadata": {
    "collapsed": false
   },
   "outputs": [
    {
     "data": {
      "text/plain": [
       "12"
      ]
     },
     "execution_count": 44,
     "metadata": {},
     "output_type": "execute_result"
    }
   ],
   "source": [
    "cursor.execute (\"\"\" \n",
    "                SELECT *  FROM `%s` \n",
    "                WHERE `Continent` LIKE %s AND\n",
    "                `Trend` NOT LIKE 'Investments' AND `Trend` NOT LIKE 'Regulations' AND\n",
    "                `Date` BETWEEN '2016-07-01' AND '2016-09-31'  \"\"\"%(tab,cont))"
   ]
  },
  {
   "cell_type": "markdown",
   "metadata": {},
   "source": [
    "Q4"
   ]
  },
  {
   "cell_type": "code",
   "execution_count": 45,
   "metadata": {
    "collapsed": false
   },
   "outputs": [
    {
     "data": {
      "text/plain": [
       "10"
      ]
     },
     "execution_count": 45,
     "metadata": {},
     "output_type": "execute_result"
    }
   ],
   "source": [
    "cursor.execute (\"\"\" \n",
    "                SELECT *  FROM `%s` \n",
    "                WHERE `Continent` LIKE %s AND\n",
    "                `Trend` NOT LIKE 'Investments' AND `Trend` NOT LIKE 'Regulations' AND\n",
    "                `Date` BETWEEN '2016-10-01' AND '2016-12-31'  \"\"\"%(tab,cont))"
   ]
  },
  {
   "cell_type": "code",
   "execution_count": null,
   "metadata": {
    "collapsed": false
   },
   "outputs": [],
   "source": []
  },
  {
   "cell_type": "markdown",
   "metadata": {
    "collapsed": true
   },
   "source": [
    "# ROUGH WORK"
   ]
  },
  {
   "cell_type": "markdown",
   "metadata": {
    "collapsed": true
   },
   "source": [
    "## Text - Investments"
   ]
  },
  {
   "cell_type": "code",
   "execution_count": 46,
   "metadata": {
    "collapsed": false
   },
   "outputs": [
    {
     "data": {
      "text/plain": [
       "22"
      ]
     },
     "execution_count": 46,
     "metadata": {},
     "output_type": "execute_result"
    }
   ],
   "source": [
    "cursor.execute (\"\"\" \n",
    "                SELECT *  FROM `%s` \n",
    "                WHERE `Continent` LIKE %s AND\n",
    "                `Trend` LIKE %s AND\n",
    "                `Date` BETWEEN '2016-10-01' AND '2016-12-31'  \"\"\"%(tab,cont,\"'%Investments%'\"))"
   ]
  },
  {
   "cell_type": "code",
   "execution_count": 47,
   "metadata": {
    "collapsed": true
   },
   "outputs": [],
   "source": [
    "t1 = cursor.fetchall()"
   ]
  },
  {
   "cell_type": "code",
   "execution_count": 48,
   "metadata": {
    "collapsed": false
   },
   "outputs": [
    {
     "name": "stdout",
     "output_type": "stream",
     "text": [
      "Ireland fintech startup First Circle has secured US$1.2 million in seed round led by Dublin-and-London-based Key Capital. Singapore-based IMJ Investment Partners, and 500 Startups in San Francisco also joined in the round. First Circle is focused on providing short-term working capital among small and medium-sized enterprises (SMEs) in the Philippines, a sector that comprises 99 per cent of all businesses in the country. The company intends to expand its online lending business in the Philippines and soon across Southeast Asia.\n",
      "http://www.dealstreetasia.com/stories/irish-led-fintech-first-circle-gets-1-2m-seed-fund-expands-in-philippines-56355/\n",
      "*-*-*-*-*-*-\n",
      "UK fintech startup Iwoca has raised US$26.2 million capital from German Commerzbank's VC wing CommerzVentures and Prime Ventures along with previous investors Acton Capital Partners, Global Founders Capital and Redline Capital. Iwoca lens to small businesses and will use the new fund for the growth in the UK and across Europe where it operates in Germany, Poland and Spain.\n",
      "http://www.cityam.com/250657/commerzbank-ploughs-more-cash-into-london-fintech-startup\n",
      "*-*-*-*-*-*-\n",
      "UK based OpenGamma, a fintech startup that helps finance firms manage risk and capital in the derivatives market, has raised US$13.3 million from VC fund Accel, dealer broker ICAP, and Cristobal Conde- who already sits on the company's board.\n",
      "OpenGamma makes cloud-based software to help finance firms calculate and manage their risk in the global derivatives market.\n",
      "\n",
      "http://uk.businessinsider.com/fintech-opengamma-raises-from-accel-icap-2016-10\n",
      "*-*-*-*-*-*-\n",
      "Germany based credit broker Smava has closed their Series C investment round of US$34 million new capital from Runa Capital, Mojo capital and Verdane Capital. The round also included participation from their early stage investor Earlybird Venture Capital. \n",
      "Smava is a general marketplace, connecting private investors and banks to potential borrowers. The company plans to use the new cash to expand its ability to offer fully automated installment loans.\n",
      "\n",
      "http://www.geektime.com/2016/10/02/german-credit-startup-smava-bags-34-million-series-c-investment/\n",
      "*-*-*-*-*-*-\n",
      "UK tech startup, ComplyAdvantage - which uses artificial intelligence (AI) to ensure compliance rules are followed by financial firms, has raised US$8.2 million in a series A round of funding led by Balderton Capital. The new capital will be used to fuel expansion into the US market.\n",
      "http://www.cityam.com/251414/uk-startup-using-ai-compliance-just-raised-millions\n",
      "*-*-*-*-*-*-\n",
      "Ireland based fintech startup Plynk, money-messaging app, has raised US$0.78 million in seed funding from various sources including Enterprise Ireland, NDRC and Delta Partners.\n",
      "Plynk’s app allows users to open payment accounts, get a card and make payments in euro. It plans to add other currencies in the future.\n",
      "\n",
      "http://www.econotimes.com/irish-fintech-firm-plynk-raises-725k-in-seed-funding-350667\n",
      "*-*-*-*-*-*-\n",
      "Germany based fintech company Cringle, which is developing a mobile application for money transfers, has raised US$0.86 million from 1487 investors on the German equity crowdfunding site Companisto.\n",
      "https://smnweekly.com/2016/10/31/german-fintech-cringle-raises-e800-000-on-crowdfunding-site-companisto/\n",
      "*-*-*-*-*-*-\n",
      "\n",
      "http://techcitynews.com/2016/11/16/edinburgh-based-fintech-firm-freeagent-ipos-aim-raises-10-7m/\n",
      "*-*-*-*-*-*-\n",
      "\n",
      "http://satprnews.com/2016/11/29/bnp-paribas-backs-the-growth-of-the-paycar-fintech/\n",
      "*-*-*-*-*-*-\n",
      "\n",
      "http://uk.businessinsider.com/swedish-fintech-klarna-buys-german-startup-cookies-after-bankruptcy-2016-11\n",
      "*-*-*-*-*-*-\n",
      "\n",
      "http://www.businessinsider.com/cashboard-funding-digital-space-ventures-german-fintech-momentum-2016-11\n",
      "*-*-*-*-*-*-\n",
      "\n",
      "http://uk.businessinsider.com/fintech-loot-growth-funding-banking-generation-snapchat-2016-11\n",
      "*-*-*-*-*-*-\n",
      "\n",
      "http://www.bobsguide.com/guide/news/2016/Nov/14/fintech-startup-swanest-raises-750000-to-build-an-ai-enabled-investment-assistant-/\n",
      "*-*-*-*-*-*-\n",
      "\n",
      "http://techcitynews.com/2016/11/14/nutmeg-raises-30m-series-c-led-convoy/\n",
      "*-*-*-*-*-*-\n",
      "\n",
      "https://www.siliconrepublic.com/start-ups/flender-crowdfunding-campaign\n",
      "*-*-*-*-*-*-\n",
      "\n",
      "http://www.reuters.com/article/rakuten-kreditech-idUSL1N1E92DF\n",
      "*-*-*-*-*-*-\n",
      "\n",
      "http://www.econotimes.com/eEquity-invests-in-SEK-30-million-in-Swedish-fintech-startup-Refunder-465767\n",
      "*-*-*-*-*-*-\n",
      "\n",
      "https://thestack.com/cloud/2016/12/14/fintech-platform-billfront-raises-35mn-in-series-a-funding/\n",
      "*-*-*-*-*-*-\n",
      "\n",
      "http://www.bankingtech.com/676901/drooms-acquires-swiss-fintech-firm-dealmarket/\n",
      "*-*-*-*-*-*-\n",
      "\n",
      "http://venturebeat.com/2016/12/21/cardlay-raises-4-million-to-help-traditional-banks-embrace-fintech-solutions/\n",
      "*-*-*-*-*-*-\n",
      "\n",
      "http://www.econotimes.com/Nordic-bank-SEB-invests-10m-SEK-in-fintech-outfit-Leasify-464762\n",
      "*-*-*-*-*-*-\n",
      "\n",
      "http://www.econotimes.com/UK-fintech-Nutmeg-raises-12M-in-Series-D-funding-led-by-Taipei-Fubon-Bank-465768\n",
      "*-*-*-*-*-*-\n"
     ]
    }
   ],
   "source": [
    "for t in t1:\n",
    "    t_content = t[2]\n",
    "    t_link = t[4]\n",
    "    print t_content\n",
    "    print t_link\n",
    "    print \"*-*-*-*-*-*-\""
   ]
  },
  {
   "cell_type": "markdown",
   "metadata": {},
   "source": [
    "## Text - NP/E/C\n"
   ]
  },
  {
   "cell_type": "code",
   "execution_count": 49,
   "metadata": {
    "collapsed": false
   },
   "outputs": [
    {
     "data": {
      "text/plain": [
       "10"
      ]
     },
     "execution_count": 49,
     "metadata": {},
     "output_type": "execute_result"
    }
   ],
   "source": [
    "cursor.execute (\"\"\" \n",
    "                SELECT *  FROM `%s` \n",
    "                WHERE `Continent` LIKE %s AND\n",
    "                `Trend` NOT LIKE 'Investments' AND `Trend` NOT LIKE 'Regulations' AND\n",
    "                `Date` BETWEEN '2016-10-01' AND '2016-12-31'  \"\"\"%(tab,cont))"
   ]
  },
  {
   "cell_type": "code",
   "execution_count": 50,
   "metadata": {
    "collapsed": true
   },
   "outputs": [],
   "source": [
    "t2 = cursor.fetchall()"
   ]
  },
  {
   "cell_type": "code",
   "execution_count": 51,
   "metadata": {
    "collapsed": false
   },
   "outputs": [
    {
     "name": "stdout",
     "output_type": "stream",
     "text": [
      "Switzerland based SIX has decided to open its FinTech start-up accelerator F10 to promote Switzerland's FinTech ecosystem on a long-term basis, forge global links and strengthen the capacity of the Swiss finance sectors. \n",
      "http://www.globalcustodian.com/Technology/SIX-expands-Swiss-FinTech-operations/\n",
      "*-*-*-*-*-*-\n",
      "US based startup Circle has added the Euro to its payments app, enabling users to transfer the currency to friends and family instantly on their smartphones without paying a fee and with low exchange rates. Circle plans to expand in Europe.\n",
      "http://www.bizjournals.com/boston/news/2016/10/20/with-136m-raised-boston-fintech-startup-expands.html\n",
      "*-*-*-*-*-*-\n",
      "UK based fintech specialist Quint Group has launched a new comparison site - moneyguru.com- to allow potential borrowers to compare products such as personal loans, business loans and mortgages from over 200 lenders, as well as provide access to regulated insurance advisers.\n",
      "http://www.bridgingandcommercialdistributor.co.uk/article-desc-2397_fintech-group-launches-loan-comparison-site\n",
      "*-*-*-*-*-*-\n",
      "UK based Nimbrix has launched a new blockchain consortium  and platform along with KPMG and Microsoft.\n",
      "The Nimbrix buy-side platform will use cloud, open API, Software-as-a- Service (SaaS) and blockchain.\n",
      "The core platform release is scheduled in early 2017.\n",
      "http://www.bankingtech.com/628312/nimbrix-launches-blockchain-consortium-and-platform/\n",
      "*-*-*-*-*-*-\n",
      "Sweden based payments startup, Betalo, has partnered with Germany based company Raisin with pan-European savings products.\n",
      "By 2017, Betalo users will be able to open and fund their Rasin account directly through the Betalo app.\n",
      "https://www.finextra.com/pressarticle/66871/betalo-partners-raisin-to-offer-savings-products-in-sweden\n",
      "*-*-*-*-*-*-\n",
      "\n",
      "http://www.computerweekly.com/news/450402781/Copenhagen-Fintech-hub-opens-its-doors\n",
      "*-*-*-*-*-*-\n",
      "\n",
      "https://techcrunch.com/2016/11/08/soldo/\n",
      "*-*-*-*-*-*-\n",
      "\n",
      "http://uk.businessinsider.com/latvian-marketplace-lender-twino-expands-to-russia-2016-12\n",
      "*-*-*-*-*-*-\n",
      "\n",
      "https://www.finextra.com/pressarticle/67504/moneybox-launches-android-app\n",
      "*-*-*-*-*-*-\n",
      "None\n",
      "http://www.telegraph.co.uk/personal-banking/savings/peer-to-peer-giant-zopa-to-launch-digital-bank/\n",
      "*-*-*-*-*-*-\n"
     ]
    }
   ],
   "source": [
    "for t in t2:\n",
    "    t_content = t[2]\n",
    "    t_link = t[4]\n",
    "    print t_content\n",
    "    print t_link\n",
    "    print \"*-*-*-*-*-*-\""
   ]
  },
  {
   "cell_type": "markdown",
   "metadata": {},
   "source": [
    "## Text - Accelerators"
   ]
  },
  {
   "cell_type": "code",
   "execution_count": 52,
   "metadata": {
    "collapsed": false
   },
   "outputs": [
    {
     "data": {
      "text/plain": [
       "20"
      ]
     },
     "execution_count": 52,
     "metadata": {},
     "output_type": "execute_result"
    }
   ],
   "source": [
    "cursor.execute (\"\"\" \n",
    "                SELECT *  FROM `%s` \n",
    "                WHERE `Continent` LIKE %s AND\n",
    "                `Segment`  LIKE %s\n",
    "                \"\"\"%(tab,cont,\"'%Accelerator%'\"))"
   ]
  },
  {
   "cell_type": "code",
   "execution_count": 53,
   "metadata": {
    "collapsed": false
   },
   "outputs": [
    {
     "data": {
      "text/plain": [
       "3"
      ]
     },
     "execution_count": 53,
     "metadata": {},
     "output_type": "execute_result"
    }
   ],
   "source": [
    "cursor.execute (\"\"\" \n",
    "                SELECT *  FROM `%s` \n",
    "                WHERE `Continent` LIKE %s AND\n",
    "                `Segment`  LIKE %s AND\n",
    "                `Date` BETWEEN '2016-10-01' AND '2016-12-31' \n",
    "                \"\"\"%(tab,cont,\"'%Accelerator%'\"))"
   ]
  },
  {
   "cell_type": "code",
   "execution_count": 54,
   "metadata": {
    "collapsed": true
   },
   "outputs": [],
   "source": [
    "tt = cursor.fetchall()"
   ]
  },
  {
   "cell_type": "code",
   "execution_count": 55,
   "metadata": {
    "collapsed": false
   },
   "outputs": [
    {
     "name": "stdout",
     "output_type": "stream",
     "text": [
      "Switzerland based SIX has decided to open its FinTech start-up accelerator F10 to promote Switzerland's FinTech ecosystem on a long-term basis, forge global links and strengthen the capacity of the Swiss finance sectors. \n",
      "http://www.globalcustodian.com/Technology/SIX-expands-Swiss-FinTech-operations/\n",
      "*-*-*-*-*-*-\n",
      "\n",
      "http://www.chinadaily.com.cn/business/2016-11/14/content_27372986.htm\n",
      "*-*-*-*-*-*-\n",
      "\n",
      "http://www.computerweekly.com/news/450402781/Copenhagen-Fintech-hub-opens-its-doors\n",
      "*-*-*-*-*-*-\n"
     ]
    }
   ],
   "source": [
    "for t in tt:\n",
    "    t_content = t[2]\n",
    "    t_link = t[4]\n",
    "    print t_content\n",
    "    print t_link\n",
    "    print \"*-*-*-*-*-*-\""
   ]
  },
  {
   "cell_type": "code",
   "execution_count": 57,
   "metadata": {
    "collapsed": false
   },
   "outputs": [
    {
     "data": {
      "text/plain": [
       "22"
      ]
     },
     "execution_count": 57,
     "metadata": {},
     "output_type": "execute_result"
    }
   ],
   "source": [
    "cursor.execute (\"\"\" \n",
    "                SELECT *  FROM `%s` \n",
    "                WHERE `Continent` LIKE %s AND\n",
    "                `Trend` LIKE %s AND\n",
    "                `Date` BETWEEN '2016-10-01' AND '2016-12-31'  \"\"\"%(tab,cont,\"'%Investments%'\"))"
   ]
  },
  {
   "cell_type": "code",
   "execution_count": 59,
   "metadata": {
    "collapsed": true
   },
   "outputs": [],
   "source": [
    "t5 = cursor.fetchall()"
   ]
  },
  {
   "cell_type": "code",
   "execution_count": 61,
   "metadata": {
    "collapsed": false
   },
   "outputs": [
    {
     "name": "stdout",
     "output_type": "stream",
     "text": [
      "First Circle gets US$1.2 million as seed capital : 2016-10-25 : Lending\n",
      "Commerzbank has ploughed more cash in lending platform Iwoca : 2016-10-04 : Lending\n",
      "OpenGamma has raised US$13.3 million : 2016-10-05 : Analytics and Management\n",
      "Smava has raised $34 million Series C investment from Runa Capital : 2016-10-02 : Lending,Marketplace\n",
      "ComplyAdvantage has raised US$8.2 million to expand to US : 2016-10-13 : Analytics and Management\n",
      "Plynk raises seed fund of US$0.78 million to go global : 2016-10-17 : Payment Processing\n",
      "Cringle raises US$0.86 million from crowdsourcing site : 2016-10-31 : Payment Processing,Mobile Fintech\n",
      "FreeAgent has raised GBP10.7 million on AIM : 2016-11-16 : Analytics and Management\n",
      "BNP Paribas Group has invested EUR1.3 million in PayCar : 2016-11-29 : Payment Processing\n",
      "Klarna has bought the insolvent Berlin fintech startup Cookies : 2016-11-22 : Payment Processing\n",
      "Cashboard has raised EUR3 million : 2016-11-23 : Investment Advisory\n",
      "Banking app Loot has raised another GBP2.5 million : 2016-11-07 : Mobile Fintech\n",
      "Swanest has raised EUR750,000 to build an AI-enabled investment assistant : 2016-11-14 : Investment Advisory\n",
      "Digital wealth manager Nutmeg has raised GBP30 million from Convoy Global Holdings : 2016-11-14 : Investment Advisory\n",
      "Flender has raised EUR453,000 through crowdfunding campaign : 2016-12-02 : Lending\n",
      "Kreditech has raised EUR10 million from Rakuten : 2016-12-15 : Analytics and Management\n",
      "eEquity has invested SEK 30 million in Refunder Scandinavia AB : 2016-12-25 : Payment Processing\n",
      "BillFront has raised $35 million in Series A funding : 2016-12-14 : B2B Fintech Services\n",
      "Drooms has acquired fintech firm DealMarket : 2016-12-16 : Marketplace\n",
      "Cardlay has raised $4 million in venture capital : 2016-12-21 : B2B Fintech Services\n",
      "Leasify has raised SEK10 million from SEB : 2016-12-23 : Analytics and Management\n",
      "Nutmeg has raised GBP12 million Series D financing from Taipei Fubon Bank : 2016-12-25 : Investment Advisory\n"
     ]
    }
   ],
   "source": [
    "for t in t5:\n",
    "    print t[1],\":\",t[5],\":\",t[8]"
   ]
  },
  {
   "cell_type": "code",
   "execution_count": 56,
   "metadata": {
    "collapsed": true
   },
   "outputs": [],
   "source": [
    "#cursor.close()"
   ]
  }
 ],
 "metadata": {
  "anaconda-cloud": {},
  "kernelspec": {
   "display_name": "Python [default]",
   "language": "python",
   "name": "python3"
  },
  "language_info": {
   "codemirror_mode": {
    "name": "ipython",
    "version": 3
   },
   "file_extension": ".py",
   "mimetype": "text/x-python",
   "name": "python",
   "nbconvert_exporter": "python",
   "pygments_lexer": "ipython3",
   "version": "3.5.2"
  }
 },
 "nbformat": 4,
 "nbformat_minor": 1
}

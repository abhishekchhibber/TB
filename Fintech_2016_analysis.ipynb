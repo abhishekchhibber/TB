{
 "cells": [
  {
   "cell_type": "code",
   "execution_count": 1,
   "metadata": {
    "collapsed": true
   },
   "outputs": [],
   "source": [
    "import pymysql\n",
    "import pymysql.cursors\n",
    "import csv"
   ]
  },
  {
   "cell_type": "code",
   "execution_count": 2,
   "metadata": {
    "collapsed": false
   },
   "outputs": [],
   "source": [
    "# Connect to the database\n",
    "connection = pymysql.connect(host='127.0.0.1',\n",
    "                             user='root',\n",
    "                             password='abhi1234',\n",
    "                             db='fintech_2016',\n",
    "                             port=3306,\n",
    "                             charset='utf8'\n",
    "                             )\n",
    "cursor = connection.cursor()"
   ]
  },
  {
   "cell_type": "code",
   "execution_count": 3,
   "metadata": {
    "collapsed": false
   },
   "outputs": [
    {
     "data": {
      "text/plain": [
       "14"
      ]
     },
     "execution_count": 3,
     "metadata": {},
     "output_type": "execute_result"
    }
   ],
   "source": [
    "cursor.execute (\"SELECT DISTINCT `Trend` FROM `fintech_15`   \")"
   ]
  },
  {
   "cell_type": "code",
   "execution_count": null,
   "metadata": {
    "collapsed": false
   },
   "outputs": [],
   "source": [
    ""
   ]
  },
  {
   "cell_type": "code",
   "execution_count": 4,
   "metadata": {
    "collapsed": false
   },
   "outputs": [
    {
     "data": {
      "text/plain": [
       "((u'Investments',),\n",
       " (u'Expansion',),\n",
       " (u'New Products',),\n",
       " (u'Collaboration',),\n",
       " (u'New Products,Investments',),\n",
       " (u'New Products,Expansion',),\n",
       " (u'Expansion,Investments',),\n",
       " (u'New Products,Collaboration',),\n",
       " (u'Regulations',),\n",
       " (u'Investments,New Products',),\n",
       " (u'Investments,Expansion',),\n",
       " (u'Collaboration,Investments',),\n",
       " (u'Expansion,New Products',),\n",
       " (u'Collaboration,New Products',))"
      ]
     },
     "execution_count": 4,
     "metadata": {},
     "output_type": "execute_result"
    }
   ],
   "source": [
    "cursor.fetchall()"
   ]
  },
  {
   "cell_type": "code",
   "execution_count": 5,
   "metadata": {
    "collapsed": false
   },
   "outputs": [
    {
     "data": {
      "text/plain": [
       "13"
      ]
     },
     "execution_count": 5,
     "metadata": {},
     "output_type": "execute_result"
    }
   ],
   "source": [
    "cursor.execute (\" DESCRIBE `fintech_16`   \")"
   ]
  },
  {
   "cell_type": "code",
   "execution_count": 6,
   "metadata": {
    "collapsed": false,
    "scrolled": true
   },
   "outputs": [
    {
     "data": {
      "text/plain": [
       "((u'ID', u'int(11)', u'NO', u'PRI', None, u'auto_increment'),\n",
       " (u'Title', u'varchar(149)', u'YES', u'', None, u''),\n",
       " (u'Content', u'varchar(921)', u'YES', u'', None, u''),\n",
       " (u'Snippet', u'varchar(297)', u'YES', u'', None, u''),\n",
       " (u'Link', u'varchar(205)', u'YES', u'', None, u''),\n",
       " (u'Date', u'date', u'YES', u'', None, u''),\n",
       " (u'Source', u'varchar(74)', u'YES', u'', None, u''),\n",
       " (u'Trend', u'varchar(38)', u'YES', u'', None, u''),\n",
       " (u'Segment', u'varchar(45)', u'YES', u'', None, u''),\n",
       " (u'Company', u'varchar(93)', u'YES', u'', None, u''),\n",
       " (u'Country', u'varchar(39)', u'YES', u'', None, u''),\n",
       " (u'Investment (US$ million)', u'varchar(4)', u'YES', u'', None, u''),\n",
       " (u'Investors', u'varchar(200)', u'YES', u'', None, u''))"
      ]
     },
     "execution_count": 6,
     "metadata": {},
     "output_type": "execute_result"
    }
   ],
   "source": [
    "cursor.fetchall()"
   ]
  },
  {
   "cell_type": "markdown",
   "metadata": {},
   "source": [
    "'ID', 'Title', 'Content', 'Snippet', 'Link', 'Date', 'Source', 'Trend', 'Segment', 'Company', 'Country', 'Investment (US$ million)', 'Investors' "
   ]
  },
  {
   "cell_type": "markdown",
   "metadata": {},
   "source": [
    "### Investments in 2015"
   ]
  },
  {
   "cell_type": "code",
   "execution_count": 7,
   "metadata": {
    "collapsed": false
   },
   "outputs": [],
   "source": [
    "inv_15 = cursor.execute (\"SELECT * FROM `fintech_15`  WHERE `Country` LIKE '%US%' AND `Trend` LIKE '%Investment%' \")"
   ]
  },
  {
   "cell_type": "code",
   "execution_count": 8,
   "metadata": {
    "collapsed": true
   },
   "outputs": [],
   "source": [
    "#rest = cursor.fetchall()"
   ]
  },
  {
   "cell_type": "code",
   "execution_count": 9,
   "metadata": {
    "collapsed": false
   },
   "outputs": [
    {
     "data": {
      "text/plain": [
       "36"
      ]
     },
     "execution_count": 9,
     "metadata": {},
     "output_type": "execute_result"
    }
   ],
   "source": [
    "inv_15"
   ]
  },
  {
   "cell_type": "code",
   "execution_count": 10,
   "metadata": {
    "collapsed": true
   },
   "outputs": [],
   "source": [
    "inv_16 = cursor.execute (\"SELECT * FROM `fintech_16`  WHERE `Country` LIKE '%US%' AND `Trend` LIKE '%Investment%' \")"
   ]
  },
  {
   "cell_type": "code",
   "execution_count": 11,
   "metadata": {
    "collapsed": false
   },
   "outputs": [
    {
     "data": {
      "text/plain": [
       "50"
      ]
     },
     "execution_count": 11,
     "metadata": {},
     "output_type": "execute_result"
    }
   ],
   "source": [
    "inv_16"
   ]
  },
  {
   "cell_type": "markdown",
   "metadata": {},
   "source": [
    "#### New Products"
   ]
  },
  {
   "cell_type": "code",
   "execution_count": 12,
   "metadata": {
    "collapsed": false
   },
   "outputs": [
    {
     "data": {
      "text/plain": [
       "0"
      ]
     },
     "execution_count": 12,
     "metadata": {},
     "output_type": "execute_result"
    }
   ],
   "source": [
    "reg_15 = cursor.execute (\"SELECT * FROM `fintech_15`  WHERE `Country` LIKE '%US%' AND `Trend` LIKE '%Regulations%' \")\n",
    "reg_15"
   ]
  },
  {
   "cell_type": "code",
   "execution_count": 13,
   "metadata": {
    "collapsed": false
   },
   "outputs": [
    {
     "data": {
      "text/plain": [
       "1"
      ]
     },
     "execution_count": 13,
     "metadata": {},
     "output_type": "execute_result"
    }
   ],
   "source": [
    "reg_16 = cursor.execute (\"SELECT * FROM `fintech_16`  WHERE `Country` LIKE '%US%' AND `Trend` LIKE '%Regulations%' \")\n",
    "reg_16"
   ]
  },
  {
   "cell_type": "code",
   "execution_count": 14,
   "metadata": {
    "collapsed": false
   },
   "outputs": [
    {
     "data": {
      "text/plain": [
       "58"
      ]
     },
     "execution_count": 14,
     "metadata": {},
     "output_type": "execute_result"
    }
   ],
   "source": [
    "all_15 = cursor.execute (\"SELECT * FROM `fintech_15` WHERE `Country` LIKE '%US%'   \")\n",
    "all_15"
   ]
  },
  {
   "cell_type": "code",
   "execution_count": 15,
   "metadata": {
    "collapsed": false
   },
   "outputs": [
    {
     "data": {
      "text/plain": [
       "91"
      ]
     },
     "execution_count": 15,
     "metadata": {},
     "output_type": "execute_result"
    }
   ],
   "source": [
    "all_16 = cursor.execute (\"SELECT * FROM `fintech_16` WHERE `Country` LIKE '%US%'  \")\n",
    "all_16"
   ]
  },
  {
   "cell_type": "code",
   "execution_count": 16,
   "metadata": {
    "collapsed": false
   },
   "outputs": [
    {
     "data": {
      "text/plain": [
       "22"
      ]
     },
     "execution_count": 16,
     "metadata": {},
     "output_type": "execute_result"
    }
   ],
   "source": [
    "new_15 = all_15 - reg_15 - inv_15\n",
    "new_15"
   ]
  },
  {
   "cell_type": "code",
   "execution_count": 17,
   "metadata": {
    "collapsed": false
   },
   "outputs": [
    {
     "data": {
      "text/plain": [
       "40"
      ]
     },
     "execution_count": 17,
     "metadata": {},
     "output_type": "execute_result"
    }
   ],
   "source": [
    "new_16 = all_16 - reg_16 - inv_16\n",
    "new_16"
   ]
  },
  {
   "cell_type": "markdown",
   "metadata": {},
   "source": [
    "#### Accelerators"
   ]
  },
  {
   "cell_type": "code",
   "execution_count": 18,
   "metadata": {
    "collapsed": false
   },
   "outputs": [
    {
     "data": {
      "text/plain": [
       "9"
      ]
     },
     "execution_count": 18,
     "metadata": {},
     "output_type": "execute_result"
    }
   ],
   "source": [
    "cursor.execute (\"  SELECT `Company` FROM `fintech_15` WHERE `Country` LIKE '%US%' AND `Segment` LIKE '%Accelerators%' \")"
   ]
  },
  {
   "cell_type": "code",
   "execution_count": 19,
   "metadata": {
    "collapsed": false
   },
   "outputs": [],
   "source": [
    "s = cursor.fetchall()"
   ]
  },
  {
   "cell_type": "code",
   "execution_count": 20,
   "metadata": {
    "collapsed": false
   },
   "outputs": [
    {
     "data": {
      "text/plain": [
       "9"
      ]
     },
     "execution_count": 20,
     "metadata": {},
     "output_type": "execute_result"
    }
   ],
   "source": [
    "len(s)"
   ]
  },
  {
   "cell_type": "code",
   "execution_count": 21,
   "metadata": {
    "collapsed": false
   },
   "outputs": [
    {
     "data": {
      "text/plain": [
       "((u'Barclays',),\n",
       " (u'WorldPay,ATDC fintech accelerator',),\n",
       " (u'Life.SREDA,InspirAsia',),\n",
       " (u'H2 Accelerator',),\n",
       " (u'Expensify',),\n",
       " (u'NAB Ventures',),\n",
       " (u'Silicon Valley Bank',),\n",
       " (u'Alt-Options',),\n",
       " (u'FIS',))"
      ]
     },
     "execution_count": 21,
     "metadata": {},
     "output_type": "execute_result"
    }
   ],
   "source": [
    "s"
   ]
  },
  {
   "cell_type": "code",
   "execution_count": 22,
   "metadata": {
    "collapsed": true
   },
   "outputs": [],
   "source": [
    "query = \"SELECT * FROM `fintech_16`  WHERE `Country` LIKE '%US%'  \""
   ]
  },
  {
   "cell_type": "code",
   "execution_count": 23,
   "metadata": {
    "collapsed": false
   },
   "outputs": [],
   "source": [
    "aa = cursor.execute (query)"
   ]
  },
  {
   "cell_type": "code",
   "execution_count": 24,
   "metadata": {
    "collapsed": false,
    "scrolled": true
   },
   "outputs": [
    {
     "name": "stdout",
     "output_type": "stream",
     "text": [
      "91\n"
     ]
    }
   ],
   "source": [
    "print aa"
   ]
  },
  {
   "cell_type": "code",
   "execution_count": 25,
   "metadata": {
    "collapsed": false
   },
   "outputs": [],
   "source": [
    "bb = cursor.fetchall()"
   ]
  },
  {
   "cell_type": "code",
   "execution_count": 26,
   "metadata": {
    "collapsed": false
   },
   "outputs": [
    {
     "data": {
      "text/plain": [
       "((3,\n",
       "  u'Cultivation Capital launching US$75 million fintech fund',\n",
       "  u'Canada-based Cultivation Capital has launched Fintech fund with overall target of US$75 million. The company has partnered with ex-CEO of Shareholder InSite, Joe Maxwell for this project. The funding would be open for all Canadian Fintech startups or just for Nashville or St. Louis companies has not been declared.',\n",
       "  u'St. Louis-based venture capital firm Cultivation Capital has created a new fund geared solely for financial services technology startups and plans to raise at least ...',\n",
       "  u'http://www.bizjournals.com/stlouis/blog/biznext/2016/01/cultivation-capital-launching-75-million-fintech.html',\n",
       "  datetime.date(2016, 1, 11),\n",
       "  u'St. Louis business Journal (blog)',\n",
       "  u'New Products',\n",
       "  u'Accelerators Incubators and Funds',\n",
       "  u'Cultivation Capital',\n",
       "  u'US',\n",
       "  u'NA',\n",
       "  u'Cultivation Capital'),\n",
       " (10,\n",
       "  u'Online lender LoanHero raises $2.5 million',\n",
       "  u\"US-based online lender LoanHero has raised US$2.5 million in additional equity funding making the total of venture capital fund of $4.2 million. LoanHero has its online lending platform which allows merchants to offer point-of-sale financing to customers. Home improvement, pet stores, alternative medicine and auto repair are the major industries targeted. The new fund would be used for company's expansion in other states.\",\n",
       "  u'San Diego online lender LoanHero said Wednesday that it has raised $2.5 million in additional equity funding, bringing the total amount of venture capital that ...',\n",
       "  u'http://www.sandiegouniontribune.com/news/2016/jan/21/loanhero-alsop-louie-mucker-capital-alternative/',\n",
       "  datetime.date(2016, 1, 21),\n",
       "  u'The San Diego Union-Tribune',\n",
       "  u'Investments',\n",
       "  u'Lending',\n",
       "  u'LoanHero',\n",
       "  u'US',\n",
       "  u'2.5',\n",
       "  u'NA'),\n",
       " (20,\n",
       "  u'Symbiont and Gemalto get together for blockchain security',\n",
       "  u\"Symbiont, a pioneer in the use of blockchain and distributed ledger technology in capital markets, has partnered Gemalto to enable financial services organizations to securely execute smart contracts and other blockchain-based transactions.\\n\\nUnder the partnership, Symbiont will use Gemalto's SafeNet Hardware Security Modules (HSMs) to protect blockchain identities and transactions, helping to prevent theft, forgery, and other types of malfeasance.\\n\\nBlockchain is a new technology that allows transactions to be carried out over peer-to-peer financial networks and acts as a distributed ledger that gives transactional authority directly to each counterparty involved. Symbiont's platform uses blockchain to allow institutions and investors to issue, manage and trade a range of financial instruments more efficiently over an encrypted peer-to-peer network.\\n\",\n",
       "  u'By FinTech Innovation Editors | 2016-02-03. inShare0. Email PrintShare. Symbiont, a pioneer in the use of blockchain and distributed ledger technology in ...',\n",
       "  u'http://www.enterpriseinnovation.net/article/symbiont-gemalto-partner-blockchain-security-1512832752',\n",
       "  datetime.date(2016, 2, 2),\n",
       "  u'Enterprise Innovation',\n",
       "  u'Collaboration',\n",
       "  u'B2B Fintech Services',\n",
       "  u'Symbiont,Gemalto',\n",
       "  u'US',\n",
       "  u'NA',\n",
       "  u'NA'),\n",
       " (24,\n",
       "  u'Efma, Microsoft and Avanade get together for a Fintech portal',\n",
       "  u'Efma, Microsoft and Avanade have come together to create a Fintech portal for Fintech companies world-wide. This platform aims to bridge the gap between fintechs, banks and insurance companies.   ',\n",
       "  u\"Efma, Microsoft and Avanade have joined hands with some of the world's largest financial institutions to launch a new Fintech portal to connect the rapidly ...\",\n",
       "  u'http://www.enterpriseinnovation.net/article/efma-microsoft-and-avanade-launch-fintech-portal-954194080',\n",
       "  datetime.date(2016, 2, 10),\n",
       "  u'Enterprise Innovation',\n",
       "  u'New Products,Collaboration',\n",
       "  u'Marketplace',\n",
       "  u'Efma,Microsoft,Avanade',\n",
       "  u'US',\n",
       "  u'NA',\n",
       "  u'NA'),\n",
       " (29,\n",
       "  u'StoneEagle, B2B fintech, gets US$ 76 million',\n",
       "  u'\\nUS based StoneEagle Services has secured US$76 million from FTV Capital. StoneEagle processes B2B payments made via ACH, virtual and commercial cards and checks. \\nThe new funding would be used to strengthen its existing customer relationships, focus on product growth and development and enhance its technology.\\n',\n",
       "  u\"FinTech innovators are nabbing serious venture capital cash, but it's not often that a startup operating strictly in the B2B payments space secures funding.\",\n",
       "  u'http://www.pymnts.com/news/b2b-payments/2016/b2b-payments-startup-sees-rare-multimillion-dollar-funding/',\n",
       "  datetime.date(2016, 2, 18),\n",
       "  u'PYMNTS.com',\n",
       "  u'Investments',\n",
       "  u'Payment Processing',\n",
       "  u'StoneEagle Services',\n",
       "  u'US',\n",
       "  u'76',\n",
       "  u'FTV capital'),\n",
       " (31,\n",
       "  u'DirectMoney - Fintech lender partners with Australian bank',\n",
       "  u'Australian DirectMoney, marketplace lender, has entered a funding agreement with Macquarie Bank which will see the lender purchase US$3.85 million portfolio of loans originated by DirectMoney.',\n",
       "  u'The fintech company has entered into an agreement with Macquarie Bank which will see the lender purchase a $A5 million portfolio of loans originated by ...',\n",
       "  u'http://www.brokernews.com.au/news/breaking-news/fintech-lender-partners-with-leading-australian-bank-212144.aspx',\n",
       "  datetime.date(2016, 2, 21),\n",
       "  u'Australian Broker',\n",
       "  u'Collaboration',\n",
       "  u'Lending',\n",
       "  u'DirectMoney',\n",
       "  u'Australia',\n",
       "  u'3.85',\n",
       "  u'NA'),\n",
       " (33,\n",
       "  u'MasterCard to strengthen its safety net',\n",
       "  u'Mastercard has launched a suite of solutions, Mastercard IQ series, that uses real-time intelligence to make more informed decisions and to reduce the number of unnecessary declined transactions based on suspected fraud.',\n",
       "  u'By FinTech Innovation editors | 2016-02-22. inShare0. Email PrintShare \\xb7 MasterCard has unveiled a suite of solutions that use real-time intelligence to empower ...',\n",
       "  u'http://www.enterpriseinnovation.net/article/mastercard-launches-suite-real-time-fraud-management-tools-1826737614',\n",
       "  datetime.date(2016, 2, 22),\n",
       "  u'Enterprise Innovation',\n",
       "  u'New Products',\n",
       "  u'Analytics and Management',\n",
       "  u'MasterCard',\n",
       "  u'US',\n",
       "  u'',\n",
       "  u''),\n",
       " (37,\n",
       "  u'Fintech acquisition by KPMG',\n",
       "  u'KPMG, accounting and consulting giant, has acquired Markets IT (Australian fintech) for an undisclosed sum. This deal will improve KPMG\\u2019s expertise in the area of Murex software, as the firm seeks to provide financial institutions with a range of solutions in the area of regulatory compliance, cost-cutting and meeting competitive pressures. ',\n",
       "  u\"Accounting and consulting giant KPMG has acquired Markets IT for an undisclosed sum. The purchase of the Australian FinTech player will improve KPMG's ...\",\n",
       "  u'http://www.consultancy.uk/news/3319/kpmg-acquires-australian-fintech-company-markets-it',\n",
       "  datetime.date(2016, 2, 24),\n",
       "  u'Consultancy.uk',\n",
       "  u'Investments',\n",
       "  u'B2B Fintech Services',\n",
       "  u'Markets IT,KPMG',\n",
       "  u'Australia',\n",
       "  u'',\n",
       "  u''),\n",
       " (39,\n",
       "  u'SixThirty gets along with RGA to grow fintech startups',\n",
       "  u'Canada based fintech accelerator SixThirty has partnered with RGAx, a subsidiary of Reinsurance Group of America that focuses on new and emerging technology. RGA has committed an undisclosed capital amount to help some of the fintech startups SixThirty brings into its portfolio',\n",
       "  u'As part of the deal, RGA has committed an undisclosed amount of capital to helping nurture some of the fintech startups SixThirty brings into its portfolio. Also ...',\n",
       "  u'http://www.bizjournals.com/stlouis/blog/biznext/2016/02/sixthirty-partners-with-rga-to-grow-fintech.html',\n",
       "  datetime.date(2016, 2, 29),\n",
       "  u'St. Louis business Journal (blog)',\n",
       "  u'Collaboration',\n",
       "  u'Accelerators Incubators and Funds',\n",
       "  u'SixThirty,RGA',\n",
       "  u'US',\n",
       "  u'NA',\n",
       "  u'RGA'),\n",
       " (43,\n",
       "  u'MoneyBrilliant acquired by AMP',\n",
       "  u'Australia based fintech startup MoneyBrilliant has been acquired by AMP for an undisclosed amount. MoneyBrilliant will be kept as an independent company to expand its customer offerings. AMP invested US$1.5 million in the startup earlier (in 2014).\\n',\n",
       "  u'After investing $1.5 million into Sydney-based fintech startup MoneyBrilliant in 2014, AMP announced it has acquired the startup for an undisclosed sum.',\n",
       "  u'http://www.businessinsider.com.au/amp-just-bought-a-sydney-fintech-startup-2016-3',\n",
       "  datetime.date(2016, 3, 2),\n",
       "  u'business Insider Australia',\n",
       "  u'Investments',\n",
       "  u'Analytics and Management',\n",
       "  u'MoneyBrilliant,AMP',\n",
       "  u'Australia',\n",
       "  u'NA',\n",
       "  u'AMP'),\n",
       " (44,\n",
       "  u'Investec Australia acquires stake in H2 Ventures',\n",
       "  u'Australia based Investec, financial products and services provider, has acquired a stake in the fintech accelerator H2 Ventures for an undisclosed amount. Investec, an international specialist banking and asset management group, will become a shareholder in the start-ups that H2 will invest in.',\n",
       "  u'Financial products and services provider Investec Australia has acquired a stake in the fintech accelerator H2 Ventures, for an undisclosed amount, according to ...',\n",
       "  u'http://www.dealstreetasia.com/stories/32867-32867/',\n",
       "  datetime.date(2016, 3, 2),\n",
       "  u'DEALSTREETASIA',\n",
       "  u'Investments',\n",
       "  u'Accelerators Incubators and Funds',\n",
       "  u'Investec Australia,H2 Ventures',\n",
       "  u'Australia',\n",
       "  u'NA',\n",
       "  u'NA'),\n",
       " (45,\n",
       "  u'Fintech start-up MoneyMe raises US$23.1 million from a private Aussie family office',\n",
       "  u'Australia based consumer fintech start-up MoneyMe has raised a US$23.1 million capital from an ultra high net worth Australian family office.\\nThe fund would be utilized for the launch of a series of niche Australian-first financial products that will be marketed to the millennial market.',\n",
       "  u'Consumer fintech start-up MoneyMe has announced a $30 million capital raise after just two years in operation, signaling increasing confidence by the ...',\n",
       "  u'http://anthillonline.com/startup-scale-30-million-capital-raise-signals-growing-investor-confidence-australian-fintech/',\n",
       "  datetime.date(2016, 3, 3),\n",
       "  u'Anthill online',\n",
       "  u'Investments',\n",
       "  u'Lending',\n",
       "  u'MoneyMe',\n",
       "  u'Australia',\n",
       "  u'23.1',\n",
       "  u'NA'),\n",
       " (55,\n",
       "  u'Fintech Openpay seeks US$10 million pre-IPO raising',\n",
       "  u'Australia based Openpay, a new challenger to soaring ASX-listed fintech start-up Afterpay, has launched a pre-IPO capital raising, seeking US$8-10 million ahead of a planned ASX listing next year. ',\n",
       "  u'Fintech start-up Afterpay \\u2014 backed by legendary corporate raider Ron Brierley and a host of alumni from his former Guinness Peat Group \\u2014 plans to list on the ...',\n",
       "  u'http://www.theaustralian.com.au/business/financial-services/fintech-startup-afterpay-plans-asx-listing/news-story/64688bb402cedd6d8e5983db325c7fd6',\n",
       "  datetime.date(2016, 3, 17),\n",
       "  u'The Australian (subscription)',\n",
       "  u'Investments',\n",
       "  u'Payment Processing',\n",
       "  u'Afterpay',\n",
       "  u'Australia',\n",
       "  u'NA',\n",
       "  u'NA'),\n",
       " (61,\n",
       "  u'Aspire Financial raises US$0.75 million in seed round to enhance its data and technology',\n",
       "  u'US based fintech Aspire Financial has raised US$0.75 in early seed funding led by by existing shareholders including company founders and new strategic investors Globalive Capital.\\nThe company, focused on providing data and tech solutions to help companies in global financial services, will use the fund to invest in its Aspire Gateway technology infrastructure solution, which connects alternative and marketplace lenders with institutional capital. \\n\\n',\n",
       "  u'The company, which is focused on providing data and tech solutions to help companies in global financial services, will use the funding to invest in its Aspire ...',\n",
       "  u'http://betakit.com/mars-fintech-company-aspire-financial-raises-750000-seed-round/',\n",
       "  datetime.date(2016, 3, 24),\n",
       "  u'BetaKit',\n",
       "  u'Investments',\n",
       "  u'B2B Fintech Services',\n",
       "  u'Aspire Financial',\n",
       "  u'US',\n",
       "  u'0.75',\n",
       "  u'Globalive Capital'),\n",
       " (64,\n",
       "  u'Santander and Kabbage partner to provide same day loans to SMEs',\n",
       "  u\"Europe giant bank Santander and US alternative lending firm Kabbage have announced a pilot program allowing SMEs to get working capital loans on same day - a process that typically takes days or weeks. SMEs will be able to apply online on Kabbage's platform for a loan of US$710-$142,000, get approval within minutes, and access the money the same day. \",\n",
       "  u'Welcome to The Fintech Briefing, a morning email providing the latest news, data, and insight into disruptive fintech in Europe and around the world, produced ...',\n",
       "  u'http://uk.businessinsider.com/fintech-briefing-bbvas-plan-to-compete-with-fintechs-sme-partners-to-boost-sme-lending-barclays-offer-apple-pay-2016-4',\n",
       "  datetime.date(2016, 4, 5),\n",
       "  u'business Insider',\n",
       "  u'Collaboration',\n",
       "  u'Lending',\n",
       "  u'Kabbage,Santander',\n",
       "  u'US,Spain',\n",
       "  u'NA',\n",
       "  u'NA'),\n",
       " (67,\n",
       "  u'JP Morgan shakes-up fintech investing unit',\n",
       "  u'JP Morgan has combined its strategic investments team with its private equity business Heritage Private Equity. The combined team is led by managing director Ana Capella, who previously headed Heritage Private Equity and will make investments on behalf of the entire JP Morgan Chase group. The shake-up follows the departure of Luis Valdich, managing director and global head of the strategic investments team, to Citi Ventures.',\n",
       "  u\"Casella, who spent nearly two years in JP Morgan's fintech investment team, will back early-stage companies, according to his LinkedIn profile. Prior to joining ...\",\n",
       "  u'http://www.efinancialnews.com/story/2016-04-11/jp-morgan-reshuffles-fintech-investing-unit',\n",
       "  datetime.date(2016, 4, 10),\n",
       "  u'Financial News (subscription)',\n",
       "  u'New Products,Expansion',\n",
       "  u'Accelerators Incubators and Funds',\n",
       "  u'JP Morgan',\n",
       "  u'US',\n",
       "  u'NA',\n",
       "  u'NA'),\n",
       " (68,\n",
       "  u'US$9 million round for fintech startup Even',\n",
       "  u'US based fintech startup Even, that helps hourly workers manage their pay cheques, has raised US$9 million in series A round led by Valar ventures with participation from Keith Rabois at Khosla Ventures. Existing investors Qualcomm Ventures, Camp One Ventures, David Tisch, BoxGroup and Homebrew Ventures, in addition to new investors Henry Kravis, Allen & Company and Bob Jain also contributed to the round. Even has raised US$12 million to date.',\n",
       "  u'... its operations and\\u2026 more. Courtesy photo. Fintech startup Even raised $9 million in Series A funding Monday to help hourly workers manage their paychecks.',\n",
       "  u'http://www.bizjournals.com/sanjose/blog/techflash/2016/04/peter-thiels-valar-ventures-leads-9m-round-for.html',\n",
       "  datetime.date(2016, 4, 11),\n",
       "  u'Silicon Valley business Journal (blog)',\n",
       "  u'Investments',\n",
       "  u'Payment Processing',\n",
       "  u'Even,Valar Ventures',\n",
       "  u'US',\n",
       "  u'9',\n",
       "  u'Valar Ventures,Khosla Ventures,Qualcomm Ventures,Camp One Ventures,David Tisch,BoxGroup,Homebrew Ventures'),\n",
       " (69,\n",
       "  u'Icap buys hedge fund analytics startup in fintech push',\n",
       "  u'',\n",
       "  u\"The acquisition of Enso Financial Analytics, for an undisclosed amount, was led by Icap's fintech strategic investment arm Euclid Opportunities, the company ...\",\n",
       "  u'http://www.efinancialnews.com/story/2016-04-14/icap-acquires-hedge-funds-analytics-startup-enso',\n",
       "  datetime.date(2016, 4, 13),\n",
       "  u'Financial News (subscription)',\n",
       "  u'Investments',\n",
       "  u'B2B Fintech Services',\n",
       "  u'Enso Financial Analytics,Icap',\n",
       "  u'US',\n",
       "  u'NA',\n",
       "  u'NA'),\n",
       " (76,\n",
       "  u'Trov launches on-demand insurance for individual items with new funding',\n",
       "  u\"US based fintech Trov has raised US$25.5 million in series C round raised by Oak HC/FT, with participation from Suncorp Group, Guidewire, and existing investor Anthemis Group.\\nTrov is designed to give consumers insurance for their individual possessions whenever it's needed. \",\n",
       "  u\"No, it's not Tinder for insurance, but a new technology platform created by fintech start-up, Trov, designed to give consumers insurance for their individual ...\",\n",
       "  u'https://techcrunch.com/2016/04/26/trov-insurance-on-demand/',\n",
       "  datetime.date(2016, 4, 26),\n",
       "  u'Sydney Morning Herald',\n",
       "  u'Investments',\n",
       "  u'Investment Advisory',\n",
       "  u'Trov,Suncorp',\n",
       "  u'US',\n",
       "  u'25.5',\n",
       "  u'Oak HC/FT,Suncorp Group,Guidewire,Anthemis Group'),\n",
       " (82,\n",
       "  u'SocietyOne raises another US$25 million',\n",
       "  u'Australia based marketplace lender SocietyOne has raised another round of US$25 million from existing investors Australian Capital Equity, Consolidated Press Holdings, News Corporation Australia, Seven West Media and Westpac Banking Corporation\\u2019s Reinventure Fund and new ones G&C Mutual Bank and the Maritime, Mining and Power Credit Union.',\n",
       "  u\"Marketplace lender SocietyOne has announced the successful capital raising of an additional $25 million to support the company's ambitious growth plans.\",\n",
       "  u'http://www.brokernews.com.au/news/breaking-news/fintech-lender-completes-major-capital-raising-215709.aspx',\n",
       "  datetime.date(2016, 5, 9),\n",
       "  u'Australian Broker',\n",
       "  u'Investments',\n",
       "  u'Lending,Marketplace',\n",
       "  u'SocietyOne',\n",
       "  u'Australia',\n",
       "  u'25',\n",
       "  u'Australian Capital Equity,Consolidated Press Holdings,News Corporation Australia,Seven West Media,Westpac Banking Corporation\\u2019s Reinventure Fund,G&C Mutual Bank,Maritime,Mining and Power Credit Union.'),\n",
       " (86,\n",
       "  u'Healthcare fintech Simplee raises Series C of US$ 20 million',\n",
       "  u'US based healthcare fintech Simplee has raised US$20 million in Series C funding round led by Social Capital with participation from new investor American Express Ventures and existing investors 83North and Heritage Group.\\n',\n",
       "  u'The $330 billion billion Americans spend out of pocket each year on health care expenses is more than they spend online. That makes the healthcare sector ripe ...',\n",
       "  u'http://www.banklesstimes.com/2016/05/16/healthcare-fintech-simplee-raises-20mm-series-c/',\n",
       "  datetime.date(2016, 5, 16),\n",
       "  u'Bankless Times',\n",
       "  u'Investments',\n",
       "  u'B2B Fintech Services',\n",
       "  u'Simplee',\n",
       "  u'US',\n",
       "  u'20',\n",
       "  u'Social Capital,American Express Ventures,83North,Heritage Group'),\n",
       " (89,\n",
       "  u'Insurance startup Embroker raises US$12.2 million',\n",
       "  u'US based Embroker has raised US$12.2 million Series A round led by Canaan Partners along with Nyca Partners and XL Innovate joined Canaan in the funding. This round follows up on the $2.2 million seed that was raised last year by Bee Partners, FinTech Collective, Vertical Venture Partners and 500 Startups.\\nEmbroker - insurance startups - brings insurance management services to the cloud.',\n",
       "  u'This round follows up on the $2.2 million seed that was raised last year by Bee Partners, FinTech Collective, Vertical Venture Partners and 500 Startups.',\n",
       "  u'http://www.geektime.com/2016/05/19/another-insurance-startup-this-time-embroker-raises-12-2-million/',\n",
       "  datetime.date(2016, 5, 19),\n",
       "  u'Geektime',\n",
       "  u'Investments',\n",
       "  u'Investment Advisory',\n",
       "  u'Embroker',\n",
       "  u'US',\n",
       "  u'12.2',\n",
       "  u'Canaan Partners,Nyca Partners,XL Innovate'),\n",
       " (96,\n",
       "  u'Fintech ChimpChange to raise US$15 million',\n",
       "  u'US fintech ChimpChange has aimed to raise US$15 million in its Australian IPO offering.\\nChimpChange lets users transfer money instantly between accounts using mobile phone numbers and the MasterCard network. ',\n",
       "  u\"It's the latest fintech outfit looking to list on the local bourse, but ChimpChange's founder and chief Ash Shilkin reckons he has the right mix of executive talent ...\",\n",
       "  u'http://www.theaustralian.com.au/business/technology/fintech-chimpchange-has-15m-ipo/news-story/b8c2d69a2b409553f5ba7cbcb1ef0caf',\n",
       "  datetime.date(2016, 5, 30),\n",
       "  u'The Australian',\n",
       "  u'Investments',\n",
       "  u'Payment Processing',\n",
       "  u'ChimpChange',\n",
       "  u'US',\n",
       "  u'NA',\n",
       "  u'NA'),\n",
       " (97,\n",
       "  u'Cuscal invests in fintech startup Moroku',\n",
       "  u'Australia based Cuscal has made a strategic investment in Moroku, a developer of mobile banking and payments software that has made a name for itself using gamification.',\n",
       "  u'Moroku is a fintech startup that is also part of the Stone and Chalk stable.The company was founded in 2012 by Colin Weir and Dave Durbin. The vision of ...',\n",
       "  u'http://www.computerworld.com.au/article/601029/cuscal-invests-fintech-startup/',\n",
       "  datetime.date(2016, 6, 2),\n",
       "  u'Computerworld Australia',\n",
       "  u'Investments',\n",
       "  u'B2B Fintech Services',\n",
       "  u'Moroku,Cuscal',\n",
       "  u'Australia',\n",
       "  u'NA',\n",
       "  u'NA'),\n",
       " (100,\n",
       "  u'Fintech startup Ascend raises Us$11 million',\n",
       "  u'US based fintech startup Ascend Consumer Finance has secured US$11 million from Mucker Capital, OCA Ventures, Partech Ventures, Tekton Ventures and Cendana Investments LP.\\nAscend intends to use the funding to roll out its proprietary Adaptive Risk Pricing technology that empowers consumers to prove their real-time creditworthiness by making sound financial choices.',\n",
       "  u'San Francisco-based financial tech startup Ascend Consumer Finance has secured $11 million in funding. The investors included Mucker Capital, OCA ...',\n",
       "  u'https://www.pehub.com/2016/06/3338138/',\n",
       "  datetime.date(2016, 6, 10),\n",
       "  u'PE Hub (subscription) (blog)',\n",
       "  u'Investments',\n",
       "  u'Lending',\n",
       "  u'Ascend Consumer Finance',\n",
       "  u'US',\n",
       "  u'11',\n",
       "  u'Mucker Capital,OCA Ventures,Partech Ventures,Tekton Ventures,Cendana Investments LP.'),\n",
       " (102,\n",
       "  u'Sberbank-IIDF launch fintech accelerator in Russia',\n",
       "  u'Russia based bank Sberbank & government fund IIDF (Internet Initiatives Development Fund) have jointly launched a fintech acceleration programme.IIDF will select the the startups for the accelerator while Sberbank will provide these ventures with expertise and funding for pilot projects.\\n',\n",
       "  u'Russian bank Sberbank & government fund IIDF are launching a fintech acceleration programme, while Skolkovo-based VisionLabs has released an open source ...',\n",
       "  u'http://www.dealstreetasia.com/stories/russia-digest-2-43818/',\n",
       "  datetime.date(2016, 6, 13),\n",
       "  u'DEALSTREETASIA',\n",
       "  u'New Products',\n",
       "  u'Accelerators Incubators and Funds',\n",
       "  u'Sberbank,IIDF',\n",
       "  u'Russia',\n",
       "  u'NA',\n",
       "  u'NA'),\n",
       " (111,\n",
       "  u'Fintech Plaid raises US$44 million in Series B funding',\n",
       "  u'US based, Plaid Technologies, a financial service software provider, has raised US$44 million in Series B funding round led by Goldman Sachs Investment Partners and New Enterprise Associates (NEA).\\nPlaid enables applications to connect with users\\u2019 bank accounts and helps fintech startups raise the infrastructure they need to access customer data. The investments will be used to build a user-friendly way to capture payment details, authenticate accounts, validate identities and check balances for users. ',\n",
       "  u\"Plaid enables applications to connect with users' bank accounts and helps fintech (financial technology) startups raise the infrastructure they need to access ...\",\n",
       "  u'http://techseen.com/2016/06/20/plaid-44m-seriesb-funding/',\n",
       "  datetime.date(2016, 6, 20),\n",
       "  u'Techseen',\n",
       "  u'Investments',\n",
       "  u'Analytics and Management',\n",
       "  u'Plaid Technologies',\n",
       "  u'US',\n",
       "  u'44',\n",
       "  u'Goldman Sachs Investment Partners,New Enterprise Associates'),\n",
       " (116,\n",
       "  u'Sydney fintech Avoka raises US$12 million',\n",
       "  u'Australia based Avoka, a fintech company that streamlines online forms for desktop and mobile, has raised US$12 million. The company will use this fund to expand its operations.',\n",
       "  u'The Denver-Boulder startup ecosystem is not known as a fintech hub, rather as a software center. That, along with its geography, attracted Avoka to set up its ...',\n",
       "  u'http://www.geektime.com/2016/06/29/sydney-fintech-startup-avoka-raises-12-million-with-plans-to-expand-in-denver/',\n",
       "  datetime.date(2016, 6, 28),\n",
       "  u'Geektime',\n",
       "  u'Investments',\n",
       "  u'B2B Fintech Services',\n",
       "  u'Avoka',\n",
       "  u'Australia',\n",
       "  u'12',\n",
       "  u'NA'),\n",
       " (119,\n",
       "  u'NY based fintech dv01 bags US$7.5 millions of seed funding',\n",
       "  u'US based lending markets analytics platform dv01 has raised US$7.5 million of seed funding from Quantum Strategic Partners Ltd., Leucadia National Corporation and Pivot Investment Partners. The New York-based company is launching portfolio management software for marketplace loans.\\n\\n',\n",
       "  u'Lending markets analytics platform dv01 announced it has raised $7.5 million of seed funding from Quantum Strategic Partners Ltd., Leucadia National ...',\n",
       "  u'https://www.pehub.com/2016/06/3341308/',\n",
       "  datetime.date(2016, 6, 29),\n",
       "  u'PE Hub (subscription) (blog)',\n",
       "  u'Investments',\n",
       "  u'Lending,Marketplace',\n",
       "  u'dv01',\n",
       "  u'US',\n",
       "  u'7.5',\n",
       "  u'Quantum Strategic Partners Ltd.,Leucadia National Corporation,Pivot Investment Partners'),\n",
       " (123,\n",
       "  u'Airwallex has raised US$3 million from Gobi Partners',\n",
       "  u'Australia Airwallex, international transaction platform, has raised pre-launch round of US$3 million led by Gobi Partners.\\nAirwallex estimates so-called real exchange rates, the midpoint between buy and sell prices for currency tradesand aims for SMEs as customers.',\n",
       "  u'International transactions platform Airwallex announced a $3 million (AU$4.5 million) pre-launch round Tuesday, led by Gobi Partners. Airwallex estimates ...',\n",
       "  u'http://www.geektime.com/2016/07/06/melbourne-fintech-startup-grabs-3-million-before-launch/',\n",
       "  datetime.date(2016, 7, 6),\n",
       "  u'Geektime',\n",
       "  u'Investments',\n",
       "  u'Payment Processing',\n",
       "  u'Airwallex,Gobi Partners',\n",
       "  u'Australia',\n",
       "  u'3',\n",
       "  u'Gobi partners'),\n",
       " (129,\n",
       "  u'Ernst & Young partners with Sydney-based fintech hub',\n",
       "  u\"Ernst & Young (EY) has partnered with Sydney fintech hub Stone & Chalk with the aim to provide professional advice, support and experience to Stone & Chalk's startup members.\",\n",
       "  u'Ernst & Young (EY) has today announced a corporate partnership with Sydney fintech hub Stone & Chalk. The aim of the partnership is to provide professional ...',\n",
       "  u'https://www.finder.com.au/ernst-young-fintech-partnership-stone-chalk',\n",
       "  datetime.date(2016, 7, 13),\n",
       "  u'finder.com.au',\n",
       "  u'Collaboration',\n",
       "  u'Accelerators Incubators and Funds',\n",
       "  u'Ernst & Young,Stone & Chalk',\n",
       "  u'Australia',\n",
       "  u'NA',\n",
       "  u'NA'),\n",
       " (136,\n",
       "  u'Australian fintechs partner for effective loan processing and payments',\n",
       "  u'Australia based fintechs Prospa and Reckon have partnered for the new product \"Reckon Loans\"  which will be facilitated by Prospa and allow Reckon\\'s customers to apply for loans of between US$5,000 ~ US$250,000.',\n",
       "  u'As banks are entering new partnerships with smaller fintech companies seemingly every week, today online SME lender Prospa has announced a partnership ...',\n",
       "  u'https://www.finder.com.au/partnership-prospa-reckon-loans',\n",
       "  datetime.date(2016, 7, 20),\n",
       "  u'finder.com.au',\n",
       "  u'Collaboration',\n",
       "  u'Lending',\n",
       "  u'Prospa,Reckon',\n",
       "  u'Australia',\n",
       "  u'NA',\n",
       "  u'NA'),\n",
       " (137,\n",
       "  u'ZipBooks raises US$2 million financing from Peak Ventures',\n",
       "  u'US based ZipBooks has raised US$2 million in seed round led by Peak Ventures with participation from Pelion Venture Partners, Liquid 2 Ventures and existing angel investors.\\nThe new fund would be used for new recruitments and expansion.',\n",
       "  u'Peak Ventures backs free accounting software startup that is gaining a foothold among small business owners and recruiting top talent.',\n",
       "  u'http://www.prnewswire.com/news-releases/peak-ventures-leads-2m-seed-investment-in-fintech-startup-zipbooks-300301316.html',\n",
       "  datetime.date(2016, 7, 20),\n",
       "  u'PR Newswire (press release)',\n",
       "  u'Investments',\n",
       "  u'Analytics and Management',\n",
       "  u'ZipBooks,Peak Ventures',\n",
       "  u'US',\n",
       "  u'2',\n",
       "  u'Peak Ventures,Pelion Venture Partners,Liquid 2 Ventures'),\n",
       " (143,\n",
       "  u'Agentic Group, blockchain consortium expands to the UK',\n",
       "  u'US New York based Agentic Group, a global blockchain consortium, has announced their expansion into the UK. The launch of Agentic UK aims to boost the fintech sector. The 35+ companies consortium, provides insight, advice, consultation and development services to corporations, non-profit organisations, and government agencies, as the world seeks to understand and leverage emerging blockchain applications.',\n",
       "  u'The launch of Agentic UK aims to boost the fintech sector following the Brexit ... UK is Lucas Cervigni, serial entrepreneur and global fintech industry veteran.',\n",
       "  u'http://www.ibtimes.co.uk/global-blockchain-consortium-agentic-group-opens-london-1572451',\n",
       "  datetime.date(2016, 7, 25),\n",
       "  u'International business Times UK',\n",
       "  u'Expansion',\n",
       "  u'Payment Processing',\n",
       "  u'Agentic Group',\n",
       "  u'UK,US',\n",
       "  u'NA',\n",
       "  u'NA'),\n",
       " (148,\n",
       "  u\"China's Baidu invests in US-based Zestfinance\",\n",
       "  u'China based and NASDAQ-listed Internet search provider Baidu has invested an undisclosed amount in US firm ZestFinance, a Los Angeles-based company that uses machine learning to transform vast amounts of complex data into credit scores. ',\n",
       "  u'China-based and NASDAQ-listed Internet search provider Baidu has made a strategic investment in US firm ZestFinance, a Los Angeles-based company that ...',\n",
       "  u'http://www.dealstreetasia.com/stories/48769-48769/',\n",
       "  datetime.date(2016, 7, 27),\n",
       "  u'DEALSTREETASIA',\n",
       "  u'Investments',\n",
       "  u'Analytics and Management',\n",
       "  u'Baidu,Zestfinance',\n",
       "  u'China,US',\n",
       "  u'NA',\n",
       "  u'Baidu'),\n",
       " (154,\n",
       "  u'Canstar launches fintech comparison portal',\n",
       "  u'Australia based Canstar has launched WealthBricks, a comparison portal for fintechs.',\n",
       "  u\"Canstar launches fintech comparison portal WealthBricks. 08 August 2016 | 1578 views | 0 Source: Canstar. More than 3 million Australians use Canstar's ...\",\n",
       "  u'https://www.finextra.com/pressarticle/65616/canstar-launches-fintech-comparison-portal-wealthbricks',\n",
       "  datetime.date(2016, 8, 8),\n",
       "  u'Finextra',\n",
       "  u'Investments',\n",
       "  u'Analytics and Management',\n",
       "  u'Canstar,WealthBricks',\n",
       "  u'Australia',\n",
       "  u'NA',\n",
       "  u'NA'),\n",
       " (158,\n",
       "  u'Finova Financial raises US$52.5 million',\n",
       "  u'US based fintech, Finova- the car title lending platform, has raised $52.5 million in a combination of equity and credit facility, in the round led by Silicon Valley and international VC firms such as: MHS Capital, Refactor Capital, Metamorphic Venture, 500 StartUps, and more. Finova will use the money to grow its all-digital lending platform that serves the car title loan marketplace.',\n",
       "  u'The car title lending platform raised $52.5 million in a combination of equity and credit facility, making it one of the largest initial rounds in fintech history.',\n",
       "  u'http://www.cbronline.com/news/verticals/finance/record-breaking-fintech-funding-raised-by-finova-financial-4976286',\n",
       "  datetime.date(2016, 8, 10),\n",
       "  u'Computer business Review',\n",
       "  u'Investments',\n",
       "  u'Lending',\n",
       "  u'Finova Financial',\n",
       "  u'US',\n",
       "  u'52.5',\n",
       "  u'MHS Capital,Refactor Capital,Metamorphic Venture,500 StartUps'),\n",
       " (163,\n",
       "  u'Village Capital has partnered with MasterCard and DOEN for a fintech program',\n",
       "  u'Village Capital has partnered the MasterCard Foundation and the DOEN Foundation to run a three-month programme supporting early-stage entrepreneurs innovating in fintech.\\nAt the end of the programme, two early-stage businesses will be selected by the other entrepreneurs in the cohort to win a total of US$0.1 million in funding.',\n",
       "  u'Village Capital has partnered the MasterCard Foundation and the DOEN Foundation to run a three-month programme supporting early-stage entrepreneurs ...',\n",
       "  u'http://disrupt-africa.com/2016/08/village-capital-launches-100k-pan-african-fintech-programme/',\n",
       "  datetime.date(2016, 8, 17),\n",
       "  u'Disrupt Africa',\n",
       "  u'New Products,Collaboration',\n",
       "  u'Accelerators Incubators and Funds',\n",
       "  u'Village Capital,MasterCard',\n",
       "  u'US',\n",
       "  u'NA',\n",
       "  u'NA'),\n",
       " (171,\n",
       "  u'MA Operator has partnered with Class Super to provide managed account and portfolio services to financial advisers',\n",
       "  u'Australia based cloud company, Class Super, has partnered with managed account fintech start-up, MA Operator, to provide managed account and direct client portfolio services to financial advisers. Class users would be able to automate client data entry and synchronise transactions in MA Operator. MA Operator also provided rebalancing, analytics, and automated records of advice generation.',\n",
       "  u'Cloud company, Class Super, has announced a partnership with managed account fintech start-up, MA Operator, to provide managed account and direct client ...',\n",
       "  u'http://www.moneymanagement.com.au/news/financial-planning/class-and-ma-operator-partner-fintech-venture',\n",
       "  datetime.date(2016, 8, 23),\n",
       "  u'Money Management',\n",
       "  u'Collaboration',\n",
       "  u'Analytics and Management',\n",
       "  u'MA Operator,Class Super',\n",
       "  u'Australia',\n",
       "  u'NA',\n",
       "  u'NA'),\n",
       " (174,\n",
       "  u'SelfScore has raised US$7 million in Series A funding from Pelion Venture Partners',\n",
       "  u'US based SelfScorea, a fintech company using data analytics and machine learning to measure credit potential, has raised US$7 million in Series A funding led by Pelion Venture Partners with participation from Accel and Aspect Ventures. \\nThe new funds will be used to grow its credit card portfolio, accelerate new product development, grow its nationwide presence across college campuses, and continue to expand its internal team.',\n",
       "  u'August 24, 2016 \\u2013 SelfScore, a fintech company using data analytics and machine learning to measure credit potential, today announced it has closed $7 million ...',\n",
       "  u'https://www.pehub.com/2016/08/fintech-startup-selfscore-reels-in-7-mln/',\n",
       "  datetime.date(2016, 8, 24),\n",
       "  u'PE Hub (subscription) (blog)',\n",
       "  u'Investments',\n",
       "  u'Analytics and Management',\n",
       "  u'SelfScore,Pelion Venture Partners',\n",
       "  u'US',\n",
       "  u'7',\n",
       "  u'Pelion Venture Partners,Accel,Aspect Ventures'),\n",
       " (175,\n",
       "  u'Thomson Reuters has partnered with Amareos and Oddup to launch two mobile apps',\n",
       "  u'Thomson Reuters has partnered with FinTech startups Amareos and Oddup to launch two apps.\\nThe apps were developed within Eikon App Studio, the financial app development suite of Eikon, Thomson Reuter\\u2019s financial analysis solution. App Studio allows third parties to blend Thomson Reuters  news, market data and analytical tools with proprietary research and other third-party data to create apps for their own use or for release to the wider industry.',\n",
       "  u'Thomson Reuters has launched its first two Asia apps in partnership with FinTech startups Amareos and Oddup. The apps were developed within Eikon App ...',\n",
       "  u'http://www.enterpriseinnovation.net/article/two-fintech-startups-launch-mobile-apps-thomson-reuters-app-studio-1324492300',\n",
       "  datetime.date(2016, 8, 24),\n",
       "  u'Enterprise Innovation',\n",
       "  u'New Products,Collaboration',\n",
       "  u'Analytics and Management',\n",
       "  u'Thomson Reuters,Amareos,Oddup',\n",
       "  u'US,Hong kong',\n",
       "  u'NA',\n",
       "  u'NA'),\n",
       " (179,\n",
       "  u'ANZ Bank is using cloud platforms to collaborate with fintech companies',\n",
       "  u'ANZ Banking Group has adopted cloud-based services in order to pursue a more flexible technology strategy, with Netflix-developed software to stop outages and the door left open to collaborate more openly with emerging fintech start-ups.',\n",
       "  u\"ANZ's Christian Venter said the bank has increased its use of cloud platforms to host more dynamic content on its websites and mobile apps. Craig Sillitoe.\",\n",
       "  u'http://www.afr.com/technology/cloud-computing/anz-bank-ups-cloud-focus-with-open-networks-for-fintech-collaboration-20160824-gqzzks',\n",
       "  datetime.date(2016, 8, 29),\n",
       "  u'The Australian Financial Review',\n",
       "  u'Collaboration,Expansion',\n",
       "  u'B2B Fintech Services',\n",
       "  u'ANZ Bank',\n",
       "  u'Australia',\n",
       "  u'NA',\n",
       "  u'NA'),\n",
       " (181,\n",
       "  u'Home Loans mortgage company Uno has received financing of $16.5 million from Westpac',\n",
       "  u'Australia based digital mortgage service startups Uno has raised US$16.5 million from Westpac. Uno allows users to search, compare and choose a home loan through its portal, with needing a broker. Its popularity is growing in Australia since its launch in May2016',\n",
       "  u'Westpac has made a major strategic investment of $16.5 million and led the funding round for disruptive digital mortgage service unohomeloans.com.au.',\n",
       "  u'http://anthillonline.com/new-australian-fintech-start-uno-snares-16-5-million-investment-westpac/',\n",
       "  datetime.date(2016, 9, 14),\n",
       "  u'Anthill online',\n",
       "  u'Investments',\n",
       "  u'Marketplace',\n",
       "  u'Uno,Westpac',\n",
       "  u'Australia',\n",
       "  u'16.5',\n",
       "  u'Westpac'),\n",
       " (189,\n",
       "  u'FTV Capital has $850 million fintech-focused fund',\n",
       "  u'US based VC firm FTV Capital has closed its fifth fund \\u2014 totaling US$850 million \\u2014 a number that brings its total raised over the past 20 years to US$2.7 billion.This fund will focus on enterprise technology and services, financial services, and payments and transaction processing.',\n",
       "  u'FTV Capital announced today that it has closed its fifth fund \\u2014 totaling $850 million \\u2014 a number that brings its total raised over the past 20 years to $2.7 billion.',\n",
       "  u'http://venturebeat.com/2016/09/26/ftv-capital-raises-850-million-fund-for-investments-in-fintech-and-enterprise/',\n",
       "  datetime.date(2016, 9, 26),\n",
       "  u'VentureBeat',\n",
       "  u'Investments',\n",
       "  u'Accelerators Incubators and Funds',\n",
       "  u'FTV Capital',\n",
       "  u'US',\n",
       "  u'NA',\n",
       "  u'NA'),\n",
       " (191,\n",
       "  u'Movement Mortgage has partnered with Blend Inc. to launch a mortgage platform',\n",
       "  u'US based Movement Mortgage, with the help of a fintech player, Blend Inc, has launched a new digital mortgage platform. The new platform will make it easier and faster for users going through the mortgage application process.',\n",
       "  u'Movement Mortgage is launching a new digital mortgage platform with the help of a West Coast fintech player. The Fort Mill-based lender is confident the new ...',\n",
       "  u'http://www.bizjournals.com/charlotte/news/2016/09/29/movement-mortgage-partners-with-west-coast-fintech.html',\n",
       "  datetime.date(2016, 9, 29),\n",
       "  u'Charlotte business Journal',\n",
       "  u'Collaboration,New Products',\n",
       "  u'Lending',\n",
       "  u'Movement Mortgage,Blend',\n",
       "  u'US',\n",
       "  u'NA',\n",
       "  u'NA'),\n",
       " (192,\n",
       "  u'Kyriba has raised $23 million in series D financing',\n",
       "  u'US based Kyriba Corp., a provider of cloud treasury management solutions, has raised new funding of US$23 million in series D round led by Bpifrance, with additional capital from existing investors HSBC (NYSE: HSBC) and Daher Capital. Kyriba will use the funds for product innovation across its suite of solutions, including risk management, supply chain finance, payments, cash management, and bank connectivity.',\n",
       "  u\"Kyriba's fintech solution, which simplifies and secures global payments, adds cash visibility, and cash optimization with supply-chain finance, is a natural fit for ...\",\n",
       "  u'http://www.bizjournals.com/newyork/news/2016/09/29/fintech-startup-kyriba-secures-series-d-funds.html',\n",
       "  datetime.date(2016, 9, 29),\n",
       "  u'New York business Journal',\n",
       "  u'Investments',\n",
       "  u'Analytics and Management',\n",
       "  u'Kyriba',\n",
       "  u'US',\n",
       "  u'23',\n",
       "  u'Bpifrance,HSBC,Daher Capital'),\n",
       " (193,\n",
       "  u'WealthHub Solutions raises $1.6 million',\n",
       "  u'US based, WealthHub Solutions, provider of software for trusts administration professionals, has raised US$1.6 million from individual investors and institutions including Rittenhouse Ventures and Ben Franklin Technology Partners.',\n",
       "  u\"\\u201cIt's also a validation from highly knowledgeable investors. [Rittenhouse Ventures Managing Partner] Bruce Luehrs has been investing in fintech companies for ...\",\n",
       "  u'http://www.bizjournals.com/philadelphia/news/2016/09/23/wealthhub-solutions-fintech-rittenhouse-ventures.html',\n",
       "  datetime.date(2016, 9, 23),\n",
       "  u'Philadelphia business Journal',\n",
       "  u'Investments',\n",
       "  u'Investment Advisory',\n",
       "  u'WealthHub Solutions,Rittenhouse Ventures,Ben Franklin Technology Partners',\n",
       "  u'US',\n",
       "  u'1.6',\n",
       "  u'Rittenhouse Ventures,Ben Franklin Technology Partners'),\n",
       " (195,\n",
       "  u'Australian fintech accelerator H2 Ventures has launched H2Ocean firm to focus on fintech investments',\n",
       "  u'Australian fintech accelerator H2 Ventures has launched H2Ocean Ltd, the first listed venture firm on the Australia Securities Exchange (ASX), which plans to raise funds of US$27~55 million. H2Ocean assures that investors will benefit from diversified global exposure to the fintech sector through a portfolio of ventures with innovative products, services and business models.',\n",
       "  u'Australian fintech accelerator H2 Ventures has launched H2Ocean Ltd, the first listed venture firm on the Australian Securities Exchange (ASX), which seeks to ...',\n",
       "  u'http://www.dealstreetasia.com/stories/australias-first-listed-venture-firm-h2ocean-to-raise-55m-fund-53100/',\n",
       "  datetime.date(2016, 9, 12),\n",
       "  u'DEALSTREETASIA',\n",
       "  u'Investments',\n",
       "  u'Accelerators Incubators and Funds',\n",
       "  u'H2 Ventures,H2Ocean',\n",
       "  u'Australia',\n",
       "  u'NA',\n",
       "  u'NA'),\n",
       " (200,\n",
       "  u'FastPay has received new strategic investment from Citi Ventures',\n",
       "  u'US based FastPay, a leading fintech firm that provides lending and financial workflow solutions to digital businesses, has raised undisclosed amount of strategic investment from Citi Ventures.\\nThis investment will enable FastPay to grow its flexible lending and financial solutions, globally.',\n",
       "  u'FastPay, a leading fintech firm that provides lending and financial workflow solutions to digital businesses, has announced a newest strategic investment from ...',\n",
       "  u'http://www.econotimes.com/Fintech-company-FastPay-announces-new-strategic-investment-from-Citi-Ventures-286804',\n",
       "  datetime.date(2016, 9, 15),\n",
       "  u'EconoTimes',\n",
       "  u'Investments',\n",
       "  u'Payment Processing',\n",
       "  u'FastPay,Citi Ventures',\n",
       "  u'US',\n",
       "  u'NA',\n",
       "  u'Citi ventures'),\n",
       " (201,\n",
       "  u'Kyckr has developed a corporate identity blockchain solution',\n",
       "  u'Australia based Kyckr Limited, a fintech firm, has announced the completion of phase one in the development of its corporate identity blockchain service.\\nThe service is being built using the Credits blockchain platform.',\n",
       "  u'Kyckr Limited, a fintech firm with headquarters in Australia and Ireland, has announced the completion of phase one in the development of its corporate identity ...',\n",
       "  u'http://www.econotimes.com/Fintech-startup-Kyckr-develops-corporate-identity-blockchain-solution-283967',\n",
       "  datetime.date(2016, 9, 13),\n",
       "  u'EconoTimes',\n",
       "  u'New Products',\n",
       "  u'Analytics and Management',\n",
       "  u'Kyckr',\n",
       "  u'Australia',\n",
       "  u'NA',\n",
       "  u'NA'),\n",
       " (203,\n",
       "  u'Global X Funds has launched a thematic ETF focused on fintech',\n",
       "  u'US based Global X Funds, exchange-traded funds (ETFs) provider, has announced the launch of three thematic technology ETFs \\u2013 Global X FinTech Thematic ETF, Global X Robotics & Artificial Intelligence Thematic ETF and Global X Internet of Things Thematic ETF.\\nThe Global X Fintech Thematic ETF will invest in companies that are on the leading edge of the emerging fintech industry.',\n",
       "  u'New York-based Global X Funds, exchange-traded funds (ETFs) provider, has announced the launch of three thematic technology ETFs \\u2013 Global X FinTech ...',\n",
       "  u'http://www.econotimes.com/Global-X-Funds-launches-Fintech-Thematic-ETF-286559',\n",
       "  datetime.date(2016, 9, 15),\n",
       "  u'EconoTimes',\n",
       "  u'New Products',\n",
       "  u'Accelerators Incubators and Funds',\n",
       "  u'Global X Funds',\n",
       "  u'US',\n",
       "  u'NA',\n",
       "  u'NA'),\n",
       " (204,\n",
       "  u'Intrinio has launched fintech marketplace',\n",
       "  u'US based financial data provider,Intrinio, has announced the launch of the Intrinio Fintech Marketplace - a move to make financial data more affordable and easier to use for developers. This will help investors save money and make time by having affordable and easy to access financial data.',\n",
       "  u'Florida- based financial data provider Intrinio announced the launch of the Intrinio Fintech Marketplace this week in a move to make financial data more ...',\n",
       "  u'http://www.econotimes.com/Intrinio-launches-Fintech-Marketplace-for-developers-310941',\n",
       "  datetime.date(2016, 9, 21),\n",
       "  u'EconoTimes',\n",
       "  u'New Products',\n",
       "  u'Marketplace',\n",
       "  u'Intrinio',\n",
       "  u'US',\n",
       "  u'NA',\n",
       "  u'NA'),\n",
       " (206,\n",
       "  u'PayPal has expanded collaboration with Visa and Mastercard for digital payments',\n",
       "  u'US based PayPal has expanded its partnerships with Visa and Mastercard with the aim to drive the adoption of digital payments.\\nBraintree, a PayPal-owned company that powers payments for companies such as Airbnb, Eventbrite, Pinterest and Uber, will make Visa Checkout and MasterPass as payment options.',\n",
       "  u'By FinTech Innovation editors | 2016-09-07. inShare0. Email PrintShare. PayPal has expanded partnerships with both Visa and Mastercard with the aim to drive ...',\n",
       "  u'http://www.enterpriseinnovation.net/article/paypal-inks-partnerships-visa-mastercard-2121374997',\n",
       "  datetime.date(2016, 9, 7),\n",
       "  u'Enterprise Innovation',\n",
       "  u'Collaboration',\n",
       "  u'Payment Processing',\n",
       "  u'PayPal,Visa,Mastercard',\n",
       "  u'US',\n",
       "  u'NA',\n",
       "  u'NA'),\n",
       " (209,\n",
       "  u'Simply Wall St. has partnered with Class to offer better portfolio insights to its partners',\n",
       "  u'Australia based financial software firm,Class, has partnered with a fintech start-up, Simply Wall, to provide advisers and their clients with improved portfolio insights and a better \"retail investing experience\".',\n",
       "  u'A major Australian financial software firm has partnered with a fintech start-up to provide advisers and their clients with improved portfolio insights and a better ...',\n",
       "  u'http://www.ifa.com.au/news/16786-aussie-software-firm-partners-with-fintech-startup',\n",
       "  datetime.date(2016, 9, 11),\n",
       "  u'ifa',\n",
       "  u'Collaboration',\n",
       "  u'Analytics and Management',\n",
       "  u'Simply Wall St,Class',\n",
       "  u'Australia',\n",
       "  u'NA',\n",
       "  u'NA'),\n",
       " (210,\n",
       "  u'Optimo Financial has launched robo-strategy based advisory platform',\n",
       "  u\"Australia based software provider Optimo Financial has launched a new robo-strategy technology designed to combat adviser biases and drive automated but holistic client engagement.\\nIOptimo Financial has launched the online public beta version of the firm's new paraplanning and modelling software, Optimo Pathfinder Online.\",\n",
       "  u'A Sydney-based software provider has launched a new robo-strategy technology designed to combat adviser biases and drive automated but holistic client ...',\n",
       "  u'http://www.ifa.com.au/news/16805-fintech-launches-robo-strategy-platform',\n",
       "  datetime.date(2016, 9, 14),\n",
       "  u'ifa',\n",
       "  u'New Products',\n",
       "  u'Investment Advisory',\n",
       "  u'Optimo Financial',\n",
       "  u'Australia',\n",
       "  u'NA',\n",
       "  u'NA'),\n",
       " (214,\n",
       "  u'Netwealth has partnered with TipRanks for equity research',\n",
       "  u\"Australia's largest non-institutional platform, Netwealth has entered into an exclusive platform arrangement with global fintech firm TipRanks to provide research on all major shares listed on US markets making it easier to identify US opportunities and track analyst recommendations.\\nThis allows advisers and clients to see buy, sell and hold recommendations for major US stocks, view consensus price targets and see trending stocks\",\n",
       "  u\"Netwealth, Australia's largest non-institutional platform, has entered into an exclusive platform arrangement with global fintech firm TipRanks (www.tipranks.com) ...\",\n",
       "  u'http://www.professionalplanner.com.au/cut-and-paste/2016/09/06/netwealth-partners-with-global-fintech-firm-49094/',\n",
       "  datetime.date(2016, 9, 6),\n",
       "  u'Professional Planner',\n",
       "  u'Collaboration',\n",
       "  u'Analytics and Management',\n",
       "  u'Netwealth,TipRanks',\n",
       "  u'Australia,US',\n",
       "  u'NA',\n",
       "  u'NA'),\n",
       " (218,\n",
       "  u'itBit has launched blockchain solutions, Paxos',\n",
       "  u'US based bitcoin trading platform itBit has launched a fintech for blockchain solutions under the brand name Paxos. itBit\\u2019s flagship service, Bankchain, has been migrated to be included in the offering of the new company. Now itBit\\u2019s blockchain solutions will now be operated separately from its over-the-counter (OTC) and on-exchange BitCoin trading offering.',\n",
       "  u'The people behind bitcoin trading platform itBit said earlier this week they have launched a fintech for blockchain solutions under the brand name Paxos.',\n",
       "  u'https://smnweekly.com/2016/09/15/itbit-team-launches-blockchain-fintech-paxos-moves-bankchain-under-its-cap/',\n",
       "  datetime.date(2016, 9, 15),\n",
       "  u'SMN Weekly (blog)',\n",
       "  u'New Products',\n",
       "  u'Marketplace',\n",
       "  u'itBit,Paxos',\n",
       "  u'US',\n",
       "  u'NA',\n",
       "  u'NA'),\n",
       " (220,\n",
       "  u'Intrinio has launched a fintech marketplace',\n",
       "  u'US based Intrinio has launched the Intrinio Fintech Marketplace to make financial data more affordable and easier to use for developers. Intrinio will help investors assess the financial data easy, quick and cheap to save on time and money.',\n",
       "  u'Intrinio, based in St. Petersburg, FL, launched the Intrinio Fintech Marketplace this week with the goal of making financial data more affordable and easier to use ...',\n",
       "  u'https://www.finextra.com/pressarticle/66167/data-outfit-intrinio-launches-fintech-marketplace',\n",
       "  datetime.date(2016, 9, 20),\n",
       "  u'Finextra',\n",
       "  u'New Products',\n",
       "  u'Marketplace',\n",
       "  u'Intrinio',\n",
       "  u'US',\n",
       "  u'NA',\n",
       "  u'NA'),\n",
       " (226,\n",
       "  u'InvestFeed has partnered with Trading Ticket',\n",
       "  u'US based startups - Trading Ticket (investment tech) and investFeed (social investing app) have partnered to build a Full Retail Brokerage integration platform',\n",
       "  u'Investment tech startup Trading Ticket has partnered with investFeed, an app that creates a social network, similar to Twitter, for investing and stock trading.',\n",
       "  u'http://www.econotimes.com/Social-investing-app-investFeed-partners-with-fintech-startup-Trading-Ticket-331157',\n",
       "  datetime.date(2016, 10, 4),\n",
       "  u'EconoTimes',\n",
       "  u'Collaboration',\n",
       "  u'Investment Advisory',\n",
       "  u'InvestFeed,Trading Ticket',\n",
       "  u'US',\n",
       "  u'NA',\n",
       "  u'NA'),\n",
       " (233,\n",
       "  u'Circle adds Euro to its payments app to expand in Europe',\n",
       "  u'US based startup Circle has added the Euro to its payments app, enabling users to transfer the currency to friends and family instantly on their smartphones without paying a fee and with low exchange rates. Circle plans to expand in Europe.',\n",
       "  u'The Boston-based startup Circle has added the euro to its payments app, enabling users to transfer the currency to friends and family instantly on their ...',\n",
       "  u'http://www.bizjournals.com/boston/news/2016/10/20/with-136m-raised-boston-fintech-startup-expands.html',\n",
       "  datetime.date(2016, 10, 20),\n",
       "  u'Boston business Journal',\n",
       "  u'Expansion',\n",
       "  u'Payment Processing',\n",
       "  u'Circle',\n",
       "  u'US',\n",
       "  u'NA',\n",
       "  u'NA'),\n",
       " (240,\n",
       "  u'vMobo acquires Indian mobile wallet aggregator Binge',\n",
       "  u'US based direct marketing company VMobo has acquired India (Bengaluru) fintech startup Binge, which runs an app to aggregate mobile wallets for restaurant bill payments, for a valuation of US$3.5 million.\\nThe acquisition, which also includes a merger with Mumbai-based styling startup Dapper Don, has resulted in the launch of a network marketplace of about 120 brands, called VClusive.',\n",
       "  u'Fintech startup Binge, which runs an app to aggregate mobile wallets for restaurant bill payments, has been acquired by California-based direct marketing ...',\n",
       "  u'http://tech.economictimes.indiatimes.com/news/startups/fintech-startup-binge-acquired-by-california-based-vmobo/54910277',\n",
       "  datetime.date(2016, 10, 17),\n",
       "  u'ETtech.com',\n",
       "  u'Investments',\n",
       "  u'Mobile Fintech,Payment Processing',\n",
       "  u'vMobo,Binge',\n",
       "  u'US,India',\n",
       "  u'3.5',\n",
       "  u'NA'),\n",
       " (241,\n",
       "  u'IATAI Enterprises brings in new app for mobile payment, Onepocket',\n",
       "  u'US based FinTech and InsurTech company IATAI Enterprises (IATAI) has launched onepocket, a frictionless and secure mobile payment method that allows customers to use Visa Checkout and in-store. Onepocket offers several additional benefits over Visa Checkout, an online checkout service from Visa.',\n",
       "  u'SAN FRANCISCO, Oct. 26, 2016 /PRNewswire/ -- The FinTech and InsurTech company IATAI Enterprises (IATAI) has launched onepocket, a frictionless and ...',\n",
       "  u'http://www.prnewswire.com/news-releases/fintech-and-insurtech-company-iatai-enterprises-launches-onepocket-a-mobiledigital-payment-method-that-extends-visa-checkout-online-and-in-store-300351799.html',\n",
       "  datetime.date(2016, 10, 26),\n",
       "  u'PR Newswire (press release)',\n",
       "  u'New Products',\n",
       "  u'Payment Processing',\n",
       "  u'IATAI Enterprises,Onepocket',\n",
       "  u'US',\n",
       "  u'NA',\n",
       "  u'NA'),\n",
       " (242,\n",
       "  u'Remitly, P2P mobile payment startup, raises US$38 million',\n",
       "  u'US based P2P mobile payments startup Remitly has raised $38 million in a mix of new equity and debt financing from IFC and Silicon Valley Bank.\\nRemitly offers a mobile payments service that enables consumers to make P2P international money transfers from the United States and Canada to people located in Asia, Central America and South America. The company\\u2019s platform aims to make transfers as easy as possible by eliminating forms, codes, agents, extra time, and fees tied to the traditional money transfer process.',\n",
       "  u\"\\u201cRemitly's mission is perfectly aligned with IFC's long-standing objective of helping the private sector find solutions that benefit the world's poor,\\u201d IFC Fintech ...\",\n",
       "  u'http://siliconangle.com/blog/2016/10/02/fintech-p2p-mobile-payments-startup-remitly-raises-38-million/',\n",
       "  datetime.date(2016, 10, 2),\n",
       "  u'SiliconANGLE (blog)',\n",
       "  u'Investments',\n",
       "  u'Payment Processing',\n",
       "  u'Remitly,IFC,Silicon Valley Bank',\n",
       "  u'US',\n",
       "  u'38',\n",
       "  u'IFC,Silicon Valley bank'),\n",
       " (243,\n",
       "  u'Returnly get seed fund of US$3.25 million',\n",
       "  u'US based Returnly, a financial tech platform that turns product returns into repurchases for online retailers and marketplaces, has raised US$3.25 million seed rounf from Index Ventures, SV Angel, FJ Labs and Mundiventures. The new funds would be used to grow the team of and arm more merchants with better returns and Instant Refunds',\n",
       "  u'Larkspur, California-based Returnly, a financial tech platform that turns product returns into repurchases for online retailers and marketplaces, has raised $3.25 ...',\n",
       "  u'https://www.pehub.com/2016/10/fintech-startup-returnly-attracts-3-25-mln-seed/',\n",
       "  datetime.date(2016, 10, 14),\n",
       "  u'PE Hub (subscription) (blog)',\n",
       "  u'Investments',\n",
       "  u'B2B Fintech Services',\n",
       "  u'Returnly',\n",
       "  u'US',\n",
       "  u'3.25',\n",
       "  u' Index Ventures,SV Angel,FJ Labs,Mundiventures'),\n",
       " (247,\n",
       "  u'Insurtech startup Hixme raises US$14.1 million',\n",
       "  u'US InsurTech startup Hixme has raised US$14.1 million investment led by Propel Ventures, the $150 million fintech venture capital company set up by Spanish bank BBVA. Hixme helps the US employers to offer more personalised health insurance to their staff.',\n",
       "  u'Propel, the $250 million fintech venture capital company set up by Spanish bank BBVA, is set to announce the investment at Money2020 in Las Vegas on ...',\n",
       "  u'http://www.businessinsider.com/propel-ventures-leads-series-b-investment-in-insurtech-hixme-2016-10',\n",
       "  datetime.date(2016, 10, 25),\n",
       "  u'business Insider',\n",
       "  u'Investments',\n",
       "  u'Analytics and Management',\n",
       "  u'Hixme,BBVA,Propel Ventures',\n",
       "  u'US,Spain',\n",
       "  u'14.1',\n",
       "  u'Propel Ventures, BBVA'),\n",
       " (248,\n",
       "  u'Flamingo to get listed on the Australian Securities Exchange',\n",
       "  u'Australia based customer experience automation startup Flamingo will get listed on the Australian Securities Exchange (ASX) with a US$17.39 million market value.\\nFlamingo is a Software-as-a-Service intelligent online guided selling platform for large financial services companies.',\n",
       "  u\"Based out of Sydney's fintech accelerator hub Stone & Chalk, Flamingo deals with conversational commerce, delivering what founder and CEO Dr Catriona ...\",\n",
       "  u'http://www.zdnet.com/article/sydney-ai-focused-fintech-startup-readies-for-au23m-asx-listing/',\n",
       "  datetime.date(2016, 10, 12),\n",
       "  u'ZDNet',\n",
       "  u'Investments',\n",
       "  u'Analytics and Management',\n",
       "  u'Flamingo',\n",
       "  u'Australia',\n",
       "  u'NA',\n",
       "  u'NA'),\n",
       " (249,\n",
       "  u'MPOWER Financing raises US$6 million from Zephyr Peacock',\n",
       "  u'US and India based fintech company MPOWER Financing, which facilitates funding solutions for international students pursuing higher education in the US universities, has raised US$6 million in the round led by private equity firm Zephyr Peacock India and other investors including University Ventures, 1776 Ventures, Goal Structured Solutions, VilCap Investments and Fresco Capital.\\nThe company will use the capital raised to enhance its technology platform and expand its marketing efforts in emerging markets with a focus on India',\n",
       "  u'Fund Washington DC and Bangalore-based fintech company MPOWER Financing, which facilitates funding solutions for international students pursuing higher ...',\n",
       "  u'http://techcircle.vccircle.com/2016/10/26/fintech-startup-mpower-financing-raises-6-mn/',\n",
       "  datetime.date(2016, 10, 26),\n",
       "  u'VCCircle',\n",
       "  u'Investments',\n",
       "  u'Lending',\n",
       "  u'MPOWER Financing',\n",
       "  u'US,India',\n",
       "  u'6',\n",
       "  u'Zephyr Peacock India,University Ventures,1776 Ventures,Goal Structured Solutions,VilCap Investments,Fresco Capital.'),\n",
       " (257,\n",
       "  u'Qiwi acquires fintech startup Plati Potom',\n",
       "  u'Russia based Qiwi, leading provider of next generation payment services, has acquired fintech startup Plati Potom that develops innovative post payment solutions for e-commerce and offline retailers as well as cutting-edge data analysis and credit risk management tools.',\n",
       "  u'Qiwi acquires fintech startup Plati Potom. * Acquired a 100% ownership stake in fintech startup Plati Potom. Source text for Eikon: Further company coverage: ...',\n",
       "  u'http://www.reuters.com/article/idUSFWN1CC0E8',\n",
       "  datetime.date(2016, 10, 6),\n",
       "  u'Reuters',\n",
       "  u'Investments',\n",
       "  u'B2B Fintech Services',\n",
       "  u'Qiwi,Plati Potom',\n",
       "  u'Russia',\n",
       "  u'NA',\n",
       "  u'NA'),\n",
       " (259,\n",
       "  u'Stripe has launched Radar - a machine learning-based fraud prevention product',\n",
       "  u'US startup Stripe, that lets websites and mobile apps implement payment services through its API and a few lines of code, has added another new feature to help prevent fraud on Stripe transactions through a new service called Radar.\\nRadar is being rolled out globally as part of Stripe\\u2019s primary payments service and come as a package for all companies using Stripe APIs',\n",
       "  u'Stripe launches machine learning-based fraud prevention product. By FinTech Innovation editors | 2016-10-26. inShare0. Email PrintShare. Online commerce ...',\n",
       "  u'http://www.enterpriseinnovation.net/article/stripe-launches-machine-learning-based-fraud-prevention-product-1664963364',\n",
       "  datetime.date(2016, 10, 25),\n",
       "  u'Enterprise Innovation',\n",
       "  u'New Products,Expansion',\n",
       "  u'Payment Processing',\n",
       "  u'Stripe',\n",
       "  u'US',\n",
       "  u'NA',\n",
       "  u'NA'),\n",
       " (262,\n",
       "  u'US fintech Payoneer has raised US$180 million in a Series E round',\n",
       "  u'US fintech, Payoneer, company that helps businesses send and receive money across borders online, has raised US$180 million in a Series E funding round from Technology Crossover Ventures (TCV), a Silicon Valley-headquartered VC fund that focuses on growth funding for established tech businesses.',\n",
       "  u'Payoneer, a US fintech company that helps businesses send and receive money across borders online, has raised $180 million (\\xa3141 million) in a Series E ...',\n",
       "  u'http://www.businessinsider.com/fintech-payoneer-series-e-technology-crossover-ventures-2016-10',\n",
       "  datetime.date(2016, 10, 5),\n",
       "  u'business Insider',\n",
       "  u'Investments',\n",
       "  u'Payment Processing',\n",
       "  u'Payoneer',\n",
       "  u'US',\n",
       "  u'180',\n",
       "  u'TCV,Technology Crossover venture'),\n",
       " (264,\n",
       "  u'Hanwha Life Insurance spends US$66.2 million for stake in Lending Club',\n",
       "  u'South Korea based insurance company Hanwha has acquired a 4.1% stake in Lending Club, the world\\u2019s largest P2P lender for US$66.2 million. Hanwha Life has also inked a strategic partnership agreement with Lending Club upon the purchase. ',\n",
       "  u'The group has been speeding up its efforts to nurture its fintech business since late last year by appointing Kim Dong-won, the second son of the group ...',\n",
       "  u'http://pulsenews.co.kr/view.php?sc=30800020&year=2016&no=726929',\n",
       "  datetime.date(2016, 10, 17),\n",
       "  u'pulse',\n",
       "  u'Investments',\n",
       "  u'Lending',\n",
       "  u'Hanwha Life Insurance,Lending Club Corp',\n",
       "  u'US',\n",
       "  u'66.2',\n",
       "  u'NA'),\n",
       " (267,\n",
       "  u'Mastercard to launch chatbot platform for banks and merchants',\n",
       "  u'Mastercard has announced to launch an artificial intelligence (AI) bot platform that allows consumers to use messaging platforms to transact, manage finances, and shop. Bots will be developed for both merchants and bank partners, which will use chat, messaging and natural language interfaces to communicate with customers. This will enable merchants and banks to provide  personalized service, seamless user experience and contextual offers and rewards to their customers.',\n",
       "  u'The Mastercard bot for banks will seamlessly extend Mastercard services to customers on messaging platforms and make financial information and decisions ...',\n",
       "  u'http://www.networksasia.net/article/mastercard-launches-chatbot-platforms-banks-and-merchants.1477967127',\n",
       "  datetime.date(2016, 10, 29),\n",
       "  u'Networks Asia',\n",
       "  u'Expansion',\n",
       "  u'Payment Processing',\n",
       "  u'Mastercard',\n",
       "  u'US',\n",
       "  u'NA',\n",
       "  u'NA'),\n",
       " (271,\n",
       "  u'Riskalyze gets US$20 million from FTV Capital',\n",
       "  u'US based Risk alignment software firm Riskalyze has raised US$20 million from FTV Capital giving a minority stake. This capital infusion will go towards expanding its Autopilot robo platform for advisers and other products.',\n",
       "  u'The equity growth investment gives fintech backer FTV Capital a \\u201cvery minority\\u201d stake in the company and Brad Bernstein, managing partner at FTV Capital, will ...',\n",
       "  u'http://www.investmentnews.com/article/20161031/FREE/161029901/riskalyze-draws-20-million-in-capital-for-robo-platform-and-other',\n",
       "  datetime.date(2016, 10, 31),\n",
       "  u'InvestmentNews',\n",
       "  u'Investments',\n",
       "  u'Investment Advisory',\n",
       "  u'Riskalyze,FTV Capital',\n",
       "  u'US',\n",
       "  u'20',\n",
       "  u'FTV Capital'),\n",
       " (273,\n",
       "  u'Lendio raises US$20 million from Comcast Ventures and Stereo Capital',\n",
       "  u'US based small business loan marketplace Lendio has secured US$20 million in funding from Comcast Ventures and Stereo Capital along with existing investors Napier Park, Blumberg Capital, Tribeca Venture Partners and North Hill Ventures. The funds will be used for marketing and sales.',\n",
       "  u'... they have broad experience scaling SMB business models, deep connections in mass market media and great understanding of fintech,\\u201d Mr. Blake continued.',\n",
       "  u'http://www.banklesstimes.com/2016/10/30/lendio-raises-20m/',\n",
       "  datetime.date(2016, 10, 30),\n",
       "  u'Bankless Times',\n",
       "  u'Investments',\n",
       "  u'Lending',\n",
       "  u'Lendio,Comcast Ventures,Stereo Capital',\n",
       "  u'US',\n",
       "  u'20',\n",
       "  u'Comcast Ventures,Stereo Capital,Napier Park,Blumberg Capital,Tribeca Venture Partners,North Hill Ventures'),\n",
       " (276,\n",
       "  u'Moody?s Analytics has joined Fintech Sandbox as a data partner',\n",
       "  u'',\n",
       "  u\"Moody's Analytics, a financial services company, has joined the FinTech Sandbox as a data partner, in a move to make credit and risk management products ...\",\n",
       "  u'http://www.econotimes.com/FinTech-Sandbox-adds-Moodys-Analytics-as-data-partner-to-advance-innovation-in-fintech-388920',\n",
       "  datetime.date(2016, 11, 7),\n",
       "  u'EconoTimes',\n",
       "  u'Collaboration',\n",
       "  u'Accelerators Incubators and Funds',\n",
       "  u'Moody?s Analytics,FinTech Sandbox',\n",
       "  u'US',\n",
       "  u'',\n",
       "  u''),\n",
       " (277,\n",
       "  u'Fintech Studios has partnered with Private Data Solutions to use its authentication technology',\n",
       "  u'',\n",
       "  u'FinTech Studios, a cloud-based platform of curated fintech apps and big-data financial analytic products, announced its strategic distribution partnership with ...',\n",
       "  u'http://www.econotimes.com/FinTech-Studios-announces-strategic-distribution-partnership-with-Private-Data-Solutions-409861',\n",
       "  datetime.date(2016, 11, 17),\n",
       "  u'EconoTimes',\n",
       "  u'Collaboration',\n",
       "  u'Marketplace',\n",
       "  u'FinTech Studios,Private Data Solutions',\n",
       "  u'US',\n",
       "  u'',\n",
       "  u''),\n",
       " (282,\n",
       "  u'Amazon Web Services has launched its Financial Services Competency',\n",
       "  u'',\n",
       "  u'A fintech startup might find it difficult to prove its chops to a sceptical and conservative audience. But if it uses the Amazon cloud, it can now hold up a certificate ...',\n",
       "  u'http://www.businessinsider.com.au/amazon-just-opened-the-door-for-fintech-startups-to-compete-with-the-likes-of-accenture-and-capgemini-2016-11',\n",
       "  datetime.date(2016, 11, 29),\n",
       "  u'Business Insider Australia',\n",
       "  u'Expansion',\n",
       "  u'B2B Fintech Services',\n",
       "  u'Amazon Web Services',\n",
       "  u'US',\n",
       "  u'',\n",
       "  u''),\n",
       " (283,\n",
       "  u'LoanDolphin has raised A$1.1 million to expand its presence in Australia',\n",
       "  u'',\n",
       "  u'Investor Barry Lambert has supplied $1 million while the remainder has come from fintech investment firm H2 Ventures. LoanDolphin is a free online platform ...',\n",
       "  u'http://www.brokernews.com.au/news/breaking-news/fintech-raises-1-1m-for-national-expansion-226084.aspx',\n",
       "  datetime.date(2016, 11, 3),\n",
       "  u'Australian Broker',\n",
       "  u'Investments',\n",
       "  u'Lending',\n",
       "  u'LoanDolphin',\n",
       "  u'Australia',\n",
       "  u'',\n",
       "  u''),\n",
       " (294,\n",
       "  u'A.S.A.P. is launching a digital advisory platform for SMSFs',\n",
       "  u'',\n",
       "  u\"Australian fintech start-up, A.S.A.P, is launching a digital advisory platform for SMSFs in response to the removal of the accountants' exemption from the financial ...\",\n",
       "  u'http://www.moneymanagement.com.au/news/superannuation/fintech-launches-robo-planner-smsfs',\n",
       "  datetime.date(2016, 11, 2),\n",
       "  u'Money Management',\n",
       "  u'New Products',\n",
       "  u'Investment Advisory',\n",
       "  u'A.S.A.P.',\n",
       "  u'Australia',\n",
       "  u'',\n",
       "  u''),\n",
       " (296,\n",
       "  u'Droit Financial Technologies has raised $16 million Series A investment from Goldman Sachs, Pivot Investment Partners and Wells Fargo',\n",
       "  u'',\n",
       "  u'Goldman Sachs, Pivot Investment Partners and Wells Fargo are leading a $16 million investment in Droit Financial Technologies, with participation from DRW, ...',\n",
       "  u'http://www.dealstreetasia.com/stories/droit-closes-16m-round-from-banking-majorsto-establish-singapore-office-57002/',\n",
       "  datetime.date(2016, 11, 1),\n",
       "  u'DEALSTREETASIA',\n",
       "  u'Investments',\n",
       "  u'B2B Fintech Services,Investment Advisory',\n",
       "  u'Droit Financial Technologies,Goldman Sachs,Pivot Investment Partners,Wells Fargo',\n",
       "  u'US',\n",
       "  u'',\n",
       "  u''),\n",
       " (302,\n",
       "  u'Fintech Australia has received A$200000 funding grant from the Federal Treasury',\n",
       "  u'',\n",
       "  u\"FinTech Australia was formally incorporated on 25th November 2015, with a vision to help Australia become one of the world's top markets for fintech innovation ...\",\n",
       "  u'http://thetechportal.com/2016/11/15/fintech-australia-federal-government-funding/',\n",
       "  datetime.date(2016, 11, 15),\n",
       "  u'The Tech Portal',\n",
       "  u'Investments',\n",
       "  u'Accelerators Incubators and Funds',\n",
       "  u'FinTech Australia',\n",
       "  u'Australia',\n",
       "  u'',\n",
       "  u''),\n",
       " (303,\n",
       "  u'Social investment platform investFeed has raised more than half of its $1 million funding target through Crowdfunder',\n",
       "  u'',\n",
       "  u'investFeed, a fintech startup that provides a transparent social investment network, has successfully secured more than half of its $1 million funding target ...',\n",
       "  u'http://www.crowdfundinsider.com/2016/11/92666-fintech-startup-investfeed-raises-half-1m-funding-target-crowdfunder/',\n",
       "  datetime.date(2016, 11, 16),\n",
       "  u'Crowdfund Insider',\n",
       "  u'Investments',\n",
       "  u'Marketplace',\n",
       "  u'investFeed,Crowdfunder',\n",
       "  u'US',\n",
       "  u'',\n",
       "  u''),\n",
       " (304,\n",
       "  u'Ontario Securities Commission (OSC) and the Australian Securities and Investments Commission (ASIC) has signed an agreement for fintech collaboration',\n",
       "  u'',\n",
       "  u'The Ontario Securities Commission (OSC) and the Australian Securities and Investments Commission (ASIC) have signed a new agreement under which fintech ...',\n",
       "  u'http://www.canadianunderwriter.ca/insurance/ontario-securities-commission-australian-financial-regulator-sign-fintech-agreement-1004103069/',\n",
       "  datetime.date(2016, 11, 4),\n",
       "  u'Canadian Underwriter',\n",
       "  u'Regulations',\n",
       "  u'Accelerators Incubators and Funds',\n",
       "  u'Ontario Securities Commission,Australian Securities and Investments Commission',\n",
       "  u'Canada,Australia',\n",
       "  u'',\n",
       "  u''),\n",
       " (309,\n",
       "  u'Tullett Prebon Information has partnered with Quaternion and Columbia University?s Fintech Lab to launch an open source risk project framework',\n",
       "  u'',\n",
       "  u'Tullett Prebon Information and Irish risk analytics firm Quaternion have partnered to launch an open source risk project in collaboration with Columbia ...',\n",
       "  u'https://www.finextra.com/newsarticle/29880/tullett-and-quaternion-partner-cu-fintech-lab-on-open-source-risk-project',\n",
       "  datetime.date(2016, 12, 8),\n",
       "  u'Finextra (press release)',\n",
       "  u'Collaboration',\n",
       "  u'Analytics and Management',\n",
       "  u'Tullett Prebon Information,Quaternion,Columbia University',\n",
       "  u'US',\n",
       "  u'',\n",
       "  u''),\n",
       " (310,\n",
       "  u'Mortgage Choice has partnered with Prospa for online lending',\n",
       "  u'',\n",
       "  u\"... Choice found Prospa to be heads and shoulders above the rest in the SME space, which led to the decision to add the fintech to the franchise's panel. ?Prospa ...\",\n",
       "  u'http://www.brokernews.com.au/news/breaking-news/mortgage-franchise-partners-with-leading-fintech-228106.aspx',\n",
       "  datetime.date(2016, 12, 5),\n",
       "  u'Australian Broker',\n",
       "  u'Collaboration',\n",
       "  u'Lending',\n",
       "  u'Mortgage Choice,Prospa',\n",
       "  u'Australia',\n",
       "  u'',\n",
       "  u''),\n",
       " (314,\n",
       "  u'PayPal has partnered with Citibank and Fidelity National Information Services to use their cards in its point of sale',\n",
       "  u'',\n",
       "  u'Paypal has announced new partnerships with US bank Citi and financial technology services provider Fidelity National Information Services (FIS). The deal with ...',\n",
       "  u'https://www.nfcworld.com/2016/12/16/349074/paypal-partners-us-bank-fintech-provider/',\n",
       "  datetime.date(2016, 12, 16),\n",
       "  u'NFC World',\n",
       "  u'Collaboration',\n",
       "  u'Payment Processing',\n",
       "  u'PayPal,Citibank,Fidelity National Information Services',\n",
       "  u'US',\n",
       "  u'',\n",
       "  u''),\n",
       " (315,\n",
       "  u'Twino is expanding its operations to Russia',\n",
       "  u'',\n",
       "  u\"As more players enter the fintech market, it's become clear that we've entered the most profound era of change for financial services companies since the 1970s ...\",\n",
       "  u'http://uk.businessinsider.com/latvian-marketplace-lender-twino-expands-to-russia-2016-12',\n",
       "  datetime.date(2016, 12, 2),\n",
       "  u'Business Insider',\n",
       "  u'Expansion',\n",
       "  u'Lending',\n",
       "  u'Twino',\n",
       "  u'Latvia,Russia',\n",
       "  u'',\n",
       "  u''),\n",
       " (317,\n",
       "  u'PayCommerce has expanded its operations in Canada and UAE',\n",
       "  u'',\n",
       "  u'... cybersecurity and trading analytics companies, especially along the Toronto-Waterloo FinTech corridor, and PayCommerce will be a very valuable addition to ...',\n",
       "  u'https://www.finextra.com/pressarticle/67358/paycommerce-opens-new-offices-in-ontario-and-dubai',\n",
       "  datetime.date(2016, 12, 7),\n",
       "  u'Finextra',\n",
       "  u'Expansion',\n",
       "  u'Payment Processing',\n",
       "  u'PayCommerce',\n",
       "  u'US',\n",
       "  u'',\n",
       "  u''),\n",
       " (322,\n",
       "  u'Hippo has raised $14 million Series A financing from Horizons Ventures',\n",
       "  u'',\n",
       "  u'Mountain View-based insurtech startup Hippo announced Wednesday it closed its Series A financing round with a $14 million investment led by fintech-focused ...',\n",
       "  u'http://www.geektime.com/2016/12/15/insurtech-startup-hippo-raises-14-million-for-its-smart-home-insurance-plans/',\n",
       "  datetime.date(2016, 12, 15),\n",
       "  u'Geektime',\n",
       "  u'Investments',\n",
       "  u'Investment Advisory',\n",
       "  u'Hippo,Horizons Ventures',\n",
       "  u'US',\n",
       "  u'',\n",
       "  u''),\n",
       " (330,\n",
       "  u'Visa is planning to acquire CardinalCommerce',\n",
       "  u'',\n",
       "  u'Visa to acquire CardinalCommerce for securing e-commerce transactions. By FinTech Innovation editors | 2016-12-14. inShare0 ...',\n",
       "  u'http://www.enterpriseinnovation.net/article/visa-acquire-cardinalcommerce-securing-e-commerce-transactions-1731887802',\n",
       "  datetime.date(2016, 12, 14),\n",
       "  u'Enterprise Innovation',\n",
       "  u'Investments',\n",
       "  u'Payment Processing',\n",
       "  u'Visa,CardinalCommerce',\n",
       "  u'US',\n",
       "  u'',\n",
       "  u''),\n",
       " (333,\n",
       "  u'Walletron has received undisclosed financing from Western Union',\n",
       "  u'',\n",
       "  u'Ardmore-based fintech company Walletron got another vote of confidence from global payment giant Western Union after the Fortune 500 company announced ...',\n",
       "  u'http://www.bizjournals.com/philadelphia/news/2016/12/22/walletron-speedpay-western-union-invests-ardmore.html',\n",
       "  datetime.date(2016, 12, 22),\n",
       "  u'Philadelphia Business Journal',\n",
       "  u'Investments',\n",
       "  u'B2B Fintech Services',\n",
       "  u'Walletron,Western Union',\n",
       "  u'US',\n",
       "  u'',\n",
       "  u''))"
      ]
     },
     "execution_count": 26,
     "metadata": {},
     "output_type": "execute_result"
    }
   ],
   "source": [
    "bb"
   ]
  },
  {
   "cell_type": "code",
   "execution_count": 27,
   "metadata": {
    "collapsed": true
   },
   "outputs": [],
   "source": [
    "out_list = []"
   ]
  },
  {
   "cell_type": "code",
   "execution_count": 28,
   "metadata": {
    "collapsed": false
   },
   "outputs": [],
   "source": [
    "for a in bb:\n",
    "    out_dict = {}\n",
    "    out_dict[\"ID\"] = a[0]\n",
    "    out_dict[\"Title\"] = a[1].encode('ascii', 'ignore').decode('ascii')\n",
    "    out_dict[\"Content\"] = a[2].encode('ascii', 'ignore').decode('ascii')\n",
    "    out_dict[\"Snippet\"] = a[3].encode('ascii', 'ignore').decode('ascii')\n",
    "    out_dict[\"Link\"] = a[4].encode('ascii', 'ignore').decode('ascii')\n",
    "    out_dict[\"Date\"] = a[5]\n",
    "    out_dict[\"Source\"] = a[6].encode('ascii', 'ignore').decode('ascii')\n",
    "    out_dict[\"Trend\"] = a[7].encode('ascii', 'ignore').decode('ascii')\n",
    "    out_dict[\"Segment\"] = a[8].encode('ascii', 'ignore').decode('ascii')\n",
    "    out_dict[\"Company\"] = a[9].encode('ascii', 'ignore').decode('ascii')\n",
    "    out_dict[\"Country\"] = a[10].encode('ascii', 'ignore').decode('ascii')\n",
    "    out_dict[\"Investment (US$ million)\"] = a[11]\n",
    "    out_dict[\"Investors\"] = a[12].encode('ascii', 'ignore').decode('ascii')\n",
    "    out_list.append(out_dict)"
   ]
  },
  {
   "cell_type": "code",
   "execution_count": 29,
   "metadata": {
    "collapsed": false,
    "scrolled": false
   },
   "outputs": [
    {
     "data": {
      "text/plain": [
       "13"
      ]
     },
     "execution_count": 29,
     "metadata": {},
     "output_type": "execute_result"
    }
   ],
   "source": [
    "len(out_dict)"
   ]
  },
  {
   "cell_type": "code",
   "execution_count": 30,
   "metadata": {
    "collapsed": false
   },
   "outputs": [
    {
     "data": {
      "text/plain": [
       "91"
      ]
     },
     "execution_count": 30,
     "metadata": {},
     "output_type": "execute_result"
    }
   ],
   "source": [
    "len(out_list)"
   ]
  },
  {
   "cell_type": "code",
   "execution_count": 31,
   "metadata": {
    "collapsed": false
   },
   "outputs": [
    {
     "data": {
      "text/plain": [
       "{'Company': u'Sberbank,IIDF',\n",
       " 'Content': u'Russia based bank Sberbank & government fund IIDF (Internet Initiatives Development Fund) have jointly launched a fintech acceleration programme.IIDF will select the the startups for the accelerator while Sberbank will provide these ventures with expertise and funding for pilot projects.\\n',\n",
       " 'Country': u'Russia',\n",
       " 'Date': datetime.date(2016, 6, 13),\n",
       " 'ID': 102,\n",
       " 'Investment (US$ million)': u'NA',\n",
       " 'Investors': u'NA',\n",
       " 'Link': u'http://www.dealstreetasia.com/stories/russia-digest-2-43818/',\n",
       " 'Segment': u'Accelerators Incubators and Funds',\n",
       " 'Snippet': u'Russian bank Sberbank & government fund IIDF are launching a fintech acceleration programme, while Skolkovo-based VisionLabs has released an open source ...',\n",
       " 'Source': u'DEALSTREETASIA',\n",
       " 'Title': u'Sberbank-IIDF launch fintech accelerator in Russia',\n",
       " 'Trend': u'New Products'}"
      ]
     },
     "execution_count": 31,
     "metadata": {},
     "output_type": "execute_result"
    }
   ],
   "source": [
    "out_list[25]"
   ]
  },
  {
   "cell_type": "code",
   "execution_count": 32,
   "metadata": {
    "collapsed": false
   },
   "outputs": [],
   "source": [
    "c = bb [0]"
   ]
  },
  {
   "cell_type": "code",
   "execution_count": 33,
   "metadata": {
    "collapsed": false
   },
   "outputs": [
    {
     "data": {
      "text/plain": [
       "tuple"
      ]
     },
     "execution_count": 33,
     "metadata": {},
     "output_type": "execute_result"
    }
   ],
   "source": [
    "type(c)"
   ]
  },
  {
   "cell_type": "code",
   "execution_count": 34,
   "metadata": {
    "collapsed": false
   },
   "outputs": [
    {
     "data": {
      "text/plain": [
       "13"
      ]
     },
     "execution_count": 34,
     "metadata": {},
     "output_type": "execute_result"
    }
   ],
   "source": [
    "len(c)"
   ]
  },
  {
   "cell_type": "code",
   "execution_count": 35,
   "metadata": {
    "collapsed": false
   },
   "outputs": [
    {
     "data": {
      "text/plain": [
       "(3,\n",
       " u'Cultivation Capital launching US$75 million fintech fund',\n",
       " u'Canada-based Cultivation Capital has launched Fintech fund with overall target of US$75 million. The company has partnered with ex-CEO of Shareholder InSite, Joe Maxwell for this project. The funding would be open for all Canadian Fintech startups or just for Nashville or St. Louis companies has not been declared.',\n",
       " u'St. Louis-based venture capital firm Cultivation Capital has created a new fund geared solely for financial services technology startups and plans to raise at least ...',\n",
       " u'http://www.bizjournals.com/stlouis/blog/biznext/2016/01/cultivation-capital-launching-75-million-fintech.html',\n",
       " datetime.date(2016, 1, 11),\n",
       " u'St. Louis business Journal (blog)',\n",
       " u'New Products',\n",
       " u'Accelerators Incubators and Funds',\n",
       " u'Cultivation Capital',\n",
       " u'US',\n",
       " u'NA',\n",
       " u'Cultivation Capital')"
      ]
     },
     "execution_count": 35,
     "metadata": {},
     "output_type": "execute_result"
    }
   ],
   "source": [
    "c"
   ]
  },
  {
   "cell_type": "code",
   "execution_count": 36,
   "metadata": {
    "collapsed": false
   },
   "outputs": [
    {
     "name": "stdout",
     "output_type": "stream",
     "text": [
      "Cultivation Capital\n"
     ]
    }
   ],
   "source": [
    "print c[12]"
   ]
  },
  {
   "cell_type": "code",
   "execution_count": 37,
   "metadata": {
    "collapsed": false
   },
   "outputs": [
    {
     "data": {
      "text/plain": [
       "91"
      ]
     },
     "execution_count": 37,
     "metadata": {},
     "output_type": "execute_result"
    }
   ],
   "source": [
    "len(out_list)"
   ]
  },
  {
   "cell_type": "code",
   "execution_count": 38,
   "metadata": {
    "collapsed": false
   },
   "outputs": [
    {
     "data": {
      "text/plain": [
       "{'Company': u'Walletron,Western Union',\n",
       " 'Content': u'',\n",
       " 'Country': u'US',\n",
       " 'Date': datetime.date(2016, 12, 22),\n",
       " 'ID': 333,\n",
       " 'Investment (US$ million)': u'',\n",
       " 'Investors': u'',\n",
       " 'Link': u'http://www.bizjournals.com/philadelphia/news/2016/12/22/walletron-speedpay-western-union-invests-ardmore.html',\n",
       " 'Segment': u'B2B Fintech Services',\n",
       " 'Snippet': u'Ardmore-based fintech company Walletron got another vote of confidence from global payment giant Western Union after the Fortune 500 company announced ...',\n",
       " 'Source': u'Philadelphia Business Journal',\n",
       " 'Title': u'Walletron has received undisclosed financing from Western Union',\n",
       " 'Trend': u'Investments'}"
      ]
     },
     "execution_count": 38,
     "metadata": {},
     "output_type": "execute_result"
    }
   ],
   "source": [
    "out_list[90]"
   ]
  },
  {
   "cell_type": "code",
   "execution_count": null,
   "metadata": {
    "collapsed": true
   },
   "outputs": [],
   "source": [
    ""
   ]
  },
  {
   "cell_type": "code",
   "execution_count": null,
   "metadata": {
    "collapsed": true
   },
   "outputs": [],
   "source": [
    ""
   ]
  },
  {
   "cell_type": "code",
   "execution_count": null,
   "metadata": {
    "collapsed": true
   },
   "outputs": [],
   "source": [
    ""
   ]
  },
  {
   "cell_type": "code",
   "execution_count": null,
   "metadata": {
    "collapsed": true
   },
   "outputs": [],
   "source": [
    ""
   ]
  },
  {
   "cell_type": "code",
   "execution_count": null,
   "metadata": {
    "collapsed": true
   },
   "outputs": [],
   "source": [
    ""
   ]
  },
  {
   "cell_type": "code",
   "execution_count": 42,
   "metadata": {
    "collapsed": false
   },
   "outputs": [],
   "source": [
    "# with open('names.csv', 'w') as csvfile:\n",
    "#     fieldnames = ['ID', 'Title', 'Content', 'Snippet', 'Link', 'Date', 'Source', 'Trend', 'Segment', 'Company', 'Country', 'Investment (US$ million)', 'Investors']\n",
    "#     writer = csv.DictWriter(csvfile, fieldnames=fieldnames)\n",
    "#     writer.writeheader()\n",
    "#     for val in out_list:\n",
    "#         writer.writerow(val)"
   ]
  },
  {
   "cell_type": "code",
   "execution_count": 40,
   "metadata": {
    "collapsed": true
   },
   "outputs": [],
   "source": [
    "#cursor.close()\n",
    "#connection.close()"
   ]
  }
 ],
 "metadata": {
  "anaconda-cloud": {},
  "kernelspec": {
   "display_name": "Python [default]",
   "language": "python",
   "name": "python2"
  },
  "language_info": {
   "codemirror_mode": {
    "name": "ipython",
    "version": 2.0
   },
   "file_extension": ".py",
   "mimetype": "text/x-python",
   "name": "python",
   "nbconvert_exporter": "python",
   "pygments_lexer": "ipython2",
   "version": "2.7.12"
  }
 },
 "nbformat": 4,
 "nbformat_minor": 0
}
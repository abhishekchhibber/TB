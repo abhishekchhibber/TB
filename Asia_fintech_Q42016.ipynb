{
 "cells": [
  {
   "cell_type": "code",
   "execution_count": 1,
   "metadata": {
    "collapsed": false
   },
   "outputs": [],
   "source": [
    "import pymysql\n",
    "import pymysql.cursors\n",
    "import csv\n",
    "from collections import Counter\n",
    "import pandas as pd\n",
    "import numpy as np\n"
   ]
  },
  {
   "cell_type": "code",
   "execution_count": 2,
   "metadata": {
    "collapsed": true
   },
   "outputs": [],
   "source": [
    "# Connect to the database\n",
    "connection = pymysql.connect(host='127.0.0.1',\n",
    "                             user='root',\n",
    "                             password='abhi1234',\n",
    "                             db='fintech_2016',\n",
    "                             port=3306,\n",
    "                             charset='utf8'\n",
    "                             )\n",
    "cursor = connection.cursor()"
   ]
  },
  {
   "cell_type": "markdown",
   "metadata": {},
   "source": [
    "#### Getting Table Names"
   ]
  },
  {
   "cell_type": "code",
   "execution_count": 3,
   "metadata": {
    "collapsed": false
   },
   "outputs": [
    {
     "data": {
      "text/plain": [
       "2"
      ]
     },
     "execution_count": 3,
     "metadata": {},
     "output_type": "execute_result"
    }
   ],
   "source": [
    "\n",
    "cursor.execute (\" SHOW TABLES   \")"
   ]
  },
  {
   "cell_type": "code",
   "execution_count": 4,
   "metadata": {
    "collapsed": false
   },
   "outputs": [],
   "source": [
    "tabls = cursor.fetchall()\n"
   ]
  },
  {
   "cell_type": "code",
   "execution_count": 5,
   "metadata": {
    "collapsed": false
   },
   "outputs": [
    {
     "name": "stdout",
     "output_type": "stream",
     "text": [
      "(u'fintech_15',)\n",
      "(u'fintech_16',)\n"
     ]
    }
   ],
   "source": [
    "for a in tabls:\n",
    "    print a"
   ]
  },
  {
   "cell_type": "code",
   "execution_count": 6,
   "metadata": {
    "collapsed": true
   },
   "outputs": [],
   "source": [
    "tab = \"fintech_16\""
   ]
  },
  {
   "cell_type": "markdown",
   "metadata": {},
   "source": [
    "#### Column Selection"
   ]
  },
  {
   "cell_type": "code",
   "execution_count": 7,
   "metadata": {
    "collapsed": false
   },
   "outputs": [
    {
     "data": {
      "text/plain": [
       "14"
      ]
     },
     "execution_count": 7,
     "metadata": {},
     "output_type": "execute_result"
    }
   ],
   "source": [
    "cursor.execute(\"  SHOW COLUMNS FROM `fintech_16`     \")"
   ]
  },
  {
   "cell_type": "code",
   "execution_count": 8,
   "metadata": {
    "collapsed": false
   },
   "outputs": [],
   "source": [
    "cols = cursor.fetchall()\n"
   ]
  },
  {
   "cell_type": "code",
   "execution_count": 9,
   "metadata": {
    "collapsed": false
   },
   "outputs": [
    {
     "name": "stdout",
     "output_type": "stream",
     "text": [
      "0 ID\n",
      "1 Title\n",
      "2 Content\n",
      "3 Snippet\n",
      "4 Link\n",
      "5 Date\n",
      "6 Source\n",
      "7 Trend\n",
      "8 Segment\n",
      "9 Company\n",
      "10 Country\n",
      "11 Continent\n",
      "12 Investment (US$ million)\n",
      "13 Investors\n"
     ]
    }
   ],
   "source": [
    "x = 0\n",
    "for i in cols:\n",
    "    \n",
    "    print x, i[0]\n",
    "    x = x+1"
   ]
  },
  {
   "cell_type": "markdown",
   "metadata": {},
   "source": [
    "### Country"
   ]
  },
  {
   "cell_type": "code",
   "execution_count": 10,
   "metadata": {
    "collapsed": false
   },
   "outputs": [],
   "source": [
    "con = \"'UK'\""
   ]
  },
  {
   "cell_type": "code",
   "execution_count": 11,
   "metadata": {
    "collapsed": true
   },
   "outputs": [],
   "source": [
    "\n",
    "cont = \"'%Asia%'\""
   ]
  },
  {
   "cell_type": "markdown",
   "metadata": {},
   "source": [
    "### _Functions_"
   ]
  },
  {
   "cell_type": "markdown",
   "metadata": {},
   "source": [
    "#### Fun: Unique values of a table"
   ]
  },
  {
   "cell_type": "code",
   "execution_count": 12,
   "metadata": {
    "collapsed": false
   },
   "outputs": [],
   "source": [
    "def unique (col1):\n",
    "    col = col1\n",
    "    list_a = [ ]\n",
    "    qw = ''' SELECT DISTINCT(`%s`) AS `%s` FROM `%s`  ORDER BY `%s` DESC   ''' %(col,col,tab,col)\n",
    "    cursor.execute (qw)\n",
    "    fetcher = cursor.fetchall()\n",
    "    for one in fetcher:\n",
    "        tick = one[0]\n",
    "        tick = tick.split(\",\")\n",
    "        for i in range (len(tick)):\n",
    "            if tick[i] in list_a:\n",
    "                pass\n",
    "            else:\n",
    "                list_a.append(tick[i])\n",
    "    print \"Total Unique Values: \"+str(len(list_a))\n",
    "    return list_a\n",
    "            \n",
    "    "
   ]
  },
  {
   "cell_type": "code",
   "execution_count": 13,
   "metadata": {
    "collapsed": false
   },
   "outputs": [
    {
     "name": "stdout",
     "output_type": "stream",
     "text": [
      "Total Unique Values: 44\n"
     ]
    }
   ],
   "source": [
    "d = unique (\"Country\") #enters col name, outputs as a list\n",
    "# always out it in form of a list"
   ]
  },
  {
   "cell_type": "code",
   "execution_count": 14,
   "metadata": {
    "collapsed": false
   },
   "outputs": [
    {
     "data": {
      "text/plain": [
       "44"
      ]
     },
     "execution_count": 14,
     "metadata": {},
     "output_type": "execute_result"
    }
   ],
   "source": [
    "len(d)"
   ]
  },
  {
   "cell_type": "markdown",
   "metadata": {},
   "source": [
    "#### Getting Count of unique values "
   ]
  },
  {
   "cell_type": "code",
   "execution_count": 15,
   "metadata": {
    "collapsed": false
   },
   "outputs": [],
   "source": [
    "def val_count(u_val):\n",
    "    list_2 = [ ]\n",
    "    for a in u_val:\n",
    "        b = a[0]\n",
    "        if len(b) > 1:\n",
    "            b = b.split(\",\")\n",
    "        for i in range (len(b)):\n",
    "            list_2.append(b[i])\n",
    "    c = Counter( list_2 )\n",
    "    d = c.items()# It's a list\n",
    "    f = sorted(d, key=lambda x: x[1], reverse=True)\n",
    "    for e in f:\n",
    "        print e[0]+\":\"+str(e[1])+\":\"+format(((float(e[1])/len(list_2))*100),'.1f')+\"%\"\n",
    "    return \n"
   ]
  },
  {
   "cell_type": "code",
   "execution_count": null,
   "metadata": {
    "collapsed": true
   },
   "outputs": [],
   "source": []
  },
  {
   "cell_type": "code",
   "execution_count": 16,
   "metadata": {
    "collapsed": false
   },
   "outputs": [
    {
     "data": {
      "text/plain": [
       "34"
      ]
     },
     "execution_count": 16,
     "metadata": {},
     "output_type": "execute_result"
    }
   ],
   "source": [
    "cursor.execute (\" SELECT *  FROM `%s` WHERE `Continent` LIKE %s AND `Date` BETWEEN '2016-10-01' AND '2016-12-31'  \"%(tab,cont))"
   ]
  },
  {
   "cell_type": "code",
   "execution_count": 17,
   "metadata": {
    "collapsed": true
   },
   "outputs": [],
   "source": [
    "a_cnt = cursor.fetchall()"
   ]
  },
  {
   "cell_type": "code",
   "execution_count": 18,
   "metadata": {
    "collapsed": false
   },
   "outputs": [
    {
     "name": "stdout",
     "output_type": "stream",
     "text": [
      "Asia\n",
      "Asia\n",
      "Asia\n",
      "Asia\n",
      "North America,Asia\n",
      "Asia\n",
      "Asia\n",
      "North America,Asia\n",
      "Asia\n",
      "Asia\n",
      "Asia\n",
      "Asia\n",
      "Asia\n",
      "Asia\n",
      "Asia\n",
      "Asia\n",
      "Europe,Asia\n",
      "Asia\n",
      "Asia\n",
      "Asia\n",
      "Asia\n",
      "Asia\n",
      "Asia\n",
      "Asia\n",
      "Asia\n",
      "Asia\n",
      "Asia\n",
      "Asia\n",
      "Europe,Asia\n",
      "Asia\n",
      "Asia\n",
      "Asia\n",
      "Asia\n",
      "Asia\n"
     ]
    }
   ],
   "source": [
    "for a in a_cnt:\n",
    "    print a[11]"
   ]
  },
  {
   "cell_type": "code",
   "execution_count": null,
   "metadata": {
    "collapsed": true
   },
   "outputs": [],
   "source": []
  },
  {
   "cell_type": "code",
   "execution_count": null,
   "metadata": {
    "collapsed": true
   },
   "outputs": [],
   "source": []
  },
  {
   "cell_type": "markdown",
   "metadata": {},
   "source": [
    "## Major countries in Q4-2016"
   ]
  },
  {
   "cell_type": "code",
   "execution_count": 19,
   "metadata": {
    "collapsed": false
   },
   "outputs": [
    {
     "data": {
      "text/plain": [
       "34"
      ]
     },
     "execution_count": 19,
     "metadata": {},
     "output_type": "execute_result"
    }
   ],
   "source": [
    "cursor.execute (\" SELECT `Country`  FROM `%s`WHERE `Continent` LIKE %s AND `Date` BETWEEN '2016-10-01' AND '2016-12-31'  \"%(tab,cont))"
   ]
  },
  {
   "cell_type": "code",
   "execution_count": 20,
   "metadata": {
    "collapsed": true
   },
   "outputs": [],
   "source": [
    "t_con = cursor.fetchall()"
   ]
  },
  {
   "cell_type": "code",
   "execution_count": 21,
   "metadata": {
    "collapsed": false
   },
   "outputs": [
    {
     "name": "stdout",
     "output_type": "stream",
     "text": [
      "India:13:31.7%\n",
      "Thailand:4:9.8%\n",
      "Singapore:3:7.3%\n",
      "Malaysia:3:7.3%\n",
      "China:3:7.3%\n",
      "Philippines:2:4.9%\n",
      "Indonesia:2:4.9%\n",
      "US:2:4.9%\n",
      "Hong Kong:2:4.9%\n",
      "Russia:2:4.9%\n",
      "Israel:1:2.4%\n",
      "Latvia:1:2.4%\n",
      "UK:1:2.4%\n",
      "Japan:1:2.4%\n",
      "South Korea:1:2.4%\n"
     ]
    }
   ],
   "source": [
    " val_count(t_con)"
   ]
  },
  {
   "cell_type": "code",
   "execution_count": null,
   "metadata": {
    "collapsed": true
   },
   "outputs": [],
   "source": []
  },
  {
   "cell_type": "markdown",
   "metadata": {},
   "source": [
    "## Segments Q4"
   ]
  },
  {
   "cell_type": "code",
   "execution_count": 22,
   "metadata": {
    "collapsed": false
   },
   "outputs": [
    {
     "data": {
      "text/plain": [
       "34"
      ]
     },
     "execution_count": 22,
     "metadata": {},
     "output_type": "execute_result"
    }
   ],
   "source": [
    "cursor.execute (\" SELECT `Segment`  FROM `%s`WHERE `Continent` LIKE %s AND `Date` BETWEEN '2016-10-01' AND '2016-12-31'  \"%(tab,cont))"
   ]
  },
  {
   "cell_type": "code",
   "execution_count": 23,
   "metadata": {
    "collapsed": true
   },
   "outputs": [],
   "source": [
    "t_seg = cursor.fetchall()"
   ]
  },
  {
   "cell_type": "code",
   "execution_count": 24,
   "metadata": {
    "collapsed": false
   },
   "outputs": [
    {
     "name": "stdout",
     "output_type": "stream",
     "text": [
      "Payment Processing:9:25.7%\n",
      "Lending:7:20.0%\n",
      "Accelerators Incubators and Funds:6:17.1%\n",
      "Investment Advisory:6:17.1%\n",
      "Analytics and Management:4:11.4%\n",
      "B2B Fintech Services:2:5.7%\n",
      "Mobile Fintech:1:2.9%\n"
     ]
    }
   ],
   "source": [
    " val_count(t_seg)"
   ]
  },
  {
   "cell_type": "markdown",
   "metadata": {},
   "source": [
    "## Trends Q4"
   ]
  },
  {
   "cell_type": "code",
   "execution_count": 25,
   "metadata": {
    "collapsed": false
   },
   "outputs": [
    {
     "data": {
      "text/plain": [
       "34"
      ]
     },
     "execution_count": 25,
     "metadata": {},
     "output_type": "execute_result"
    }
   ],
   "source": [
    "cursor.execute (\" SELECT `Trend`  FROM `%s`WHERE `Continent` LIKE %s AND `Date` BETWEEN '2016-10-01' AND '2016-12-31'  \"%(tab,cont))"
   ]
  },
  {
   "cell_type": "code",
   "execution_count": 26,
   "metadata": {
    "collapsed": true
   },
   "outputs": [],
   "source": [
    "t_trd = cursor.fetchall()"
   ]
  },
  {
   "cell_type": "code",
   "execution_count": 27,
   "metadata": {
    "collapsed": false
   },
   "outputs": [
    {
     "name": "stdout",
     "output_type": "stream",
     "text": [
      "Investments:13:38.2%\n",
      "Collaboration:10:29.4%\n",
      "Expansion:6:17.6%\n",
      "New Products:3:8.8%\n",
      "Regulations:2:5.9%\n"
     ]
    }
   ],
   "source": [
    " val_count(t_trd)"
   ]
  },
  {
   "cell_type": "markdown",
   "metadata": {},
   "source": [
    "## Q1 - Q4 Count"
   ]
  },
  {
   "cell_type": "markdown",
   "metadata": {},
   "source": [
    "Q1"
   ]
  },
  {
   "cell_type": "code",
   "execution_count": 28,
   "metadata": {
    "collapsed": false
   },
   "outputs": [
    {
     "data": {
      "text/plain": [
       "24"
      ]
     },
     "execution_count": 28,
     "metadata": {},
     "output_type": "execute_result"
    }
   ],
   "source": [
    "cursor.execute (\" SELECT 'COUNT(*)'  FROM `%s` WHERE `Continent` LIKE %s AND `Date` BETWEEN '2016-01-01' AND '2016-03-31'  \"%(tab,cont))"
   ]
  },
  {
   "cell_type": "markdown",
   "metadata": {},
   "source": [
    "Q2"
   ]
  },
  {
   "cell_type": "code",
   "execution_count": 29,
   "metadata": {
    "collapsed": false
   },
   "outputs": [
    {
     "data": {
      "text/plain": [
       "19"
      ]
     },
     "execution_count": 29,
     "metadata": {},
     "output_type": "execute_result"
    }
   ],
   "source": [
    "cursor.execute (\" SELECT 'COUNT(*)'  FROM `%s` WHERE `Continent` LIKE %s AND `Date` BETWEEN '2016-04-01' AND '2016-06-31'  \"%(tab,cont))"
   ]
  },
  {
   "cell_type": "markdown",
   "metadata": {},
   "source": [
    "Q1"
   ]
  },
  {
   "cell_type": "code",
   "execution_count": 30,
   "metadata": {
    "collapsed": false
   },
   "outputs": [
    {
     "data": {
      "text/plain": [
       "42"
      ]
     },
     "execution_count": 30,
     "metadata": {},
     "output_type": "execute_result"
    }
   ],
   "source": [
    "cursor.execute (\" SELECT 'COUNT(*)'  FROM `%s` WHERE `Continent` LIKE %s AND `Date` BETWEEN '2016-07-01' AND '2016-09-31'  \"%(tab,cont))"
   ]
  },
  {
   "cell_type": "markdown",
   "metadata": {},
   "source": [
    "Q1"
   ]
  },
  {
   "cell_type": "code",
   "execution_count": 31,
   "metadata": {
    "collapsed": false
   },
   "outputs": [
    {
     "data": {
      "text/plain": [
       "34"
      ]
     },
     "execution_count": 31,
     "metadata": {},
     "output_type": "execute_result"
    }
   ],
   "source": [
    "cursor.execute (\" SELECT 'COUNT(*)'  FROM `%s` WHERE `Continent` LIKE %s AND `Date` BETWEEN '2016-10-01' AND '2016-12-31'  \"%(tab,cont))"
   ]
  },
  {
   "cell_type": "markdown",
   "metadata": {},
   "source": [
    "## Q4 - Investment -  Segments"
   ]
  },
  {
   "cell_type": "code",
   "execution_count": 32,
   "metadata": {
    "collapsed": false
   },
   "outputs": [
    {
     "data": {
      "text/plain": [
       "13"
      ]
     },
     "execution_count": 32,
     "metadata": {},
     "output_type": "execute_result"
    }
   ],
   "source": [
    "cursor.execute (\"\"\" \n",
    "                SELECT `Segment`  FROM `%s` \n",
    "                WHERE `Continent` LIKE %s AND\n",
    "                `Trend` LIKE %s AND\n",
    "                `Date` BETWEEN '2016-10-01' AND '2016-12-31'  \"\"\"%(tab,cont,\"'%Investments%'\"))"
   ]
  },
  {
   "cell_type": "code",
   "execution_count": 33,
   "metadata": {
    "collapsed": true
   },
   "outputs": [],
   "source": [
    "t_is = cursor.fetchall()"
   ]
  },
  {
   "cell_type": "code",
   "execution_count": 34,
   "metadata": {
    "collapsed": false
   },
   "outputs": [
    {
     "name": "stdout",
     "output_type": "stream",
     "text": [
      "Lending:4:28.6%\n",
      "Analytics and Management:3:21.4%\n",
      "B2B Fintech Services:2:14.3%\n",
      "Payment Processing:2:14.3%\n",
      "Investment Advisory:2:14.3%\n",
      "Mobile Fintech:1:7.1%\n"
     ]
    }
   ],
   "source": [
    " val_count(t_is)"
   ]
  },
  {
   "cell_type": "markdown",
   "metadata": {},
   "source": [
    "## Q1-Q4 Investments"
   ]
  },
  {
   "cell_type": "markdown",
   "metadata": {},
   "source": [
    "Q1"
   ]
  },
  {
   "cell_type": "code",
   "execution_count": 35,
   "metadata": {
    "collapsed": false
   },
   "outputs": [
    {
     "data": {
      "text/plain": [
       "9"
      ]
     },
     "execution_count": 35,
     "metadata": {},
     "output_type": "execute_result"
    }
   ],
   "source": [
    "cursor.execute (\"\"\" \n",
    "                SELECT `Segment`  FROM `%s` \n",
    "                WHERE `Continent` LIKE %s AND\n",
    "                `Trend` LIKE %s AND\n",
    "                `Date` BETWEEN '2016-01-01' AND '2016-03-31'  \"\"\"%(tab,cont,\"'%Investments%'\"))"
   ]
  },
  {
   "cell_type": "markdown",
   "metadata": {},
   "source": [
    "Q2"
   ]
  },
  {
   "cell_type": "code",
   "execution_count": 36,
   "metadata": {
    "collapsed": false
   },
   "outputs": [
    {
     "data": {
      "text/plain": [
       "7"
      ]
     },
     "execution_count": 36,
     "metadata": {},
     "output_type": "execute_result"
    }
   ],
   "source": [
    "cursor.execute (\"\"\" \n",
    "                SELECT `Segment`  FROM `%s` \n",
    "                WHERE `Continent` LIKE %s AND\n",
    "                `Trend` LIKE %s AND\n",
    "                `Date` BETWEEN '2016-04-01' AND '2016-06-31'  \"\"\"%(tab,cont,\"'%Investments%'\"))"
   ]
  },
  {
   "cell_type": "markdown",
   "metadata": {},
   "source": [
    "Q3"
   ]
  },
  {
   "cell_type": "code",
   "execution_count": 37,
   "metadata": {
    "collapsed": false
   },
   "outputs": [
    {
     "data": {
      "text/plain": [
       "16"
      ]
     },
     "execution_count": 37,
     "metadata": {},
     "output_type": "execute_result"
    }
   ],
   "source": [
    "cursor.execute (\"\"\" \n",
    "                SELECT `Segment`  FROM `%s` \n",
    "                WHERE `Continent` LIKE %s AND\n",
    "                `Trend` LIKE %s AND\n",
    "                `Date` BETWEEN '2016-07-01' AND '2016-09-31'  \"\"\"%(tab,cont,\"'%Investments%'\"))"
   ]
  },
  {
   "cell_type": "markdown",
   "metadata": {},
   "source": [
    "Q4"
   ]
  },
  {
   "cell_type": "code",
   "execution_count": 38,
   "metadata": {
    "collapsed": false
   },
   "outputs": [
    {
     "data": {
      "text/plain": [
       "13"
      ]
     },
     "execution_count": 38,
     "metadata": {},
     "output_type": "execute_result"
    }
   ],
   "source": [
    "cursor.execute (\"\"\" \n",
    "                SELECT `Segment`  FROM `%s` \n",
    "                WHERE `Continent` LIKE %s AND\n",
    "                `Trend` LIKE %s AND\n",
    "                `Date` BETWEEN '2016-10-01' AND '2016-12-31'  \"\"\"%(tab,cont,\"'%Investments%'\"))"
   ]
  },
  {
   "cell_type": "markdown",
   "metadata": {},
   "source": [
    "## NP, Exp, Collab - Q4 - Segments"
   ]
  },
  {
   "cell_type": "code",
   "execution_count": 39,
   "metadata": {
    "collapsed": false
   },
   "outputs": [
    {
     "data": {
      "text/plain": [
       "19"
      ]
     },
     "execution_count": 39,
     "metadata": {},
     "output_type": "execute_result"
    }
   ],
   "source": [
    "cursor.execute (\"\"\" \n",
    "                SELECT `Segment`  FROM `%s` \n",
    "                WHERE `Continent` LIKE %s AND\n",
    "                `Trend` NOT LIKE 'Investments' AND `Trend` NOT LIKE 'Regulations' AND\n",
    "                `Date` BETWEEN '2016-10-01' AND '2016-12-31'  \"\"\"%(tab,cont))"
   ]
  },
  {
   "cell_type": "code",
   "execution_count": 40,
   "metadata": {
    "collapsed": true
   },
   "outputs": [],
   "source": [
    "t_NEC = cursor.fetchall()"
   ]
  },
  {
   "cell_type": "code",
   "execution_count": 41,
   "metadata": {
    "collapsed": false
   },
   "outputs": [
    {
     "name": "stdout",
     "output_type": "stream",
     "text": [
      "Payment Processing:7:35.0%\n",
      "Accelerators Incubators and Funds:5:25.0%\n",
      "Investment Advisory:4:20.0%\n",
      "Lending:3:15.0%\n",
      "Analytics and Management:1:5.0%\n"
     ]
    }
   ],
   "source": [
    " val_count(t_NEC)"
   ]
  },
  {
   "cell_type": "markdown",
   "metadata": {},
   "source": [
    "## NP, Exp, Collab - Q1-Q4 - Segments"
   ]
  },
  {
   "cell_type": "markdown",
   "metadata": {},
   "source": [
    "Q1"
   ]
  },
  {
   "cell_type": "code",
   "execution_count": 42,
   "metadata": {
    "collapsed": false
   },
   "outputs": [
    {
     "data": {
      "text/plain": [
       "15"
      ]
     },
     "execution_count": 42,
     "metadata": {},
     "output_type": "execute_result"
    }
   ],
   "source": [
    "cursor.execute (\"\"\" \n",
    "                SELECT *  FROM `%s` \n",
    "                WHERE `Continent` LIKE %s AND\n",
    "                `Trend` NOT LIKE 'Investments' AND `Trend` NOT LIKE 'Regulations' AND\n",
    "                `Date` BETWEEN '2016-01-01' AND '2016-03-31'  \"\"\"%(tab,cont))"
   ]
  },
  {
   "cell_type": "markdown",
   "metadata": {},
   "source": [
    "Q2"
   ]
  },
  {
   "cell_type": "code",
   "execution_count": 43,
   "metadata": {
    "collapsed": false
   },
   "outputs": [
    {
     "data": {
      "text/plain": [
       "13"
      ]
     },
     "execution_count": 43,
     "metadata": {},
     "output_type": "execute_result"
    }
   ],
   "source": [
    "cursor.execute (\"\"\" \n",
    "                SELECT *  FROM `%s` \n",
    "                WHERE `Continent` LIKE %s AND\n",
    "                `Trend` NOT LIKE 'Investments' AND `Trend` NOT LIKE 'Regulations' AND\n",
    "                `Date` BETWEEN '2016-04-01' AND '2016-06-31'  \"\"\"%(tab,cont))"
   ]
  },
  {
   "cell_type": "markdown",
   "metadata": {},
   "source": [
    "Q3"
   ]
  },
  {
   "cell_type": "code",
   "execution_count": 44,
   "metadata": {
    "collapsed": false
   },
   "outputs": [
    {
     "data": {
      "text/plain": [
       "26"
      ]
     },
     "execution_count": 44,
     "metadata": {},
     "output_type": "execute_result"
    }
   ],
   "source": [
    "cursor.execute (\"\"\" \n",
    "                SELECT *  FROM `%s` \n",
    "                WHERE `Continent` LIKE %s AND\n",
    "                `Trend` NOT LIKE 'Investments' AND `Trend` NOT LIKE 'Regulations' AND\n",
    "                `Date` BETWEEN '2016-07-01' AND '2016-09-31'  \"\"\"%(tab,cont))"
   ]
  },
  {
   "cell_type": "markdown",
   "metadata": {},
   "source": [
    "Q4"
   ]
  },
  {
   "cell_type": "code",
   "execution_count": 45,
   "metadata": {
    "collapsed": false
   },
   "outputs": [
    {
     "data": {
      "text/plain": [
       "19"
      ]
     },
     "execution_count": 45,
     "metadata": {},
     "output_type": "execute_result"
    }
   ],
   "source": [
    "cursor.execute (\"\"\" \n",
    "                SELECT *  FROM `%s` \n",
    "                WHERE `Continent` LIKE %s AND\n",
    "                `Trend` NOT LIKE 'Investments' AND `Trend` NOT LIKE 'Regulations' AND\n",
    "                `Date` BETWEEN '2016-10-01' AND '2016-12-31'  \"\"\"%(tab,cont))"
   ]
  },
  {
   "cell_type": "code",
   "execution_count": null,
   "metadata": {
    "collapsed": false
   },
   "outputs": [],
   "source": []
  },
  {
   "cell_type": "markdown",
   "metadata": {
    "collapsed": true
   },
   "source": [
    "# ROUGH WORK"
   ]
  },
  {
   "cell_type": "markdown",
   "metadata": {
    "collapsed": true
   },
   "source": [
    "## Text - Investments"
   ]
  },
  {
   "cell_type": "code",
   "execution_count": 46,
   "metadata": {
    "collapsed": false
   },
   "outputs": [
    {
     "data": {
      "text/plain": [
       "13"
      ]
     },
     "execution_count": 46,
     "metadata": {},
     "output_type": "execute_result"
    }
   ],
   "source": [
    "cursor.execute (\"\"\" \n",
    "                SELECT *  FROM `%s` \n",
    "                WHERE `Continent` LIKE %s AND\n",
    "                `Trend` LIKE %s AND\n",
    "                `Date` BETWEEN '2016-10-01' AND '2016-12-31'  \"\"\"%(tab,cont,\"'%Investments%'\"))"
   ]
  },
  {
   "cell_type": "code",
   "execution_count": 47,
   "metadata": {
    "collapsed": true
   },
   "outputs": [],
   "source": [
    "t1 = cursor.fetchall()"
   ]
  },
  {
   "cell_type": "code",
   "execution_count": 48,
   "metadata": {
    "collapsed": false
   },
   "outputs": [
    {
     "name": "stdout",
     "output_type": "stream",
     "text": [
      "Japan-based financial technology company Money Forward, automatic household accounts and asset management services, has raised US$11 million in a Series D round led by Isetan Mitsukoshi Holdings, and Mizuho Capital fintech fund. The company’s current investors Silicon Valley-based Fenox Venture Capital, and Toho Bank also joined the round along with other domestic banks and new business partners Gunma Bank, Fukui Bank, North Pacific Bank, and Shiga Bank. The new money will be mostly spent on recruiting and marketing. \n",
      "http://www.dealstreetasia.com/stories/54764-54764/\n",
      "*-*-*-*-*-*-\n",
      "US based direct marketing company VMobo has acquired India (Bengaluru) fintech startup Binge, which runs an app to aggregate mobile wallets for restaurant bill payments, for a valuation of US$3.5 million.\n",
      "The acquisition, which also includes a merger with Mumbai-based styling startup Dapper Don, has resulted in the launch of a network marketplace of about 120 brands, called VClusive.\n",
      "http://tech.economictimes.indiatimes.com/news/startups/fintech-startup-binge-acquired-by-california-based-vmobo/54910277\n",
      "*-*-*-*-*-*-\n",
      "India fintech startup Finwizard Technology, which runs a wealth management app Fisdom, has raised US$1.1 million from Saama Capital. The new funds will be used for team expansion and customer acquisition.\n",
      "http://economictimes.indiatimes.com/small-biz/money/fintech-startup-finwizard-technology-gets-rs-7-3-cr-from-saama-capital/articleshow/54929616.cms\n",
      "*-*-*-*-*-*-\n",
      "India fintech CreditMate, which uses data-driven algorithms to lend against purchase of 2-wheelers, has raised an investment of US$0.5 million from Quotient.\n",
      "http://economictimes.indiatimes.com/small-biz/money/india-quotient-invests-500000-in-fintech-startup-creditmate/articleshow/55043344.cms\n",
      "*-*-*-*-*-*-\n",
      "US and India based fintech company MPOWER Financing, which facilitates funding solutions for international students pursuing higher education in the US universities, has raised US$6 million in the round led by private equity firm Zephyr Peacock India and other investors including University Ventures, 1776 Ventures, Goal Structured Solutions, VilCap Investments and Fresco Capital.\n",
      "The company will use the capital raised to enhance its technology platform and expand its marketing efforts in emerging markets with a focus on India\n",
      "http://techcircle.vccircle.com/2016/10/26/fintech-startup-mpower-financing-raises-6-mn/\n",
      "*-*-*-*-*-*-\n",
      "India based Kredx, an invoice discounting platform, has raised US$6 million in Series A funding led by Sequoia and existing investor, Prime Venture Partners. The funds will be used to strengthen the technology, data and sales functions within the company.\n",
      "http://www.medianama.com/2016/10/223-kredx-series-a-funding/\n",
      "*-*-*-*-*-*-\n",
      "Russia based Qiwi, leading provider of next generation payment services, has acquired fintech startup Plati Potom that develops innovative post payment solutions for e-commerce and offline retailers as well as cutting-edge data analysis and credit risk management tools.\n",
      "http://www.reuters.com/article/idUSFWN1CC0E8\n",
      "*-*-*-*-*-*-\n",
      "Indonesia based C88 Financial Technologies, which owns and operates consumer financial websites in Indonesia and the Philippines has raised undisclosed amount of investments from Telstra Ventures. This investment creates opportunities for collaboration based on the enterprise services Telstra already provides to financial institutions across the Asia-Pacific region and through telkomtelstra, its joint venture in Indonesia. \n",
      "http://www.telecompaper.com/news/telstra-invests-in-asian-fintech-company-c88--1165103\n",
      "*-*-*-*-*-*-\n",
      "\n",
      "http://techcircle.vccircle.com/2016/11/29/fintech-startup-for-healthcare-services-affordplan-raises-3-mn/\n",
      "*-*-*-*-*-*-\n",
      "\n",
      "https://www.pehub.com/2016/11/israeli-fintech-startpaykey-picks-up-6-mln-series-a/\n",
      "*-*-*-*-*-*-\n",
      "\n",
      "http://tech.economictimes.indiatimes.com/news/startups/fintech-startup-rupaiya-exchange-secures-angel-funding-from-a-clutch-of-hnis/55871055\n",
      "*-*-*-*-*-*-\n",
      "\n",
      "http://economictimes.indiatimes.com/small-biz/money/fintech-startup-indifi-technologies-raises-rs-66-5-crore-in-round-led-by-omidyar-network/articleshow/55953213.cms\n",
      "*-*-*-*-*-*-\n",
      "\n",
      "http://techcircle.vccircle.com/2016/12/07/online-investment-advisory-startup-wealthapp-gets-440k-from-angel-investors/\n",
      "*-*-*-*-*-*-\n"
     ]
    }
   ],
   "source": [
    "for t in t1:\n",
    "    t_content = t[2]\n",
    "    t_link = t[4]\n",
    "    print t_content\n",
    "    print t_link\n",
    "    print \"*-*-*-*-*-*-\""
   ]
  },
  {
   "cell_type": "markdown",
   "metadata": {},
   "source": [
    "## Text - NP/E/C\n"
   ]
  },
  {
   "cell_type": "code",
   "execution_count": 49,
   "metadata": {
    "collapsed": false
   },
   "outputs": [
    {
     "data": {
      "text/plain": [
       "19"
      ]
     },
     "execution_count": 49,
     "metadata": {},
     "output_type": "execute_result"
    }
   ],
   "source": [
    "cursor.execute (\"\"\" \n",
    "                SELECT *  FROM `%s` \n",
    "                WHERE `Continent` LIKE %s AND\n",
    "                `Trend` NOT LIKE 'Investments' AND `Trend` NOT LIKE 'Regulations' AND\n",
    "                `Date` BETWEEN '2016-10-01' AND '2016-12-31'  \"\"\"%(tab,cont))"
   ]
  },
  {
   "cell_type": "code",
   "execution_count": 50,
   "metadata": {
    "collapsed": true
   },
   "outputs": [],
   "source": [
    "t2 = cursor.fetchall()"
   ]
  },
  {
   "cell_type": "code",
   "execution_count": 51,
   "metadata": {
    "collapsed": false
   },
   "outputs": [
    {
     "name": "stdout",
     "output_type": "stream",
     "text": [
      "Hong Kong Applied Science and Technology Research Institute (ASTRI) and the Electronic Transactions Development Agency (ETDA), an e-commerce agency under the Thai Ministry of Digital Economy and Society, have collaborated to support the development of electronic transactions in Thailand and to carry out research and development (R&D) projects of financial technologies (FinTech). \n",
      "http://www.enterpriseinnovation.net/article/thai-govt-partners-astri-fintech-research-and-development-1130015699\n",
      "*-*-*-*-*-*-\n",
      "Mastercard has partnered Shanghai Free Trade Zone (SFTZ) for a commodities trading platform. The Cross-Border Commodities Financial Services Platform is a pioneering effort by COMMIN, ValuePay and Mastercard, supported by Mastercard’s key banking partners including DBS Bank, CIMB Bank and Bank of Shanghai, who have expressed interest in participating in the pilot test of the platform.\n",
      "http://www.enterpriseinnovation.net/article/mastercard-announces-financial-services-platform-partnership-shanghai-free-trade-zone\n",
      "*-*-*-*-*-*-\n",
      "Hong Kong-based Fintech accelerator SuperCharger and Fidelity International have collaborated to promote FinTech entrepreneurship.\n",
      "Under the renewed partnership, the two firms will work together to create an integrated system for marketing FinTech solutions.\n",
      "http://www.enterpriseinnovation.net/article/fidelity-international-partners-supercharger-fintech-accelerator-hong-kong-647604466\n",
      "*-*-*-*-*-*-\n",
      "Singapore based advisory firm Bento has released the world’s first bionic advisor.\n",
      "The new service uses a proprietary robo algorithm to create a tailor-made portfolio for each individual investor.\n",
      "http://www.enterpriseinnovation.net/article/bento-launches-bionic-advisor-high-net-worth-clients-787112241\n",
      "*-*-*-*-*-*-\n",
      "Android Pay has launched in Hong Kong allowing compatible smartphone owners to make payments at over 5,000 locations supporting contactless payments.\n",
      "The near field communication (NFC) mobile payment service is available wherever NFC payments are accepted, including multiple major retail and fast food chains and 3 Hong Kong and SmarTone retail stores.\n",
      "http://www.enterpriseinnovation.net/article/android-pay-launches-hong-kong-820114030\n",
      "*-*-*-*-*-*-\n",
      "China's Ant Financial, the finance affiliate of e-commerce giant Alibaba - currently valued at US$60 billion, has partnered with Thai fintech Ascend Money (mobile wallet application & services company). Ant Financial will assist Ascend Money in growing its online and offline payment and financial services ecosystem by providing strategic and technical support.\n",
      "http://www.scmp.com/business/article/2041909/ant-financial-forms-strategic-partnership-thai-fintech-ascend-money\n",
      "*-*-*-*-*-*-\n",
      "\n",
      "http://www.enterpriseinnovation.net/article/ant-financial-partners-ascend-mobile-and-digital-payments-542922515\n",
      "*-*-*-*-*-*-\n",
      "\n",
      "http://www.econotimes.com/BNY-Mellon-to-open-eighth-fintech-innovation-centre-in-Singapore-389173\n",
      "*-*-*-*-*-*-\n",
      "\n",
      "http://thetechportal.com/2016/11/18/practo-team-fintech-startups/\n",
      "*-*-*-*-*-*-\n",
      "\n",
      "http://www.enterpriseinnovation.net/article/fintech-startup-first-circle-offers-collateral-free-loans-philippine-smbs-234425651\n",
      "*-*-*-*-*-*-\n",
      "\n",
      "http://www.mis-asia.com/tech/industries/smart-city-enabler-cyberview-holds-accelerator-for-fintech-startups/\n",
      "*-*-*-*-*-*-\n",
      "\n",
      "http://www.thehindubusinessline.com/info-tech/fintech-firm-zeta-launches-card-with-antifraud-measures/article9382651.ece\n",
      "*-*-*-*-*-*-\n",
      "\n",
      "http://www.econotimes.com/Societe-Generale-and-Singapore-fintech-firm-partner-for-third-party-Asian-equity-research-428607\n",
      "*-*-*-*-*-*-\n",
      "\n",
      "http://www.econotimes.com/Fintech-firms-from-South-Korea-and-Indonesia-partner-to-build-ecosystem-431396\n",
      "*-*-*-*-*-*-\n",
      "\n",
      "http://mybigplunge.com/news/news-flash/hr-block-partnered-with-niyo-tax-filing/\n",
      "*-*-*-*-*-*-\n",
      "\n",
      "http://www.indiainfoline.com/article/news-top-story/yes-bank-partners-fortytwo42-labs-to-implement-fintech-cyber-security-solutions-116121500237_1.html\n",
      "*-*-*-*-*-*-\n",
      "\n",
      "http://uk.businessinsider.com/latvian-marketplace-lender-twino-expands-to-russia-2016-12\n",
      "*-*-*-*-*-*-\n",
      "\n",
      "http://www.chinadaily.com.cn/business/2016-12/02/content_27545804.htm\n",
      "*-*-*-*-*-*-\n",
      "\n",
      "http://www.enterpriseinnovation.net/article/maybank-western-union-launch-mobile-money-transfer-service-malaysia-236314167\n",
      "*-*-*-*-*-*-\n"
     ]
    }
   ],
   "source": [
    "for t in t2:\n",
    "    t_content = t[2]\n",
    "    t_link = t[4]\n",
    "    print t_content\n",
    "    print t_link\n",
    "    print \"*-*-*-*-*-*-\""
   ]
  },
  {
   "cell_type": "markdown",
   "metadata": {},
   "source": [
    "## Text - Accelerators"
   ]
  },
  {
   "cell_type": "code",
   "execution_count": 52,
   "metadata": {
    "collapsed": false
   },
   "outputs": [
    {
     "data": {
      "text/plain": [
       "22"
      ]
     },
     "execution_count": 52,
     "metadata": {},
     "output_type": "execute_result"
    }
   ],
   "source": [
    "cursor.execute (\"\"\" \n",
    "                SELECT *  FROM `%s` \n",
    "                WHERE `Continent` LIKE %s AND\n",
    "                `Segment`  LIKE %s\n",
    "                \"\"\"%(tab,cont,\"'%Accelerator%'\"))"
   ]
  },
  {
   "cell_type": "code",
   "execution_count": 53,
   "metadata": {
    "collapsed": false
   },
   "outputs": [
    {
     "data": {
      "text/plain": [
       "6"
      ]
     },
     "execution_count": 53,
     "metadata": {},
     "output_type": "execute_result"
    }
   ],
   "source": [
    "cursor.execute (\"\"\" \n",
    "                SELECT *  FROM `%s` \n",
    "                WHERE `Continent` LIKE %s AND\n",
    "                `Segment`  LIKE %s AND\n",
    "                `Date` BETWEEN '2016-10-01' AND '2016-12-31' \n",
    "                \"\"\"%(tab,cont,\"'%Accelerator%'\"))"
   ]
  },
  {
   "cell_type": "code",
   "execution_count": 54,
   "metadata": {
    "collapsed": true
   },
   "outputs": [],
   "source": [
    "tt = cursor.fetchall()"
   ]
  },
  {
   "cell_type": "code",
   "execution_count": 55,
   "metadata": {
    "collapsed": false
   },
   "outputs": [
    {
     "name": "stdout",
     "output_type": "stream",
     "text": [
      "Hong Kong Applied Science and Technology Research Institute (ASTRI) and the Electronic Transactions Development Agency (ETDA), an e-commerce agency under the Thai Ministry of Digital Economy and Society, have collaborated to support the development of electronic transactions in Thailand and to carry out research and development (R&D) projects of financial technologies (FinTech). \n",
      "http://www.enterpriseinnovation.net/article/thai-govt-partners-astri-fintech-research-and-development-1130015699\n",
      "*-*-*-*-*-*-\n",
      "Hong Kong-based Fintech accelerator SuperCharger and Fidelity International have collaborated to promote FinTech entrepreneurship.\n",
      "Under the renewed partnership, the two firms will work together to create an integrated system for marketing FinTech solutions.\n",
      "http://www.enterpriseinnovation.net/article/fidelity-international-partners-supercharger-fintech-accelerator-hong-kong-647604466\n",
      "*-*-*-*-*-*-\n",
      "\n",
      "http://www.chinadaily.com.cn/business/2016-11/14/content_27372986.htm\n",
      "*-*-*-*-*-*-\n",
      "\n",
      "http://www.econotimes.com/BNY-Mellon-to-open-eighth-fintech-innovation-centre-in-Singapore-389173\n",
      "*-*-*-*-*-*-\n",
      "\n",
      "http://www.mis-asia.com/tech/industries/smart-city-enabler-cyberview-holds-accelerator-for-fintech-startups/\n",
      "*-*-*-*-*-*-\n",
      "\n",
      "http://www.econotimes.com/Fintech-firms-from-South-Korea-and-Indonesia-partner-to-build-ecosystem-431396\n",
      "*-*-*-*-*-*-\n"
     ]
    }
   ],
   "source": [
    "for t in tt:\n",
    "    t_content = t[2]\n",
    "    t_link = t[4]\n",
    "    print t_content\n",
    "    print t_link\n",
    "    print \"*-*-*-*-*-*-\""
   ]
  },
  {
   "cell_type": "code",
   "execution_count": 57,
   "metadata": {
    "collapsed": false
   },
   "outputs": [
    {
     "data": {
      "text/plain": [
       "13"
      ]
     },
     "execution_count": 57,
     "metadata": {},
     "output_type": "execute_result"
    }
   ],
   "source": [
    "cursor.execute (\"\"\" \n",
    "                SELECT *  FROM `%s` \n",
    "                WHERE `Continent` LIKE %s AND\n",
    "                `Trend` LIKE %s AND\n",
    "                `Date` BETWEEN '2016-10-01' AND '2016-12-31'  \"\"\"%(tab,cont,\"'%Investments%'\"))"
   ]
  },
  {
   "cell_type": "code",
   "execution_count": 58,
   "metadata": {
    "collapsed": true
   },
   "outputs": [],
   "source": [
    "t5 = cursor.fetchall()"
   ]
  },
  {
   "cell_type": "code",
   "execution_count": 60,
   "metadata": {
    "collapsed": false
   },
   "outputs": [
    {
     "name": "stdout",
     "output_type": "stream",
     "text": [
      "Japanese Money Forward raises US$11 million in Series D round : 2016-10-05 : Analytics and Management\n",
      "vMobo acquires Indian mobile wallet aggregator Binge : 2016-10-17 : Mobile Fintech,Payment Processing\n",
      "Wealth management app Fisdom has raised $1.1million from Saama Capital : 2016-10-18 : Analytics and Management\n",
      "Lending startup CreditMate raises US$0.5 million : 2016-10-24 : Lending\n",
      "MPOWER Financing raises US$6 million from Zephyr Peacock : 2016-10-26 : Lending\n",
      "Kredx has raised $6 million Series A financing from Sequoia Capital : 2016-10-25 : Analytics and Management\n",
      "Qiwi acquires fintech startup Plati Potom : 2016-10-06 : B2B Fintech Services\n",
      "C88 Financial receives strategic investment from Telstra Ventures : 2016-10-02 : B2B Fintech Services\n",
      "Affordplan has raised $3 million Series A financing : 2016-11-29 : Investment Advisory\n",
      "PayKey has raised $6 million in Series A financing : 2016-11-23 : Payment Processing\n",
      "Rupaiya Exchange has raised $200,000 angel financing from private investors : 2016-12-08 : Lending\n",
      "Indifi Technologies has raised $10 million from Omidyar Network : 2016-12-12 : Lending\n",
      "WealthApp has raised $440,000 in angel financing : 2016-12-06 : Investment Advisory\n"
     ]
    }
   ],
   "source": [
    "for t in t5:\n",
    "    print t[1],\":\",t[5],\":\",t[8]"
   ]
  },
  {
   "cell_type": "code",
   "execution_count": null,
   "metadata": {
    "collapsed": true
   },
   "outputs": [],
   "source": []
  },
  {
   "cell_type": "code",
   "execution_count": null,
   "metadata": {
    "collapsed": true
   },
   "outputs": [],
   "source": []
  },
  {
   "cell_type": "code",
   "execution_count": null,
   "metadata": {
    "collapsed": true
   },
   "outputs": [],
   "source": []
  },
  {
   "cell_type": "code",
   "execution_count": null,
   "metadata": {
    "collapsed": true
   },
   "outputs": [],
   "source": []
  },
  {
   "cell_type": "code",
   "execution_count": null,
   "metadata": {
    "collapsed": true
   },
   "outputs": [],
   "source": []
  },
  {
   "cell_type": "code",
   "execution_count": 56,
   "metadata": {
    "collapsed": true
   },
   "outputs": [],
   "source": [
    "#cursor.close()"
   ]
  }
 ],
 "metadata": {
  "anaconda-cloud": {},
  "kernelspec": {
   "display_name": "Python [default]",
   "language": "python",
   "name": "python2"
  },
  "language_info": {
   "codemirror_mode": {
    "name": "ipython",
    "version": 2
   },
   "file_extension": ".py",
   "mimetype": "text/x-python",
   "name": "python",
   "nbconvert_exporter": "python",
   "pygments_lexer": "ipython2",
   "version": "2.7.12"
  }
 },
 "nbformat": 4,
 "nbformat_minor": 1
}

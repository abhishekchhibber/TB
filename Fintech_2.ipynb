{
 "cells": [
  {
   "cell_type": "code",
   "execution_count": 1,
   "metadata": {
    "collapsed": false
   },
   "outputs": [],
   "source": [
    "import pymysql\n",
    "import pymysql.cursors\n",
    "import csv\n",
    "from collections import Counter\n",
    "import pandas as pd\n",
    "import numpy as np\n"
   ]
  },
  {
   "cell_type": "code",
   "execution_count": 2,
   "metadata": {
    "collapsed": true
   },
   "outputs": [],
   "source": [
    "# Connect to the database\n",
    "connection = pymysql.connect(host='127.0.0.1',\n",
    "                             user='root',\n",
    "                             password='abhi1234',\n",
    "                             db='fintech_2016',\n",
    "                             port=3306,\n",
    "                             charset='utf8'\n",
    "                             )\n",
    "cursor = connection.cursor()"
   ]
  },
  {
   "cell_type": "markdown",
   "metadata": {},
   "source": [
    "#### Getting Table Names"
   ]
  },
  {
   "cell_type": "code",
   "execution_count": 3,
   "metadata": {
    "collapsed": false
   },
   "outputs": [
    {
     "data": {
      "text/plain": [
       "2"
      ]
     },
     "execution_count": 3,
     "metadata": {},
     "output_type": "execute_result"
    }
   ],
   "source": [
    "\n",
    "cursor.execute (\" SHOW TABLES   \")"
   ]
  },
  {
   "cell_type": "code",
   "execution_count": 4,
   "metadata": {
    "collapsed": false
   },
   "outputs": [],
   "source": [
    "tabls = cursor.fetchall()\n"
   ]
  },
  {
   "cell_type": "code",
   "execution_count": 5,
   "metadata": {
    "collapsed": false
   },
   "outputs": [
    {
     "name": "stdout",
     "output_type": "stream",
     "text": [
      "(u'fintech_15',)\n",
      "(u'fintech_16',)\n"
     ]
    }
   ],
   "source": [
    "for a in tabls:\n",
    "    print a"
   ]
  },
  {
   "cell_type": "code",
   "execution_count": 6,
   "metadata": {
    "collapsed": true
   },
   "outputs": [],
   "source": [
    "tab = \"fintech_16\""
   ]
  },
  {
   "cell_type": "markdown",
   "metadata": {},
   "source": [
    "#### Column Selection"
   ]
  },
  {
   "cell_type": "code",
   "execution_count": 7,
   "metadata": {
    "collapsed": false
   },
   "outputs": [
    {
     "data": {
      "text/plain": [
       "14"
      ]
     },
     "execution_count": 7,
     "metadata": {},
     "output_type": "execute_result"
    }
   ],
   "source": [
    "cursor.execute(\"  SHOW COLUMNS FROM `fintech_16`     \")"
   ]
  },
  {
   "cell_type": "code",
   "execution_count": 8,
   "metadata": {
    "collapsed": false
   },
   "outputs": [],
   "source": [
    "cols = cursor.fetchall()\n"
   ]
  },
  {
   "cell_type": "code",
   "execution_count": 9,
   "metadata": {
    "collapsed": false
   },
   "outputs": [
    {
     "name": "stdout",
     "output_type": "stream",
     "text": [
      "ID\n",
      "Title\n",
      "Content\n",
      "Snippet\n",
      "Link\n",
      "Date\n",
      "Source\n",
      "Trend\n",
      "Segment\n",
      "Company\n",
      "Country\n",
      "Continent\n",
      "Investment (US$ million)\n",
      "Investors\n"
     ]
    }
   ],
   "source": [
    "for i in cols:\n",
    "    print i[0]"
   ]
  },
  {
   "cell_type": "markdown",
   "metadata": {},
   "source": [
    "### Country"
   ]
  },
  {
   "cell_type": "code",
   "execution_count": 10,
   "metadata": {
    "collapsed": false
   },
   "outputs": [],
   "source": [
    "con = \"'US'\""
   ]
  },
  {
   "cell_type": "markdown",
   "metadata": {},
   "source": [
    "### _Functions_"
   ]
  },
  {
   "cell_type": "markdown",
   "metadata": {},
   "source": [
    "#### Fun: Unique values of a table"
   ]
  },
  {
   "cell_type": "code",
   "execution_count": 11,
   "metadata": {
    "collapsed": false
   },
   "outputs": [],
   "source": [
    "def unique (col1):\n",
    "    col = col1\n",
    "    list_a = [ ]\n",
    "    qw = ''' SELECT DISTINCT(`%s`) AS `%s` FROM `%s`  ORDER BY `%s` DESC   ''' %(col,col,tab,col)\n",
    "    cursor.execute (qw)\n",
    "    fetcher = cursor.fetchall()\n",
    "    for one in fetcher:\n",
    "        tick = one[0]\n",
    "        tick = tick.split(\",\")\n",
    "        for i in range (len(tick)):\n",
    "            if tick[i] in list_a:\n",
    "                pass\n",
    "            else:\n",
    "                list_a.append(tick[i])\n",
    "    print \"Total Unique Values: \"+str(len(list_a))\n",
    "    return list_a\n",
    "            \n",
    "    "
   ]
  },
  {
   "cell_type": "code",
   "execution_count": 12,
   "metadata": {
    "collapsed": false
   },
   "outputs": [
    {
     "name": "stdout",
     "output_type": "stream",
     "text": [
      "Total Unique Values: 45\n"
     ]
    }
   ],
   "source": [
    "d = unique (\"Country\") #enters col name, outputs as a list\n",
    "# always out it in form of a list"
   ]
  },
  {
   "cell_type": "code",
   "execution_count": 13,
   "metadata": {
    "collapsed": false
   },
   "outputs": [
    {
     "data": {
      "text/plain": [
       "45"
      ]
     },
     "execution_count": 13,
     "metadata": {},
     "output_type": "execute_result"
    }
   ],
   "source": [
    "len(d)"
   ]
  },
  {
   "cell_type": "markdown",
   "metadata": {},
   "source": [
    "#### Getting Count of unique values "
   ]
  },
  {
   "cell_type": "code",
   "execution_count": 14,
   "metadata": {
    "collapsed": false
   },
   "outputs": [],
   "source": [
    "def val_count(u_val):\n",
    "    list_2 = [ ]\n",
    "    for a in u_val:\n",
    "        b = a[0]\n",
    "        if len(b) > 1:\n",
    "            b = b.split(\",\")\n",
    "        for i in range (len(b)):\n",
    "            list_2.append(b[i])\n",
    "    c = Counter( list_2 )\n",
    "    d = c.items()# It's a list\n",
    "    f = sorted(d, key=lambda x: x[1], reverse=True)\n",
    "    for e in f:\n",
    "        print e[0]+\":\"+str(e[1])+\":\"+format(((float(e[1])/len(list_2))*100),'.1f')+\"%\"\n",
    "    return \n"
   ]
  },
  {
   "cell_type": "code",
   "execution_count": null,
   "metadata": {
    "collapsed": true
   },
   "outputs": [],
   "source": []
  },
  {
   "cell_type": "markdown",
   "metadata": {},
   "source": [
    "## Major countries in Q4-2016"
   ]
  },
  {
   "cell_type": "code",
   "execution_count": 15,
   "metadata": {
    "collapsed": false
   },
   "outputs": [
    {
     "data": {
      "text/plain": [
       "[u'Vietnam',\n",
       " u'US',\n",
       " u'Spain',\n",
       " u'India',\n",
       " u'Hong kong',\n",
       " u'UK',\n",
       " u'Thailand',\n",
       " u'South Korea',\n",
       " u'France',\n",
       " u'China',\n",
       " u'Switzerland',\n",
       " u'Sweden',\n",
       " u'Germany',\n",
       " u'Indonesia',\n",
       " u'South Africa',\n",
       " u'Singapore',\n",
       " u'Scotland',\n",
       " u'Russia',\n",
       " u'Philippines',\n",
       " u'Pakistan',\n",
       " u'Norway',\n",
       " u'Nigeria',\n",
       " u'New Zealand',\n",
       " u'Netherlands',\n",
       " u'Myanmar',\n",
       " u'Mexico',\n",
       " u'Malaysia',\n",
       " u'Latvia',\n",
       " u'Kenya',\n",
       " u'Japan',\n",
       " u'Ivory Coast',\n",
       " u'Italy',\n",
       " u'Israel',\n",
       " u'Brazil',\n",
       " u'Ireland',\n",
       " u'Hong Kong',\n",
       " u'Finland',\n",
       " u'Egypt',\n",
       " u'Denmark',\n",
       " u'Democratic Republic of Congo',\n",
       " u'Mozambique',\n",
       " u'Canada',\n",
       " u'Australia',\n",
       " u'Cambodia',\n",
       " u'Bermuda']"
      ]
     },
     "execution_count": 15,
     "metadata": {},
     "output_type": "execute_result"
    }
   ],
   "source": [
    "d\n"
   ]
  },
  {
   "cell_type": "code",
   "execution_count": 16,
   "metadata": {
    "collapsed": true
   },
   "outputs": [],
   "source": [
    "query = cursor.execute (''' SELECT `Segment` FROM `%s` \n",
    "WHERE `Date` BETWEEN '2016-10-01' AND '2016-12-31' \n",
    "AND `Trend` NOT LIKE 'Investments' AND `Trend` NOT LIKE 'Regulations' \n",
    "AND `Country` LIKE %s '''\n",
    "       %(tab,con)      )"
   ]
  },
  {
   "cell_type": "code",
   "execution_count": 17,
   "metadata": {
    "collapsed": false
   },
   "outputs": [
    {
     "name": "stdout",
     "output_type": "stream",
     "text": [
      "Vietnam : 0\n",
      "US : 22\n",
      "Spain : 0\n",
      "India : 11\n",
      "Hong kong : 2\n",
      "UK : 15\n",
      "Thailand : 3\n",
      "South Korea : 0\n",
      "France : 1\n",
      "China : 1\n",
      "Switzerland : 2\n",
      "Sweden : 3\n",
      "Germany : 5\n",
      "Indonesia : 0\n",
      "South Africa : 4\n",
      "Singapore : 3\n",
      "Scotland : 0\n",
      "Russia : 1\n",
      "Philippines : 1\n",
      "Pakistan : 0\n",
      "Norway : 0\n",
      "Nigeria : 0\n",
      "New Zealand : 2\n",
      "Netherlands : 0\n",
      "Myanmar : 0\n",
      "Mexico : 1\n",
      "Malaysia : 3\n",
      "Latvia : 0\n",
      "Kenya : 0\n",
      "Japan : 1\n",
      "Ivory Coast : 1\n",
      "Italy : 0\n",
      "Israel : 1\n",
      "Brazil : 1\n",
      "Ireland : 3\n",
      "Hong Kong : 2\n",
      "Finland : 0\n",
      "Egypt : 0\n",
      "Denmark : 2\n",
      "Democratic Republic of Congo : 0\n",
      "Mozambique : 0\n",
      "Canada : 8\n",
      "Australia : 5\n",
      "Cambodia : 0\n",
      "Bermuda : 0\n"
     ]
    }
   ],
   "source": [
    "for conti in d:\n",
    "    cursor.execute (''' SELECT COUNT(`Title`) FROM `%s` \n",
    "    WHERE `Date` BETWEEN '2016-10-01' AND '2016-12-31'\n",
    "    AND `Country` LIKE '%s' ''' %(tab,conti)      )\n",
    "    numb = cursor.fetchall()\n",
    "    print conti,\":\",numb[0][0]"
   ]
  },
  {
   "cell_type": "code",
   "execution_count": 18,
   "metadata": {
    "collapsed": false
   },
   "outputs": [
    {
     "name": "stdout",
     "output_type": "stream",
     "text": [
      "Total Unique Values: 9\n"
     ]
    }
   ],
   "source": [
    "segs = unique (\"Segment\")"
   ]
  },
  {
   "cell_type": "code",
   "execution_count": 59,
   "metadata": {
    "collapsed": false
   },
   "outputs": [
    {
     "name": "stdout",
     "output_type": "stream",
     "text": [
      "Payment Processing : 27\n",
      "Mobile Fintech : 1\n",
      "Marketplace : 3\n",
      "Lending : 16\n",
      "Investment Advisory : 17\n",
      "B2B Fintech Services : 9\n",
      "Analytics and Management : 15\n",
      "Accelerators Incubators and Funds : 17\n",
      " : 2\n"
     ]
    }
   ],
   "source": [
    "for segi in segs:\n",
    "    cursor.execute (''' SELECT COUNT(`Title`) FROM `%s` \n",
    "    WHERE `Date` BETWEEN '2016-10-01' AND '2016-12-31'\n",
    "    AND `Segment` LIKE '%s' ''' %(tab,segi)      )\n",
    "    numb = cursor.fetchall()\n",
    "    print segi,\":\",numb[0][0]"
   ]
  },
  {
   "cell_type": "code",
   "execution_count": null,
   "metadata": {
    "collapsed": true
   },
   "outputs": [],
   "source": []
  },
  {
   "cell_type": "code",
   "execution_count": null,
   "metadata": {
    "collapsed": true
   },
   "outputs": [],
   "source": []
  },
  {
   "cell_type": "code",
   "execution_count": null,
   "metadata": {
    "collapsed": true
   },
   "outputs": [],
   "source": []
  },
  {
   "cell_type": "code",
   "execution_count": null,
   "metadata": {
    "collapsed": true
   },
   "outputs": [],
   "source": []
  },
  {
   "cell_type": "code",
   "execution_count": null,
   "metadata": {
    "collapsed": true
   },
   "outputs": [],
   "source": []
  },
  {
   "cell_type": "code",
   "execution_count": null,
   "metadata": {
    "collapsed": true
   },
   "outputs": [],
   "source": []
  },
  {
   "cell_type": "code",
   "execution_count": null,
   "metadata": {
    "collapsed": true
   },
   "outputs": [],
   "source": []
  },
  {
   "cell_type": "code",
   "execution_count": null,
   "metadata": {
    "collapsed": true
   },
   "outputs": [],
   "source": []
  },
  {
   "cell_type": "code",
   "execution_count": null,
   "metadata": {
    "collapsed": true
   },
   "outputs": [],
   "source": []
  },
  {
   "cell_type": "code",
   "execution_count": null,
   "metadata": {
    "collapsed": true
   },
   "outputs": [],
   "source": []
  },
  {
   "cell_type": "markdown",
   "metadata": {},
   "source": [
    "#### Selecting Table and current quarter"
   ]
  },
  {
   "cell_type": "code",
   "execution_count": 21,
   "metadata": {
    "collapsed": false
   },
   "outputs": [
    {
     "data": {
      "text/plain": [
       "54"
      ]
     },
     "execution_count": 21,
     "metadata": {},
     "output_type": "execute_result"
    }
   ],
   "source": [
    "cursor.execute (\" SELECT *  FROM `%s` WHERE `Country` LIKE %s  \"%(tab,con))"
   ]
  },
  {
   "cell_type": "code",
   "execution_count": null,
   "metadata": {
    "collapsed": true
   },
   "outputs": [],
   "source": []
  },
  {
   "cell_type": "code",
   "execution_count": 22,
   "metadata": {
    "collapsed": false
   },
   "outputs": [],
   "source": [
    "ad = 'fintech_16'"
   ]
  },
  {
   "cell_type": "code",
   "execution_count": 23,
   "metadata": {
    "collapsed": true
   },
   "outputs": [],
   "source": [
    "col = 'Trend'"
   ]
  },
  {
   "cell_type": "markdown",
   "metadata": {},
   "source": [
    "#### Activity Number in that quarter"
   ]
  },
  {
   "cell_type": "code",
   "execution_count": 24,
   "metadata": {
    "collapsed": false
   },
   "outputs": [
    {
     "data": {
      "text/plain": [
       "22"
      ]
     },
     "execution_count": 24,
     "metadata": {},
     "output_type": "execute_result"
    }
   ],
   "source": [
    "cursor.execute (\" SELECT `Trend`  FROM `%s` WHERE `Date` BETWEEN '2016-10-01' AND '2016-12-31' AND  `Country` LIKE %s  \"%(tab,con))"
   ]
  },
  {
   "cell_type": "code",
   "execution_count": 25,
   "metadata": {
    "collapsed": true
   },
   "outputs": [],
   "source": [
    "t1 = cursor.fetchall()"
   ]
  },
  {
   "cell_type": "code",
   "execution_count": 26,
   "metadata": {
    "collapsed": false
   },
   "outputs": [
    {
     "data": {
      "text/plain": [
       "22"
      ]
     },
     "execution_count": 26,
     "metadata": {},
     "output_type": "execute_result"
    }
   ],
   "source": [
    "len(t1) #t1 is a tuple"
   ]
  },
  {
   "cell_type": "markdown",
   "metadata": {},
   "source": [
    "#### Trends in that Quarter"
   ]
  },
  {
   "cell_type": "code",
   "execution_count": 27,
   "metadata": {
    "collapsed": false
   },
   "outputs": [
    {
     "name": "stdout",
     "output_type": "stream",
     "text": [
      "Investments:11:47.8%\n",
      "Collaboration:5:21.7%\n",
      "Expansion:5:21.7%\n",
      "New Products:2:8.7%\n"
     ]
    }
   ],
   "source": [
    " ww = val_count(t1)"
   ]
  },
  {
   "cell_type": "code",
   "execution_count": null,
   "metadata": {
    "collapsed": true
   },
   "outputs": [],
   "source": []
  },
  {
   "cell_type": "markdown",
   "metadata": {},
   "source": [
    "#### Activity number in preceding three quarters"
   ]
  },
  {
   "cell_type": "code",
   "execution_count": 28,
   "metadata": {
    "collapsed": false
   },
   "outputs": [
    {
     "data": {
      "text/plain": [
       "8"
      ]
     },
     "execution_count": 28,
     "metadata": {},
     "output_type": "execute_result"
    }
   ],
   "source": [
    "cursor.execute (\" SELECT *  FROM `%s` WHERE `Date` BETWEEN '2016-01-01' AND '2016-03-31' AND `Country` LIKE %s   \"%(tab,con)) #Q1"
   ]
  },
  {
   "cell_type": "code",
   "execution_count": 29,
   "metadata": {
    "collapsed": false
   },
   "outputs": [
    {
     "data": {
      "text/plain": [
       "10"
      ]
     },
     "execution_count": 29,
     "metadata": {},
     "output_type": "execute_result"
    }
   ],
   "source": [
    "cursor.execute (\" SELECT *  FROM `%s` WHERE `Date` BETWEEN '2016-04-01' AND '2016-06-30' AND `Country` LIKE %s  \"%(tab,con)) #Q2"
   ]
  },
  {
   "cell_type": "code",
   "execution_count": 30,
   "metadata": {
    "collapsed": false
   },
   "outputs": [
    {
     "data": {
      "text/plain": [
       "14"
      ]
     },
     "execution_count": 30,
     "metadata": {},
     "output_type": "execute_result"
    }
   ],
   "source": [
    "cursor.execute (\" SELECT *  FROM `%s` WHERE `Date` BETWEEN '2016-07-01' AND '2016-09-30' AND `Country` LIKE %s  \"%(tab,con)) #Q3"
   ]
  },
  {
   "cell_type": "code",
   "execution_count": 31,
   "metadata": {
    "collapsed": false
   },
   "outputs": [
    {
     "data": {
      "text/plain": [
       "22"
      ]
     },
     "execution_count": 31,
     "metadata": {},
     "output_type": "execute_result"
    }
   ],
   "source": [
    "cursor.execute (\" SELECT *  FROM `%s` WHERE `Date` BETWEEN '2016-10-01' AND '2016-12-31' AND `Country` LIKE %s  \"%(tab,con)) #Q4"
   ]
  },
  {
   "cell_type": "markdown",
   "metadata": {},
   "source": [
    "#### Segments in that quarter"
   ]
  },
  {
   "cell_type": "code",
   "execution_count": 32,
   "metadata": {
    "collapsed": false
   },
   "outputs": [
    {
     "data": {
      "text/plain": [
       "22"
      ]
     },
     "execution_count": 32,
     "metadata": {},
     "output_type": "execute_result"
    }
   ],
   "source": [
    "cursor.execute (\" SELECT `Segment`  FROM `%s` WHERE `Date` BETWEEN '2016-10-01' AND '2016-12-31' AND `Country` LIKE %s  \"%(tab,con))"
   ]
  },
  {
   "cell_type": "code",
   "execution_count": 33,
   "metadata": {
    "collapsed": true
   },
   "outputs": [],
   "source": [
    "t2 = cursor.fetchall()"
   ]
  },
  {
   "cell_type": "code",
   "execution_count": 34,
   "metadata": {
    "collapsed": false
   },
   "outputs": [
    {
     "name": "stdout",
     "output_type": "stream",
     "text": [
      "Payment Processing:9:39.1%\n",
      "B2B Fintech Services:4:17.4%\n",
      "Investment Advisory:4:17.4%\n",
      "Marketplace:2:8.7%\n",
      "Lending:2:8.7%\n",
      "Analytics and Management:1:4.3%\n",
      "Accelerators Incubators and Funds:1:4.3%\n"
     ]
    }
   ],
   "source": [
    "val_count(t2)"
   ]
  },
  {
   "cell_type": "code",
   "execution_count": null,
   "metadata": {
    "collapsed": true
   },
   "outputs": [],
   "source": []
  },
  {
   "cell_type": "code",
   "execution_count": 35,
   "metadata": {
    "collapsed": false
   },
   "outputs": [],
   "source": [
    "## cursor.execute(\"  SELECT `%s` FROM `%s`     \"%(col,tab) )"
   ]
  },
  {
   "cell_type": "markdown",
   "metadata": {},
   "source": [
    "#### Investments - Number in that quarter"
   ]
  },
  {
   "cell_type": "code",
   "execution_count": 36,
   "metadata": {
    "collapsed": false
   },
   "outputs": [
    {
     "data": {
      "text/plain": [
       "11"
      ]
     },
     "execution_count": 36,
     "metadata": {},
     "output_type": "execute_result"
    }
   ],
   "source": [
    "cursor.execute (''' SELECT `Segment`  FROM `%s` \n",
    "WHERE `Date` BETWEEN '2016-10-01' AND '2016-12-31' \n",
    "AND `Trend` LIKE %s\n",
    "AND `Country` LIKE %s '''%(tab,\"'%Investments%'\",con))"
   ]
  },
  {
   "cell_type": "markdown",
   "metadata": {},
   "source": [
    "#### Investments - Segements"
   ]
  },
  {
   "cell_type": "code",
   "execution_count": 37,
   "metadata": {
    "collapsed": false
   },
   "outputs": [],
   "source": [
    "t3 = cursor.fetchall()"
   ]
  },
  {
   "cell_type": "code",
   "execution_count": 38,
   "metadata": {
    "collapsed": false
   },
   "outputs": [
    {
     "name": "stdout",
     "output_type": "stream",
     "text": [
      "Payment Processing:3:25.0%\n",
      "B2B Fintech Services:3:25.0%\n",
      "Investment Advisory:3:25.0%\n",
      "Lending:2:16.7%\n",
      "Marketplace:1:8.3%\n"
     ]
    }
   ],
   "source": [
    "val_count(t3)"
   ]
  },
  {
   "cell_type": "code",
   "execution_count": null,
   "metadata": {
    "collapsed": true
   },
   "outputs": [],
   "source": []
  },
  {
   "cell_type": "markdown",
   "metadata": {},
   "source": [
    "#### Investments - Numbers in preceding three quarters"
   ]
  },
  {
   "cell_type": "markdown",
   "metadata": {},
   "source": [
    "Q1"
   ]
  },
  {
   "cell_type": "code",
   "execution_count": 39,
   "metadata": {
    "collapsed": false
   },
   "outputs": [
    {
     "data": {
      "text/plain": [
       "3"
      ]
     },
     "execution_count": 39,
     "metadata": {},
     "output_type": "execute_result"
    }
   ],
   "source": [
    "cursor.execute (''' SELECT `Segment`  FROM `%s` \n",
    "WHERE `Date` BETWEEN '2016-01-01' AND '2016-03-31' \n",
    "AND `Trend` LIKE %s \n",
    "AND `Country` LIKE %s '''%(tab,\"'%Investments%'\",con))"
   ]
  },
  {
   "cell_type": "markdown",
   "metadata": {},
   "source": [
    "Q2"
   ]
  },
  {
   "cell_type": "code",
   "execution_count": 40,
   "metadata": {
    "collapsed": false,
    "scrolled": true
   },
   "outputs": [
    {
     "data": {
      "text/plain": [
       "9"
      ]
     },
     "execution_count": 40,
     "metadata": {},
     "output_type": "execute_result"
    }
   ],
   "source": [
    "cursor.execute (''' SELECT `Segment`  FROM `%s` \n",
    "WHERE `Date` BETWEEN '2016-04-01' AND '2016-06-30' \n",
    "AND `Trend` LIKE %s \n",
    "AND `Country` LIKE %s '''%(tab,\"'%Investments%'\",con))"
   ]
  },
  {
   "cell_type": "markdown",
   "metadata": {},
   "source": [
    "Q3"
   ]
  },
  {
   "cell_type": "code",
   "execution_count": 41,
   "metadata": {
    "collapsed": false
   },
   "outputs": [
    {
     "data": {
      "text/plain": [
       "7"
      ]
     },
     "execution_count": 41,
     "metadata": {},
     "output_type": "execute_result"
    }
   ],
   "source": [
    "cursor.execute (''' SELECT `Segment`  FROM `%s` \n",
    "WHERE `Date` BETWEEN '2016-07-01' AND '2016-09-30' \n",
    "AND `Trend` LIKE %s \n",
    "AND `Country` LIKE %s '''%(tab,\"'%Investments%'\",con))"
   ]
  },
  {
   "cell_type": "markdown",
   "metadata": {},
   "source": [
    "Q4"
   ]
  },
  {
   "cell_type": "code",
   "execution_count": 42,
   "metadata": {
    "collapsed": false
   },
   "outputs": [
    {
     "data": {
      "text/plain": [
       "11"
      ]
     },
     "execution_count": 42,
     "metadata": {},
     "output_type": "execute_result"
    }
   ],
   "source": [
    "cursor.execute (''' SELECT `Segment`  FROM `%s` \n",
    "WHERE `Date` BETWEEN '2016-10-01' AND '2016-12-31' \n",
    "AND `Trend` LIKE %s \n",
    "AND `Country` LIKE %s '''%(tab,\"'%Investments%'\",con))"
   ]
  },
  {
   "cell_type": "markdown",
   "metadata": {},
   "source": [
    "#### NP, Exp, Collab - Number in that quarter"
   ]
  },
  {
   "cell_type": "code",
   "execution_count": 43,
   "metadata": {
    "collapsed": false
   },
   "outputs": [
    {
     "data": {
      "text/plain": [
       "11"
      ]
     },
     "execution_count": 43,
     "metadata": {},
     "output_type": "execute_result"
    }
   ],
   "source": [
    "cursor.execute (''' SELECT `Segment` FROM `%s` \n",
    "WHERE `Date` BETWEEN '2016-10-01' AND '2016-12-31' \n",
    "AND `Trend` NOT LIKE 'Investments' AND `Trend` NOT LIKE 'Regulations' \n",
    "AND `Country` LIKE %s '''\n",
    "       %(tab,con)      )"
   ]
  },
  {
   "cell_type": "markdown",
   "metadata": {},
   "source": [
    "#### NP, Exp, Collab - Segements"
   ]
  },
  {
   "cell_type": "code",
   "execution_count": 44,
   "metadata": {
    "collapsed": true
   },
   "outputs": [],
   "source": [
    "t4 = cursor.fetchall()"
   ]
  },
  {
   "cell_type": "code",
   "execution_count": 45,
   "metadata": {
    "collapsed": false
   },
   "outputs": [
    {
     "name": "stdout",
     "output_type": "stream",
     "text": [
      "Payment Processing:6:54.5%\n",
      "Marketplace:1:9.1%\n",
      "B2B Fintech Services:1:9.1%\n",
      "Accelerators Incubators and Funds:1:9.1%\n",
      "Analytics and Management:1:9.1%\n",
      "Investment Advisory:1:9.1%\n"
     ]
    }
   ],
   "source": [
    "val_count(t4)"
   ]
  },
  {
   "cell_type": "markdown",
   "metadata": {},
   "source": [
    "#### NP, Exp, Collab - Numbers in preceding three quarters"
   ]
  },
  {
   "cell_type": "markdown",
   "metadata": {},
   "source": [
    "Q1"
   ]
  },
  {
   "cell_type": "code",
   "execution_count": 46,
   "metadata": {
    "collapsed": false
   },
   "outputs": [
    {
     "data": {
      "text/plain": [
       "5"
      ]
     },
     "execution_count": 46,
     "metadata": {},
     "output_type": "execute_result"
    }
   ],
   "source": [
    "cursor.execute (''' SELECT `Segment` FROM `%s` \n",
    "WHERE `Date` BETWEEN '2016-01-01' AND '2016-03-31' \n",
    "AND `Trend` NOT LIKE 'Investments' AND `Trend` NOT LIKE 'Regulations' \n",
    "AND `Country` LIKE %s '''\n",
    "       %(tab,con)      )"
   ]
  },
  {
   "cell_type": "markdown",
   "metadata": {
    "collapsed": true
   },
   "source": [
    "Q2\n"
   ]
  },
  {
   "cell_type": "code",
   "execution_count": 47,
   "metadata": {
    "collapsed": false
   },
   "outputs": [
    {
     "data": {
      "text/plain": [
       "1"
      ]
     },
     "execution_count": 47,
     "metadata": {},
     "output_type": "execute_result"
    }
   ],
   "source": [
    "cursor.execute (''' SELECT `Segment` FROM `%s` \n",
    "WHERE `Date` BETWEEN '2016-04-01' AND '2016-06-31' \n",
    "AND `Trend` NOT LIKE 'Investments' AND `Trend` NOT LIKE 'Regulations' \n",
    "AND `Country` LIKE %s '''\n",
    "       %(tab,con)      )"
   ]
  },
  {
   "cell_type": "markdown",
   "metadata": {
    "collapsed": true
   },
   "source": [
    "Q3"
   ]
  },
  {
   "cell_type": "code",
   "execution_count": 48,
   "metadata": {
    "collapsed": false
   },
   "outputs": [
    {
     "data": {
      "text/plain": [
       "7"
      ]
     },
     "execution_count": 48,
     "metadata": {},
     "output_type": "execute_result"
    }
   ],
   "source": [
    "cursor.execute (''' SELECT `Segment` FROM `%s` \n",
    "WHERE `Date` BETWEEN '2016-07-01' AND '2016-09-31' \n",
    "AND `Trend` NOT LIKE 'Investments' AND `Trend` NOT LIKE 'Regulations' \n",
    "AND `Country` LIKE %s '''\n",
    "       %(tab,con)      )"
   ]
  },
  {
   "cell_type": "markdown",
   "metadata": {},
   "source": [
    "Q4"
   ]
  },
  {
   "cell_type": "code",
   "execution_count": 49,
   "metadata": {
    "collapsed": false
   },
   "outputs": [
    {
     "data": {
      "text/plain": [
       "11"
      ]
     },
     "execution_count": 49,
     "metadata": {},
     "output_type": "execute_result"
    }
   ],
   "source": [
    "cursor.execute (''' SELECT `Segment` FROM `%s` \n",
    "WHERE `Date` BETWEEN '2016-10-01' AND '2016-12-31' \n",
    "AND `Trend` NOT LIKE 'Investments' AND `Trend` NOT LIKE 'Regulations' \n",
    "AND `Country` LIKE %s '''\n",
    "       %(tab,con)      )"
   ]
  },
  {
   "cell_type": "code",
   "execution_count": null,
   "metadata": {
    "collapsed": true
   },
   "outputs": [],
   "source": []
  },
  {
   "cell_type": "code",
   "execution_count": 50,
   "metadata": {
    "collapsed": false
   },
   "outputs": [
    {
     "data": {
      "text/plain": [
       "22"
      ]
     },
     "execution_count": 50,
     "metadata": {},
     "output_type": "execute_result"
    }
   ],
   "source": [
    "cursor.execute (\" SELECT `Segment` , `Trend`  FROM `%s` WHERE `Date` BETWEEN '2016-10-01' AND '2016-12-31'AND `Country` LIKE %s  \"%(tab,con))"
   ]
  },
  {
   "cell_type": "code",
   "execution_count": 51,
   "metadata": {
    "collapsed": false
   },
   "outputs": [],
   "source": [
    "er = cursor.fetchall()"
   ]
  },
  {
   "cell_type": "code",
   "execution_count": null,
   "metadata": {
    "collapsed": false
   },
   "outputs": [],
   "source": []
  },
  {
   "cell_type": "code",
   "execution_count": null,
   "metadata": {
    "collapsed": true
   },
   "outputs": [],
   "source": []
  },
  {
   "cell_type": "code",
   "execution_count": 52,
   "metadata": {
    "collapsed": false
   },
   "outputs": [
    {
     "data": {
      "text/plain": [
       "22"
      ]
     },
     "execution_count": 52,
     "metadata": {},
     "output_type": "execute_result"
    }
   ],
   "source": [
    "cursor.execute (''' SELECT `Segment` FROM `%s` \n",
    "WHERE `Date` BETWEEN '2016-10-01' AND '2016-12-31' \n",
    " \n",
    "AND `Country` LIKE %s '''\n",
    "       %(tab,con)      )"
   ]
  },
  {
   "cell_type": "code",
   "execution_count": 53,
   "metadata": {
    "collapsed": false
   },
   "outputs": [],
   "source": [
    "t7 = cursor.fetchall()"
   ]
  },
  {
   "cell_type": "code",
   "execution_count": 54,
   "metadata": {
    "collapsed": false
   },
   "outputs": [
    {
     "name": "stdout",
     "output_type": "stream",
     "text": [
      "Payment Processing:9:39.1%\n",
      "B2B Fintech Services:4:17.4%\n",
      "Investment Advisory:4:17.4%\n",
      "Marketplace:2:8.7%\n",
      "Lending:2:8.7%\n",
      "Analytics and Management:1:4.3%\n",
      "Accelerators Incubators and Funds:1:4.3%\n"
     ]
    }
   ],
   "source": [
    "val_count(t7)"
   ]
  },
  {
   "cell_type": "code",
   "execution_count": null,
   "metadata": {
    "collapsed": true
   },
   "outputs": [],
   "source": []
  },
  {
   "cell_type": "code",
   "execution_count": 55,
   "metadata": {
    "collapsed": false
   },
   "outputs": [
    {
     "data": {
      "text/plain": [
       "22"
      ]
     },
     "execution_count": 55,
     "metadata": {},
     "output_type": "execute_result"
    }
   ],
   "source": [
    "cursor.execute (\" SELECT `Trend`  FROM `%s` WHERE `Date` BETWEEN '2016-10-01' AND '2016-12-31' AND `Country` LIKE %s  \"%(tab,con)) #Q4"
   ]
  },
  {
   "cell_type": "code",
   "execution_count": 56,
   "metadata": {
    "collapsed": true
   },
   "outputs": [],
   "source": [
    "t8 = cursor.fetchall()"
   ]
  },
  {
   "cell_type": "code",
   "execution_count": 57,
   "metadata": {
    "collapsed": false
   },
   "outputs": [
    {
     "name": "stdout",
     "output_type": "stream",
     "text": [
      "Investments:11:47.8%\n",
      "Collaboration:5:21.7%\n",
      "Expansion:5:21.7%\n",
      "New Products:2:8.7%\n"
     ]
    }
   ],
   "source": [
    "val_count(t8)"
   ]
  },
  {
   "cell_type": "code",
   "execution_count": null,
   "metadata": {
    "collapsed": true
   },
   "outputs": [],
   "source": []
  },
  {
   "cell_type": "code",
   "execution_count": null,
   "metadata": {
    "collapsed": true
   },
   "outputs": [],
   "source": []
  },
  {
   "cell_type": "code",
   "execution_count": null,
   "metadata": {
    "collapsed": true
   },
   "outputs": [],
   "source": []
  },
  {
   "cell_type": "code",
   "execution_count": null,
   "metadata": {
    "collapsed": true
   },
   "outputs": [],
   "source": []
  },
  {
   "cell_type": "code",
   "execution_count": 58,
   "metadata": {
    "collapsed": true
   },
   "outputs": [],
   "source": [
    "#cursor.close()"
   ]
  }
 ],
 "metadata": {
  "anaconda-cloud": {},
  "kernelspec": {
   "display_name": "Python [default]",
   "language": "python",
   "name": "python3"
  },
  "language_info": {
   "codemirror_mode": {
    "name": "ipython",
    "version": 3
   },
   "file_extension": ".py",
   "mimetype": "text/x-python",
   "name": "python",
   "nbconvert_exporter": "python",
   "pygments_lexer": "ipython3",
   "version": "3.5.2"
  }
 },
 "nbformat": 4,
 "nbformat_minor": 1
}
